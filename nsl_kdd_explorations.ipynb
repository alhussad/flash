{
  "cells": [
    {
      "cell_type": "markdown",
      "metadata": {
        "id": "view-in-github",
        "colab_type": "text"
      },
      "source": [
        "<a href=\"https://colab.research.google.com/github/alhussad/flash/blob/master/nsl_kdd_explorations.ipynb\" target=\"_parent\"><img src=\"https://colab.research.google.com/assets/colab-badge.svg\" alt=\"Open In Colab\"/></a>"
      ]
    },
    {
      "cell_type": "markdown",
      "metadata": {
        "papermill": {
          "duration": 0.021534,
          "end_time": "2020-08-28T13:24:56.258726",
          "exception": false,
          "start_time": "2020-08-28T13:24:56.237192",
          "status": "completed"
        },
        "tags": [],
        "id": "hLmu15z6B4v_"
      },
      "source": [
        "# NSL-KDD dataset Exploration"
      ]
    },
    {
      "cell_type": "code",
      "source": [
        "from google.colab import drive\n",
        "drive.mount('/content/gdrive/')"
      ],
      "metadata": {
        "colab": {
          "base_uri": "https://localhost:8080/"
        },
        "id": "g9AUttaMCe4k",
        "outputId": "2a46f33c-2602-4035-af92-4dfd2e9fec64"
      },
      "execution_count": 1,
      "outputs": [
        {
          "output_type": "stream",
          "name": "stdout",
          "text": [
            "Mounted at /content/gdrive/\n"
          ]
        }
      ]
    },
    {
      "cell_type": "code",
      "execution_count": 2,
      "metadata": {
        "_cell_guid": "b1076dfc-b9ad-4769-8c92-a6c4dae69d19",
        "_uuid": "8f2839f25d086af736a60e9eeb907d3b93b6e0e5",
        "papermill": {
          "duration": 1.560945,
          "end_time": "2020-08-28T13:24:57.837647",
          "exception": false,
          "start_time": "2020-08-28T13:24:56.276702",
          "status": "completed"
        },
        "tags": [],
        "id": "rQMo38gLB4wC"
      },
      "outputs": [],
      "source": [
        "# module imports\n",
        "import numpy as np \n",
        "import pandas as pd \n",
        "import matplotlib.pyplot as plt\n",
        "import seaborn as sns\n",
        "import itertools\n",
        "import random\n",
        "\n",
        "# model imports\n",
        "from sklearn.ensemble import RandomForestClassifier\n",
        "from sklearn.neighbors import KNeighborsClassifier\n",
        "from sklearn.linear_model import LogisticRegression\n",
        "\n",
        "# processing imports\n",
        "from sklearn.preprocessing import LabelEncoder\n",
        "from sklearn.model_selection import train_test_split\n",
        "from sklearn.model_selection import cross_val_score\n",
        "from sklearn.metrics import mean_absolute_error\n",
        "from sklearn.metrics import accuracy_score\n",
        "from sklearn.metrics import confusion_matrix"
      ]
    },
    {
      "cell_type": "markdown",
      "metadata": {
        "papermill": {
          "duration": 0.019529,
          "end_time": "2020-08-28T13:24:57.876570",
          "exception": false,
          "start_time": "2020-08-28T13:24:57.857041",
          "status": "completed"
        },
        "tags": [],
        "id": "kpUZgBrJB4wE"
      },
      "source": [
        "# Data extraction"
      ]
    },
    {
      "cell_type": "code",
      "execution_count": 3,
      "metadata": {
        "_cell_guid": "79c7e3d0-c299-4dcb-8224-4455121ee9b0",
        "_uuid": "d629ff2d2480ee46fbb7e2d37f6b5fab8052498a",
        "papermill": {
          "duration": 0.781012,
          "end_time": "2020-08-28T13:24:58.676101",
          "exception": false,
          "start_time": "2020-08-28T13:24:57.895089",
          "status": "completed"
        },
        "tags": [],
        "id": "UPZXmjkpB4wE"
      },
      "outputs": [],
      "source": [
        "# fetch the training file\n",
        "file_path_20_percent = '/content/gdrive/My Drive/Dissertation/Codes/KDDTrain+_20Percent.txt'\n",
        "file_path_full_training_set = '/content/gdrive/My Drive/Dissertation/Codes/KDDTrain+.txt'\n",
        "file_path_test = '/content/gdrive/My Drive/Dissertation/Codes/KDDTest+.txt' \n",
        "\n",
        "#df = pd.read_csv(file_path_20_percent)\n",
        "df = pd.read_csv(file_path_full_training_set)\n",
        "test_df = pd.read_csv(file_path_test)"
      ]
    },
    {
      "cell_type": "code",
      "source": [
        "#training_data, testing_data = train_test_split(df, test_size=0.2, random_state=25)"
      ],
      "metadata": {
        "id": "GLW8dXKTytTO"
      },
      "execution_count": null,
      "outputs": []
    },
    {
      "cell_type": "markdown",
      "metadata": {
        "papermill": {
          "duration": 0.017666,
          "end_time": "2020-08-28T13:24:58.711069",
          "exception": false,
          "start_time": "2020-08-28T13:24:58.693403",
          "status": "completed"
        },
        "tags": [],
        "id": "skeKFAqxB4wF"
      },
      "source": [
        "Adding Column names"
      ]
    },
    {
      "cell_type": "code",
      "execution_count": 4,
      "metadata": {
        "papermill": {
          "duration": 0.067748,
          "end_time": "2020-08-28T13:24:58.795902",
          "exception": false,
          "start_time": "2020-08-28T13:24:58.728154",
          "status": "completed"
        },
        "tags": [],
        "colab": {
          "base_uri": "https://localhost:8080/",
          "height": 299
        },
        "id": "VjFk92A0B4wG",
        "outputId": "41c263a0-b62d-4235-e416-ef8b4a8f2abc"
      },
      "outputs": [
        {
          "output_type": "execute_result",
          "data": {
            "text/plain": [
              "   duration protocol_type  service flag  src_bytes  dst_bytes  land  \\\n",
              "0         0           udp    other   SF        146          0     0   \n",
              "1         0           tcp  private   S0          0          0     0   \n",
              "2         0           tcp     http   SF        232       8153     0   \n",
              "3         0           tcp     http   SF        199        420     0   \n",
              "4         0           tcp  private  REJ          0          0     0   \n",
              "\n",
              "   wrong_fragment  urgent  hot  ...  dst_host_same_srv_rate  \\\n",
              "0               0       0    0  ...                    0.00   \n",
              "1               0       0    0  ...                    0.10   \n",
              "2               0       0    0  ...                    1.00   \n",
              "3               0       0    0  ...                    1.00   \n",
              "4               0       0    0  ...                    0.07   \n",
              "\n",
              "   dst_host_diff_srv_rate  dst_host_same_src_port_rate  \\\n",
              "0                    0.60                         0.88   \n",
              "1                    0.05                         0.00   \n",
              "2                    0.00                         0.03   \n",
              "3                    0.00                         0.00   \n",
              "4                    0.07                         0.00   \n",
              "\n",
              "   dst_host_srv_diff_host_rate  dst_host_serror_rate  \\\n",
              "0                         0.00                  0.00   \n",
              "1                         0.00                  1.00   \n",
              "2                         0.04                  0.03   \n",
              "3                         0.00                  0.00   \n",
              "4                         0.00                  0.00   \n",
              "\n",
              "   dst_host_srv_serror_rate  dst_host_rerror_rate  dst_host_srv_rerror_rate  \\\n",
              "0                      0.00                   0.0                      0.00   \n",
              "1                      1.00                   0.0                      0.00   \n",
              "2                      0.01                   0.0                      0.01   \n",
              "3                      0.00                   0.0                      0.00   \n",
              "4                      0.00                   1.0                      1.00   \n",
              "\n",
              "    attack  level  \n",
              "0   normal     15  \n",
              "1  neptune     19  \n",
              "2   normal     21  \n",
              "3   normal     21  \n",
              "4  neptune     21  \n",
              "\n",
              "[5 rows x 43 columns]"
            ],
            "text/html": [
              "\n",
              "  <div id=\"df-8c22eb44-8841-41d5-beed-8e6845843e2c\">\n",
              "    <div class=\"colab-df-container\">\n",
              "      <div>\n",
              "<style scoped>\n",
              "    .dataframe tbody tr th:only-of-type {\n",
              "        vertical-align: middle;\n",
              "    }\n",
              "\n",
              "    .dataframe tbody tr th {\n",
              "        vertical-align: top;\n",
              "    }\n",
              "\n",
              "    .dataframe thead th {\n",
              "        text-align: right;\n",
              "    }\n",
              "</style>\n",
              "<table border=\"1\" class=\"dataframe\">\n",
              "  <thead>\n",
              "    <tr style=\"text-align: right;\">\n",
              "      <th></th>\n",
              "      <th>duration</th>\n",
              "      <th>protocol_type</th>\n",
              "      <th>service</th>\n",
              "      <th>flag</th>\n",
              "      <th>src_bytes</th>\n",
              "      <th>dst_bytes</th>\n",
              "      <th>land</th>\n",
              "      <th>wrong_fragment</th>\n",
              "      <th>urgent</th>\n",
              "      <th>hot</th>\n",
              "      <th>...</th>\n",
              "      <th>dst_host_same_srv_rate</th>\n",
              "      <th>dst_host_diff_srv_rate</th>\n",
              "      <th>dst_host_same_src_port_rate</th>\n",
              "      <th>dst_host_srv_diff_host_rate</th>\n",
              "      <th>dst_host_serror_rate</th>\n",
              "      <th>dst_host_srv_serror_rate</th>\n",
              "      <th>dst_host_rerror_rate</th>\n",
              "      <th>dst_host_srv_rerror_rate</th>\n",
              "      <th>attack</th>\n",
              "      <th>level</th>\n",
              "    </tr>\n",
              "  </thead>\n",
              "  <tbody>\n",
              "    <tr>\n",
              "      <th>0</th>\n",
              "      <td>0</td>\n",
              "      <td>udp</td>\n",
              "      <td>other</td>\n",
              "      <td>SF</td>\n",
              "      <td>146</td>\n",
              "      <td>0</td>\n",
              "      <td>0</td>\n",
              "      <td>0</td>\n",
              "      <td>0</td>\n",
              "      <td>0</td>\n",
              "      <td>...</td>\n",
              "      <td>0.00</td>\n",
              "      <td>0.60</td>\n",
              "      <td>0.88</td>\n",
              "      <td>0.00</td>\n",
              "      <td>0.00</td>\n",
              "      <td>0.00</td>\n",
              "      <td>0.0</td>\n",
              "      <td>0.00</td>\n",
              "      <td>normal</td>\n",
              "      <td>15</td>\n",
              "    </tr>\n",
              "    <tr>\n",
              "      <th>1</th>\n",
              "      <td>0</td>\n",
              "      <td>tcp</td>\n",
              "      <td>private</td>\n",
              "      <td>S0</td>\n",
              "      <td>0</td>\n",
              "      <td>0</td>\n",
              "      <td>0</td>\n",
              "      <td>0</td>\n",
              "      <td>0</td>\n",
              "      <td>0</td>\n",
              "      <td>...</td>\n",
              "      <td>0.10</td>\n",
              "      <td>0.05</td>\n",
              "      <td>0.00</td>\n",
              "      <td>0.00</td>\n",
              "      <td>1.00</td>\n",
              "      <td>1.00</td>\n",
              "      <td>0.0</td>\n",
              "      <td>0.00</td>\n",
              "      <td>neptune</td>\n",
              "      <td>19</td>\n",
              "    </tr>\n",
              "    <tr>\n",
              "      <th>2</th>\n",
              "      <td>0</td>\n",
              "      <td>tcp</td>\n",
              "      <td>http</td>\n",
              "      <td>SF</td>\n",
              "      <td>232</td>\n",
              "      <td>8153</td>\n",
              "      <td>0</td>\n",
              "      <td>0</td>\n",
              "      <td>0</td>\n",
              "      <td>0</td>\n",
              "      <td>...</td>\n",
              "      <td>1.00</td>\n",
              "      <td>0.00</td>\n",
              "      <td>0.03</td>\n",
              "      <td>0.04</td>\n",
              "      <td>0.03</td>\n",
              "      <td>0.01</td>\n",
              "      <td>0.0</td>\n",
              "      <td>0.01</td>\n",
              "      <td>normal</td>\n",
              "      <td>21</td>\n",
              "    </tr>\n",
              "    <tr>\n",
              "      <th>3</th>\n",
              "      <td>0</td>\n",
              "      <td>tcp</td>\n",
              "      <td>http</td>\n",
              "      <td>SF</td>\n",
              "      <td>199</td>\n",
              "      <td>420</td>\n",
              "      <td>0</td>\n",
              "      <td>0</td>\n",
              "      <td>0</td>\n",
              "      <td>0</td>\n",
              "      <td>...</td>\n",
              "      <td>1.00</td>\n",
              "      <td>0.00</td>\n",
              "      <td>0.00</td>\n",
              "      <td>0.00</td>\n",
              "      <td>0.00</td>\n",
              "      <td>0.00</td>\n",
              "      <td>0.0</td>\n",
              "      <td>0.00</td>\n",
              "      <td>normal</td>\n",
              "      <td>21</td>\n",
              "    </tr>\n",
              "    <tr>\n",
              "      <th>4</th>\n",
              "      <td>0</td>\n",
              "      <td>tcp</td>\n",
              "      <td>private</td>\n",
              "      <td>REJ</td>\n",
              "      <td>0</td>\n",
              "      <td>0</td>\n",
              "      <td>0</td>\n",
              "      <td>0</td>\n",
              "      <td>0</td>\n",
              "      <td>0</td>\n",
              "      <td>...</td>\n",
              "      <td>0.07</td>\n",
              "      <td>0.07</td>\n",
              "      <td>0.00</td>\n",
              "      <td>0.00</td>\n",
              "      <td>0.00</td>\n",
              "      <td>0.00</td>\n",
              "      <td>1.0</td>\n",
              "      <td>1.00</td>\n",
              "      <td>neptune</td>\n",
              "      <td>21</td>\n",
              "    </tr>\n",
              "  </tbody>\n",
              "</table>\n",
              "<p>5 rows × 43 columns</p>\n",
              "</div>\n",
              "      <button class=\"colab-df-convert\" onclick=\"convertToInteractive('df-8c22eb44-8841-41d5-beed-8e6845843e2c')\"\n",
              "              title=\"Convert this dataframe to an interactive table.\"\n",
              "              style=\"display:none;\">\n",
              "        \n",
              "  <svg xmlns=\"http://www.w3.org/2000/svg\" height=\"24px\"viewBox=\"0 0 24 24\"\n",
              "       width=\"24px\">\n",
              "    <path d=\"M0 0h24v24H0V0z\" fill=\"none\"/>\n",
              "    <path d=\"M18.56 5.44l.94 2.06.94-2.06 2.06-.94-2.06-.94-.94-2.06-.94 2.06-2.06.94zm-11 1L8.5 8.5l.94-2.06 2.06-.94-2.06-.94L8.5 2.5l-.94 2.06-2.06.94zm10 10l.94 2.06.94-2.06 2.06-.94-2.06-.94-.94-2.06-.94 2.06-2.06.94z\"/><path d=\"M17.41 7.96l-1.37-1.37c-.4-.4-.92-.59-1.43-.59-.52 0-1.04.2-1.43.59L10.3 9.45l-7.72 7.72c-.78.78-.78 2.05 0 2.83L4 21.41c.39.39.9.59 1.41.59.51 0 1.02-.2 1.41-.59l7.78-7.78 2.81-2.81c.8-.78.8-2.07 0-2.86zM5.41 20L4 18.59l7.72-7.72 1.47 1.35L5.41 20z\"/>\n",
              "  </svg>\n",
              "      </button>\n",
              "      \n",
              "  <style>\n",
              "    .colab-df-container {\n",
              "      display:flex;\n",
              "      flex-wrap:wrap;\n",
              "      gap: 12px;\n",
              "    }\n",
              "\n",
              "    .colab-df-convert {\n",
              "      background-color: #E8F0FE;\n",
              "      border: none;\n",
              "      border-radius: 50%;\n",
              "      cursor: pointer;\n",
              "      display: none;\n",
              "      fill: #1967D2;\n",
              "      height: 32px;\n",
              "      padding: 0 0 0 0;\n",
              "      width: 32px;\n",
              "    }\n",
              "\n",
              "    .colab-df-convert:hover {\n",
              "      background-color: #E2EBFA;\n",
              "      box-shadow: 0px 1px 2px rgba(60, 64, 67, 0.3), 0px 1px 3px 1px rgba(60, 64, 67, 0.15);\n",
              "      fill: #174EA6;\n",
              "    }\n",
              "\n",
              "    [theme=dark] .colab-df-convert {\n",
              "      background-color: #3B4455;\n",
              "      fill: #D2E3FC;\n",
              "    }\n",
              "\n",
              "    [theme=dark] .colab-df-convert:hover {\n",
              "      background-color: #434B5C;\n",
              "      box-shadow: 0px 1px 3px 1px rgba(0, 0, 0, 0.15);\n",
              "      filter: drop-shadow(0px 1px 2px rgba(0, 0, 0, 0.3));\n",
              "      fill: #FFFFFF;\n",
              "    }\n",
              "  </style>\n",
              "\n",
              "      <script>\n",
              "        const buttonEl =\n",
              "          document.querySelector('#df-8c22eb44-8841-41d5-beed-8e6845843e2c button.colab-df-convert');\n",
              "        buttonEl.style.display =\n",
              "          google.colab.kernel.accessAllowed ? 'block' : 'none';\n",
              "\n",
              "        async function convertToInteractive(key) {\n",
              "          const element = document.querySelector('#df-8c22eb44-8841-41d5-beed-8e6845843e2c');\n",
              "          const dataTable =\n",
              "            await google.colab.kernel.invokeFunction('convertToInteractive',\n",
              "                                                     [key], {});\n",
              "          if (!dataTable) return;\n",
              "\n",
              "          const docLinkHtml = 'Like what you see? Visit the ' +\n",
              "            '<a target=\"_blank\" href=https://colab.research.google.com/notebooks/data_table.ipynb>data table notebook</a>'\n",
              "            + ' to learn more about interactive tables.';\n",
              "          element.innerHTML = '';\n",
              "          dataTable['output_type'] = 'display_data';\n",
              "          await google.colab.output.renderOutput(dataTable, element);\n",
              "          const docLink = document.createElement('div');\n",
              "          docLink.innerHTML = docLinkHtml;\n",
              "          element.appendChild(docLink);\n",
              "        }\n",
              "      </script>\n",
              "    </div>\n",
              "  </div>\n",
              "  "
            ]
          },
          "metadata": {},
          "execution_count": 4
        }
      ],
      "source": [
        "# add the column labels\n",
        "columns = (['duration'\n",
        ",'protocol_type'\n",
        ",'service'\n",
        ",'flag'\n",
        ",'src_bytes'\n",
        ",'dst_bytes'\n",
        ",'land'\n",
        ",'wrong_fragment'\n",
        ",'urgent'\n",
        ",'hot'\n",
        ",'num_failed_logins'\n",
        ",'logged_in'\n",
        ",'num_compromised'\n",
        ",'root_shell'\n",
        ",'su_attempted'\n",
        ",'num_root'\n",
        ",'num_file_creations'\n",
        ",'num_shells'\n",
        ",'num_access_files'\n",
        ",'num_outbound_cmds'\n",
        ",'is_host_login'\n",
        ",'is_guest_login'\n",
        ",'count'\n",
        ",'srv_count'\n",
        ",'serror_rate'\n",
        ",'srv_serror_rate'\n",
        ",'rerror_rate'\n",
        ",'srv_rerror_rate'\n",
        ",'same_srv_rate'\n",
        ",'diff_srv_rate'\n",
        ",'srv_diff_host_rate'\n",
        ",'dst_host_count'\n",
        ",'dst_host_srv_count'\n",
        ",'dst_host_same_srv_rate'\n",
        ",'dst_host_diff_srv_rate'\n",
        ",'dst_host_same_src_port_rate'\n",
        ",'dst_host_srv_diff_host_rate'\n",
        ",'dst_host_serror_rate'\n",
        ",'dst_host_srv_serror_rate'\n",
        ",'dst_host_rerror_rate'\n",
        ",'dst_host_srv_rerror_rate'\n",
        ",'attack'\n",
        ",'level'])\n",
        "\n",
        "df.columns = columns\n",
        "test_df.columns = columns\n",
        "\n",
        "# sanity check\n",
        "df.head()"
      ]
    },
    {
      "cell_type": "code",
      "execution_count": 5,
      "metadata": {
        "colab": {
          "base_uri": "https://localhost:8080/"
        },
        "id": "zYknJ-OmB4wI",
        "outputId": "5b80548e-73ff-463c-cfe3-f073aaadf5b6"
      },
      "outputs": [
        {
          "output_type": "execute_result",
          "data": {
            "text/plain": [
              "normal             67342\n",
              "neptune            41214\n",
              "satan               3633\n",
              "ipsweep             3599\n",
              "portsweep           2931\n",
              "smurf               2646\n",
              "nmap                1493\n",
              "back                 956\n",
              "teardrop             892\n",
              "warezclient          890\n",
              "pod                  201\n",
              "guess_passwd          53\n",
              "buffer_overflow       30\n",
              "warezmaster           20\n",
              "land                  18\n",
              "imap                  11\n",
              "rootkit               10\n",
              "loadmodule             9\n",
              "ftp_write              8\n",
              "multihop               7\n",
              "phf                    4\n",
              "perl                   3\n",
              "spy                    2\n",
              "Name: attack, dtype: int64"
            ]
          },
          "metadata": {},
          "execution_count": 5
        }
      ],
      "source": [
        "df.attack.value_counts()\n",
        "# df.attack.nunique()"
      ]
    },
    {
      "cell_type": "markdown",
      "metadata": {
        "papermill": {
          "duration": 0.017094,
          "end_time": "2020-08-28T13:24:58.830627",
          "exception": false,
          "start_time": "2020-08-28T13:24:58.813533",
          "status": "completed"
        },
        "tags": [],
        "id": "8DrLqRb6B4wI"
      },
      "source": [
        "# Data transformations\n",
        "The first transformations that we'll want to do are around the attack field. We'll start by adding a column that encodes 'normal' values as 0 and any other value as 1. We will use this as our classifier for a simple binary model that idenfities any attack. "
      ]
    },
    {
      "cell_type": "code",
      "execution_count": 6,
      "metadata": {
        "papermill": {
          "duration": 0.170543,
          "end_time": "2020-08-28T13:24:59.018616",
          "exception": false,
          "start_time": "2020-08-28T13:24:58.848073",
          "status": "completed"
        },
        "tags": [],
        "colab": {
          "base_uri": "https://localhost:8080/",
          "height": 299
        },
        "id": "S2P189PeB4wJ",
        "outputId": "8e0a817f-fd8e-4497-a6c4-92dc8ff74d82"
      },
      "outputs": [
        {
          "output_type": "execute_result",
          "data": {
            "text/plain": [
              "   duration protocol_type  service flag  src_bytes  dst_bytes  land  \\\n",
              "0         0           udp    other   SF        146          0     0   \n",
              "1         0           tcp  private   S0          0          0     0   \n",
              "2         0           tcp     http   SF        232       8153     0   \n",
              "3         0           tcp     http   SF        199        420     0   \n",
              "4         0           tcp  private  REJ          0          0     0   \n",
              "\n",
              "   wrong_fragment  urgent  hot  ...  dst_host_diff_srv_rate  \\\n",
              "0               0       0    0  ...                    0.60   \n",
              "1               0       0    0  ...                    0.05   \n",
              "2               0       0    0  ...                    0.00   \n",
              "3               0       0    0  ...                    0.00   \n",
              "4               0       0    0  ...                    0.07   \n",
              "\n",
              "   dst_host_same_src_port_rate  dst_host_srv_diff_host_rate  \\\n",
              "0                         0.88                         0.00   \n",
              "1                         0.00                         0.00   \n",
              "2                         0.03                         0.04   \n",
              "3                         0.00                         0.00   \n",
              "4                         0.00                         0.00   \n",
              "\n",
              "   dst_host_serror_rate  dst_host_srv_serror_rate  dst_host_rerror_rate  \\\n",
              "0                  0.00                      0.00                   0.0   \n",
              "1                  1.00                      1.00                   0.0   \n",
              "2                  0.03                      0.01                   0.0   \n",
              "3                  0.00                      0.00                   0.0   \n",
              "4                  0.00                      0.00                   1.0   \n",
              "\n",
              "   dst_host_srv_rerror_rate   attack  level  attack_flag  \n",
              "0                      0.00   normal     15            0  \n",
              "1                      0.00  neptune     19            1  \n",
              "2                      0.01   normal     21            0  \n",
              "3                      0.00   normal     21            0  \n",
              "4                      1.00  neptune     21            1  \n",
              "\n",
              "[5 rows x 44 columns]"
            ],
            "text/html": [
              "\n",
              "  <div id=\"df-118bcee1-b753-4701-a0ff-ed9339e5326b\">\n",
              "    <div class=\"colab-df-container\">\n",
              "      <div>\n",
              "<style scoped>\n",
              "    .dataframe tbody tr th:only-of-type {\n",
              "        vertical-align: middle;\n",
              "    }\n",
              "\n",
              "    .dataframe tbody tr th {\n",
              "        vertical-align: top;\n",
              "    }\n",
              "\n",
              "    .dataframe thead th {\n",
              "        text-align: right;\n",
              "    }\n",
              "</style>\n",
              "<table border=\"1\" class=\"dataframe\">\n",
              "  <thead>\n",
              "    <tr style=\"text-align: right;\">\n",
              "      <th></th>\n",
              "      <th>duration</th>\n",
              "      <th>protocol_type</th>\n",
              "      <th>service</th>\n",
              "      <th>flag</th>\n",
              "      <th>src_bytes</th>\n",
              "      <th>dst_bytes</th>\n",
              "      <th>land</th>\n",
              "      <th>wrong_fragment</th>\n",
              "      <th>urgent</th>\n",
              "      <th>hot</th>\n",
              "      <th>...</th>\n",
              "      <th>dst_host_diff_srv_rate</th>\n",
              "      <th>dst_host_same_src_port_rate</th>\n",
              "      <th>dst_host_srv_diff_host_rate</th>\n",
              "      <th>dst_host_serror_rate</th>\n",
              "      <th>dst_host_srv_serror_rate</th>\n",
              "      <th>dst_host_rerror_rate</th>\n",
              "      <th>dst_host_srv_rerror_rate</th>\n",
              "      <th>attack</th>\n",
              "      <th>level</th>\n",
              "      <th>attack_flag</th>\n",
              "    </tr>\n",
              "  </thead>\n",
              "  <tbody>\n",
              "    <tr>\n",
              "      <th>0</th>\n",
              "      <td>0</td>\n",
              "      <td>udp</td>\n",
              "      <td>other</td>\n",
              "      <td>SF</td>\n",
              "      <td>146</td>\n",
              "      <td>0</td>\n",
              "      <td>0</td>\n",
              "      <td>0</td>\n",
              "      <td>0</td>\n",
              "      <td>0</td>\n",
              "      <td>...</td>\n",
              "      <td>0.60</td>\n",
              "      <td>0.88</td>\n",
              "      <td>0.00</td>\n",
              "      <td>0.00</td>\n",
              "      <td>0.00</td>\n",
              "      <td>0.0</td>\n",
              "      <td>0.00</td>\n",
              "      <td>normal</td>\n",
              "      <td>15</td>\n",
              "      <td>0</td>\n",
              "    </tr>\n",
              "    <tr>\n",
              "      <th>1</th>\n",
              "      <td>0</td>\n",
              "      <td>tcp</td>\n",
              "      <td>private</td>\n",
              "      <td>S0</td>\n",
              "      <td>0</td>\n",
              "      <td>0</td>\n",
              "      <td>0</td>\n",
              "      <td>0</td>\n",
              "      <td>0</td>\n",
              "      <td>0</td>\n",
              "      <td>...</td>\n",
              "      <td>0.05</td>\n",
              "      <td>0.00</td>\n",
              "      <td>0.00</td>\n",
              "      <td>1.00</td>\n",
              "      <td>1.00</td>\n",
              "      <td>0.0</td>\n",
              "      <td>0.00</td>\n",
              "      <td>neptune</td>\n",
              "      <td>19</td>\n",
              "      <td>1</td>\n",
              "    </tr>\n",
              "    <tr>\n",
              "      <th>2</th>\n",
              "      <td>0</td>\n",
              "      <td>tcp</td>\n",
              "      <td>http</td>\n",
              "      <td>SF</td>\n",
              "      <td>232</td>\n",
              "      <td>8153</td>\n",
              "      <td>0</td>\n",
              "      <td>0</td>\n",
              "      <td>0</td>\n",
              "      <td>0</td>\n",
              "      <td>...</td>\n",
              "      <td>0.00</td>\n",
              "      <td>0.03</td>\n",
              "      <td>0.04</td>\n",
              "      <td>0.03</td>\n",
              "      <td>0.01</td>\n",
              "      <td>0.0</td>\n",
              "      <td>0.01</td>\n",
              "      <td>normal</td>\n",
              "      <td>21</td>\n",
              "      <td>0</td>\n",
              "    </tr>\n",
              "    <tr>\n",
              "      <th>3</th>\n",
              "      <td>0</td>\n",
              "      <td>tcp</td>\n",
              "      <td>http</td>\n",
              "      <td>SF</td>\n",
              "      <td>199</td>\n",
              "      <td>420</td>\n",
              "      <td>0</td>\n",
              "      <td>0</td>\n",
              "      <td>0</td>\n",
              "      <td>0</td>\n",
              "      <td>...</td>\n",
              "      <td>0.00</td>\n",
              "      <td>0.00</td>\n",
              "      <td>0.00</td>\n",
              "      <td>0.00</td>\n",
              "      <td>0.00</td>\n",
              "      <td>0.0</td>\n",
              "      <td>0.00</td>\n",
              "      <td>normal</td>\n",
              "      <td>21</td>\n",
              "      <td>0</td>\n",
              "    </tr>\n",
              "    <tr>\n",
              "      <th>4</th>\n",
              "      <td>0</td>\n",
              "      <td>tcp</td>\n",
              "      <td>private</td>\n",
              "      <td>REJ</td>\n",
              "      <td>0</td>\n",
              "      <td>0</td>\n",
              "      <td>0</td>\n",
              "      <td>0</td>\n",
              "      <td>0</td>\n",
              "      <td>0</td>\n",
              "      <td>...</td>\n",
              "      <td>0.07</td>\n",
              "      <td>0.00</td>\n",
              "      <td>0.00</td>\n",
              "      <td>0.00</td>\n",
              "      <td>0.00</td>\n",
              "      <td>1.0</td>\n",
              "      <td>1.00</td>\n",
              "      <td>neptune</td>\n",
              "      <td>21</td>\n",
              "      <td>1</td>\n",
              "    </tr>\n",
              "  </tbody>\n",
              "</table>\n",
              "<p>5 rows × 44 columns</p>\n",
              "</div>\n",
              "      <button class=\"colab-df-convert\" onclick=\"convertToInteractive('df-118bcee1-b753-4701-a0ff-ed9339e5326b')\"\n",
              "              title=\"Convert this dataframe to an interactive table.\"\n",
              "              style=\"display:none;\">\n",
              "        \n",
              "  <svg xmlns=\"http://www.w3.org/2000/svg\" height=\"24px\"viewBox=\"0 0 24 24\"\n",
              "       width=\"24px\">\n",
              "    <path d=\"M0 0h24v24H0V0z\" fill=\"none\"/>\n",
              "    <path d=\"M18.56 5.44l.94 2.06.94-2.06 2.06-.94-2.06-.94-.94-2.06-.94 2.06-2.06.94zm-11 1L8.5 8.5l.94-2.06 2.06-.94-2.06-.94L8.5 2.5l-.94 2.06-2.06.94zm10 10l.94 2.06.94-2.06 2.06-.94-2.06-.94-.94-2.06-.94 2.06-2.06.94z\"/><path d=\"M17.41 7.96l-1.37-1.37c-.4-.4-.92-.59-1.43-.59-.52 0-1.04.2-1.43.59L10.3 9.45l-7.72 7.72c-.78.78-.78 2.05 0 2.83L4 21.41c.39.39.9.59 1.41.59.51 0 1.02-.2 1.41-.59l7.78-7.78 2.81-2.81c.8-.78.8-2.07 0-2.86zM5.41 20L4 18.59l7.72-7.72 1.47 1.35L5.41 20z\"/>\n",
              "  </svg>\n",
              "      </button>\n",
              "      \n",
              "  <style>\n",
              "    .colab-df-container {\n",
              "      display:flex;\n",
              "      flex-wrap:wrap;\n",
              "      gap: 12px;\n",
              "    }\n",
              "\n",
              "    .colab-df-convert {\n",
              "      background-color: #E8F0FE;\n",
              "      border: none;\n",
              "      border-radius: 50%;\n",
              "      cursor: pointer;\n",
              "      display: none;\n",
              "      fill: #1967D2;\n",
              "      height: 32px;\n",
              "      padding: 0 0 0 0;\n",
              "      width: 32px;\n",
              "    }\n",
              "\n",
              "    .colab-df-convert:hover {\n",
              "      background-color: #E2EBFA;\n",
              "      box-shadow: 0px 1px 2px rgba(60, 64, 67, 0.3), 0px 1px 3px 1px rgba(60, 64, 67, 0.15);\n",
              "      fill: #174EA6;\n",
              "    }\n",
              "\n",
              "    [theme=dark] .colab-df-convert {\n",
              "      background-color: #3B4455;\n",
              "      fill: #D2E3FC;\n",
              "    }\n",
              "\n",
              "    [theme=dark] .colab-df-convert:hover {\n",
              "      background-color: #434B5C;\n",
              "      box-shadow: 0px 1px 3px 1px rgba(0, 0, 0, 0.15);\n",
              "      filter: drop-shadow(0px 1px 2px rgba(0, 0, 0, 0.3));\n",
              "      fill: #FFFFFF;\n",
              "    }\n",
              "  </style>\n",
              "\n",
              "      <script>\n",
              "        const buttonEl =\n",
              "          document.querySelector('#df-118bcee1-b753-4701-a0ff-ed9339e5326b button.colab-df-convert');\n",
              "        buttonEl.style.display =\n",
              "          google.colab.kernel.accessAllowed ? 'block' : 'none';\n",
              "\n",
              "        async function convertToInteractive(key) {\n",
              "          const element = document.querySelector('#df-118bcee1-b753-4701-a0ff-ed9339e5326b');\n",
              "          const dataTable =\n",
              "            await google.colab.kernel.invokeFunction('convertToInteractive',\n",
              "                                                     [key], {});\n",
              "          if (!dataTable) return;\n",
              "\n",
              "          const docLinkHtml = 'Like what you see? Visit the ' +\n",
              "            '<a target=\"_blank\" href=https://colab.research.google.com/notebooks/data_table.ipynb>data table notebook</a>'\n",
              "            + ' to learn more about interactive tables.';\n",
              "          element.innerHTML = '';\n",
              "          dataTable['output_type'] = 'display_data';\n",
              "          await google.colab.output.renderOutput(dataTable, element);\n",
              "          const docLink = document.createElement('div');\n",
              "          docLink.innerHTML = docLinkHtml;\n",
              "          element.appendChild(docLink);\n",
              "        }\n",
              "      </script>\n",
              "    </div>\n",
              "  </div>\n",
              "  "
            ]
          },
          "metadata": {},
          "execution_count": 6
        }
      ],
      "source": [
        "# map normal to 0, all attacks to 1\n",
        "is_attack = df.attack.map(lambda a: 0 if a == 'normal' else 1)\n",
        "test_attack = test_df.attack.map(lambda a: 0 if a == 'normal' else 1)\n",
        "\n",
        "#data_with_attack = df.join(is_attack, rsuffix='_flag')\n",
        "df['attack_flag'] = is_attack\n",
        "test_df['attack_flag'] = test_attack\n",
        "\n",
        "# view the result\n",
        "df.head()"
      ]
    },
    {
      "cell_type": "markdown",
      "metadata": {
        "papermill": {
          "duration": 0.017679,
          "end_time": "2020-08-28T13:24:59.054579",
          "exception": false,
          "start_time": "2020-08-28T13:24:59.036900",
          "status": "completed"
        },
        "tags": [],
        "id": "zLx1CUEaB4wK"
      },
      "source": [
        "Next, we'll classify each of the attacks according to attack type for a more granular prediction model. \n",
        "* Denial of Service attacks:\n",
        "  * apache2\n",
        "  * back\n",
        "  * land\n",
        "  * neptune\n",
        "  * mailbomb\n",
        "  * pod\n",
        "  * processtable\n",
        "  * smurf\n",
        "  * teardrop\n",
        "  * udpstorm\n",
        "  * worm\n",
        "* Probe attacks:\n",
        "  * ipsweep\n",
        "  * mscan\n",
        "  * nmap\n",
        "  * portsweep\n",
        "  * saint\n",
        "  * satan\n",
        "* Privilege escalation attacks\n",
        "  * buffer_overflow\n",
        "  * loadmdoule\n",
        "  * perl\n",
        "  * ps\n",
        "  * rootkit\n",
        "  * sqlattack\n",
        "  * xterm\n",
        "* Remote access attacks\n",
        "  * ftp_write\n",
        "  * guess_passwd\n",
        "  * http_tunnel\n",
        "  * imap\n",
        "  * multihop\n",
        "  * named\n",
        "  * phf\n",
        "  * sendmail\n",
        "  * snmpgetattack\n",
        "  * snmpguess\n",
        "  * spy\n",
        "  * warezclient\n",
        "  * warezmaster\n",
        "  * xclock\n",
        "  * xsnoop"
      ]
    },
    {
      "cell_type": "code",
      "execution_count": 7,
      "metadata": {
        "papermill": {
          "duration": 0.249594,
          "end_time": "2020-08-28T13:24:59.322736",
          "exception": false,
          "start_time": "2020-08-28T13:24:59.073142",
          "status": "completed"
        },
        "tags": [],
        "colab": {
          "base_uri": "https://localhost:8080/",
          "height": 299
        },
        "id": "8DghPGkvB4wL",
        "outputId": "4bdf8023-98fb-4e21-fd6b-c5c64d9dfbbb"
      },
      "outputs": [
        {
          "output_type": "execute_result",
          "data": {
            "text/plain": [
              "   duration protocol_type  service flag  src_bytes  dst_bytes  land  \\\n",
              "0         0           udp    other   SF        146          0     0   \n",
              "1         0           tcp  private   S0          0          0     0   \n",
              "2         0           tcp     http   SF        232       8153     0   \n",
              "3         0           tcp     http   SF        199        420     0   \n",
              "4         0           tcp  private  REJ          0          0     0   \n",
              "\n",
              "   wrong_fragment  urgent  hot  ...  dst_host_same_src_port_rate  \\\n",
              "0               0       0    0  ...                         0.88   \n",
              "1               0       0    0  ...                         0.00   \n",
              "2               0       0    0  ...                         0.03   \n",
              "3               0       0    0  ...                         0.00   \n",
              "4               0       0    0  ...                         0.00   \n",
              "\n",
              "   dst_host_srv_diff_host_rate  dst_host_serror_rate  \\\n",
              "0                         0.00                  0.00   \n",
              "1                         0.00                  1.00   \n",
              "2                         0.04                  0.03   \n",
              "3                         0.00                  0.00   \n",
              "4                         0.00                  0.00   \n",
              "\n",
              "   dst_host_srv_serror_rate  dst_host_rerror_rate  dst_host_srv_rerror_rate  \\\n",
              "0                      0.00                   0.0                      0.00   \n",
              "1                      1.00                   0.0                      0.00   \n",
              "2                      0.01                   0.0                      0.01   \n",
              "3                      0.00                   0.0                      0.00   \n",
              "4                      0.00                   1.0                      1.00   \n",
              "\n",
              "    attack  level  attack_flag  attack_map  \n",
              "0   normal     15            0           0  \n",
              "1  neptune     19            1           1  \n",
              "2   normal     21            0           0  \n",
              "3   normal     21            0           0  \n",
              "4  neptune     21            1           1  \n",
              "\n",
              "[5 rows x 45 columns]"
            ],
            "text/html": [
              "\n",
              "  <div id=\"df-3c579f81-6dd7-46a5-a634-e6434d7ec8af\">\n",
              "    <div class=\"colab-df-container\">\n",
              "      <div>\n",
              "<style scoped>\n",
              "    .dataframe tbody tr th:only-of-type {\n",
              "        vertical-align: middle;\n",
              "    }\n",
              "\n",
              "    .dataframe tbody tr th {\n",
              "        vertical-align: top;\n",
              "    }\n",
              "\n",
              "    .dataframe thead th {\n",
              "        text-align: right;\n",
              "    }\n",
              "</style>\n",
              "<table border=\"1\" class=\"dataframe\">\n",
              "  <thead>\n",
              "    <tr style=\"text-align: right;\">\n",
              "      <th></th>\n",
              "      <th>duration</th>\n",
              "      <th>protocol_type</th>\n",
              "      <th>service</th>\n",
              "      <th>flag</th>\n",
              "      <th>src_bytes</th>\n",
              "      <th>dst_bytes</th>\n",
              "      <th>land</th>\n",
              "      <th>wrong_fragment</th>\n",
              "      <th>urgent</th>\n",
              "      <th>hot</th>\n",
              "      <th>...</th>\n",
              "      <th>dst_host_same_src_port_rate</th>\n",
              "      <th>dst_host_srv_diff_host_rate</th>\n",
              "      <th>dst_host_serror_rate</th>\n",
              "      <th>dst_host_srv_serror_rate</th>\n",
              "      <th>dst_host_rerror_rate</th>\n",
              "      <th>dst_host_srv_rerror_rate</th>\n",
              "      <th>attack</th>\n",
              "      <th>level</th>\n",
              "      <th>attack_flag</th>\n",
              "      <th>attack_map</th>\n",
              "    </tr>\n",
              "  </thead>\n",
              "  <tbody>\n",
              "    <tr>\n",
              "      <th>0</th>\n",
              "      <td>0</td>\n",
              "      <td>udp</td>\n",
              "      <td>other</td>\n",
              "      <td>SF</td>\n",
              "      <td>146</td>\n",
              "      <td>0</td>\n",
              "      <td>0</td>\n",
              "      <td>0</td>\n",
              "      <td>0</td>\n",
              "      <td>0</td>\n",
              "      <td>...</td>\n",
              "      <td>0.88</td>\n",
              "      <td>0.00</td>\n",
              "      <td>0.00</td>\n",
              "      <td>0.00</td>\n",
              "      <td>0.0</td>\n",
              "      <td>0.00</td>\n",
              "      <td>normal</td>\n",
              "      <td>15</td>\n",
              "      <td>0</td>\n",
              "      <td>0</td>\n",
              "    </tr>\n",
              "    <tr>\n",
              "      <th>1</th>\n",
              "      <td>0</td>\n",
              "      <td>tcp</td>\n",
              "      <td>private</td>\n",
              "      <td>S0</td>\n",
              "      <td>0</td>\n",
              "      <td>0</td>\n",
              "      <td>0</td>\n",
              "      <td>0</td>\n",
              "      <td>0</td>\n",
              "      <td>0</td>\n",
              "      <td>...</td>\n",
              "      <td>0.00</td>\n",
              "      <td>0.00</td>\n",
              "      <td>1.00</td>\n",
              "      <td>1.00</td>\n",
              "      <td>0.0</td>\n",
              "      <td>0.00</td>\n",
              "      <td>neptune</td>\n",
              "      <td>19</td>\n",
              "      <td>1</td>\n",
              "      <td>1</td>\n",
              "    </tr>\n",
              "    <tr>\n",
              "      <th>2</th>\n",
              "      <td>0</td>\n",
              "      <td>tcp</td>\n",
              "      <td>http</td>\n",
              "      <td>SF</td>\n",
              "      <td>232</td>\n",
              "      <td>8153</td>\n",
              "      <td>0</td>\n",
              "      <td>0</td>\n",
              "      <td>0</td>\n",
              "      <td>0</td>\n",
              "      <td>...</td>\n",
              "      <td>0.03</td>\n",
              "      <td>0.04</td>\n",
              "      <td>0.03</td>\n",
              "      <td>0.01</td>\n",
              "      <td>0.0</td>\n",
              "      <td>0.01</td>\n",
              "      <td>normal</td>\n",
              "      <td>21</td>\n",
              "      <td>0</td>\n",
              "      <td>0</td>\n",
              "    </tr>\n",
              "    <tr>\n",
              "      <th>3</th>\n",
              "      <td>0</td>\n",
              "      <td>tcp</td>\n",
              "      <td>http</td>\n",
              "      <td>SF</td>\n",
              "      <td>199</td>\n",
              "      <td>420</td>\n",
              "      <td>0</td>\n",
              "      <td>0</td>\n",
              "      <td>0</td>\n",
              "      <td>0</td>\n",
              "      <td>...</td>\n",
              "      <td>0.00</td>\n",
              "      <td>0.00</td>\n",
              "      <td>0.00</td>\n",
              "      <td>0.00</td>\n",
              "      <td>0.0</td>\n",
              "      <td>0.00</td>\n",
              "      <td>normal</td>\n",
              "      <td>21</td>\n",
              "      <td>0</td>\n",
              "      <td>0</td>\n",
              "    </tr>\n",
              "    <tr>\n",
              "      <th>4</th>\n",
              "      <td>0</td>\n",
              "      <td>tcp</td>\n",
              "      <td>private</td>\n",
              "      <td>REJ</td>\n",
              "      <td>0</td>\n",
              "      <td>0</td>\n",
              "      <td>0</td>\n",
              "      <td>0</td>\n",
              "      <td>0</td>\n",
              "      <td>0</td>\n",
              "      <td>...</td>\n",
              "      <td>0.00</td>\n",
              "      <td>0.00</td>\n",
              "      <td>0.00</td>\n",
              "      <td>0.00</td>\n",
              "      <td>1.0</td>\n",
              "      <td>1.00</td>\n",
              "      <td>neptune</td>\n",
              "      <td>21</td>\n",
              "      <td>1</td>\n",
              "      <td>1</td>\n",
              "    </tr>\n",
              "  </tbody>\n",
              "</table>\n",
              "<p>5 rows × 45 columns</p>\n",
              "</div>\n",
              "      <button class=\"colab-df-convert\" onclick=\"convertToInteractive('df-3c579f81-6dd7-46a5-a634-e6434d7ec8af')\"\n",
              "              title=\"Convert this dataframe to an interactive table.\"\n",
              "              style=\"display:none;\">\n",
              "        \n",
              "  <svg xmlns=\"http://www.w3.org/2000/svg\" height=\"24px\"viewBox=\"0 0 24 24\"\n",
              "       width=\"24px\">\n",
              "    <path d=\"M0 0h24v24H0V0z\" fill=\"none\"/>\n",
              "    <path d=\"M18.56 5.44l.94 2.06.94-2.06 2.06-.94-2.06-.94-.94-2.06-.94 2.06-2.06.94zm-11 1L8.5 8.5l.94-2.06 2.06-.94-2.06-.94L8.5 2.5l-.94 2.06-2.06.94zm10 10l.94 2.06.94-2.06 2.06-.94-2.06-.94-.94-2.06-.94 2.06-2.06.94z\"/><path d=\"M17.41 7.96l-1.37-1.37c-.4-.4-.92-.59-1.43-.59-.52 0-1.04.2-1.43.59L10.3 9.45l-7.72 7.72c-.78.78-.78 2.05 0 2.83L4 21.41c.39.39.9.59 1.41.59.51 0 1.02-.2 1.41-.59l7.78-7.78 2.81-2.81c.8-.78.8-2.07 0-2.86zM5.41 20L4 18.59l7.72-7.72 1.47 1.35L5.41 20z\"/>\n",
              "  </svg>\n",
              "      </button>\n",
              "      \n",
              "  <style>\n",
              "    .colab-df-container {\n",
              "      display:flex;\n",
              "      flex-wrap:wrap;\n",
              "      gap: 12px;\n",
              "    }\n",
              "\n",
              "    .colab-df-convert {\n",
              "      background-color: #E8F0FE;\n",
              "      border: none;\n",
              "      border-radius: 50%;\n",
              "      cursor: pointer;\n",
              "      display: none;\n",
              "      fill: #1967D2;\n",
              "      height: 32px;\n",
              "      padding: 0 0 0 0;\n",
              "      width: 32px;\n",
              "    }\n",
              "\n",
              "    .colab-df-convert:hover {\n",
              "      background-color: #E2EBFA;\n",
              "      box-shadow: 0px 1px 2px rgba(60, 64, 67, 0.3), 0px 1px 3px 1px rgba(60, 64, 67, 0.15);\n",
              "      fill: #174EA6;\n",
              "    }\n",
              "\n",
              "    [theme=dark] .colab-df-convert {\n",
              "      background-color: #3B4455;\n",
              "      fill: #D2E3FC;\n",
              "    }\n",
              "\n",
              "    [theme=dark] .colab-df-convert:hover {\n",
              "      background-color: #434B5C;\n",
              "      box-shadow: 0px 1px 3px 1px rgba(0, 0, 0, 0.15);\n",
              "      filter: drop-shadow(0px 1px 2px rgba(0, 0, 0, 0.3));\n",
              "      fill: #FFFFFF;\n",
              "    }\n",
              "  </style>\n",
              "\n",
              "      <script>\n",
              "        const buttonEl =\n",
              "          document.querySelector('#df-3c579f81-6dd7-46a5-a634-e6434d7ec8af button.colab-df-convert');\n",
              "        buttonEl.style.display =\n",
              "          google.colab.kernel.accessAllowed ? 'block' : 'none';\n",
              "\n",
              "        async function convertToInteractive(key) {\n",
              "          const element = document.querySelector('#df-3c579f81-6dd7-46a5-a634-e6434d7ec8af');\n",
              "          const dataTable =\n",
              "            await google.colab.kernel.invokeFunction('convertToInteractive',\n",
              "                                                     [key], {});\n",
              "          if (!dataTable) return;\n",
              "\n",
              "          const docLinkHtml = 'Like what you see? Visit the ' +\n",
              "            '<a target=\"_blank\" href=https://colab.research.google.com/notebooks/data_table.ipynb>data table notebook</a>'\n",
              "            + ' to learn more about interactive tables.';\n",
              "          element.innerHTML = '';\n",
              "          dataTable['output_type'] = 'display_data';\n",
              "          await google.colab.output.renderOutput(dataTable, element);\n",
              "          const docLink = document.createElement('div');\n",
              "          docLink.innerHTML = docLinkHtml;\n",
              "          element.appendChild(docLink);\n",
              "        }\n",
              "      </script>\n",
              "    </div>\n",
              "  </div>\n",
              "  "
            ]
          },
          "metadata": {},
          "execution_count": 7
        }
      ],
      "source": [
        "# lists to hold our attack classifications\n",
        "dos_attacks = ['apache2','back','land','neptune','mailbomb','pod','processtable','smurf','teardrop','udpstorm','worm']\n",
        "probe_attacks = ['ipsweep','mscan','nmap','portsweep','saint','satan']\n",
        "privilege_attacks = ['buffer_overflow','loadmdoule','perl','ps','rootkit','sqlattack','xterm']\n",
        "access_attacks = ['ftp_write','guess_passwd','http_tunnel','imap','multihop','named','phf','sendmail','snmpgetattack','snmpguess','spy','warezclient','warezmaster','xclock','xsnoop']\n",
        "\n",
        "# we will use these for plotting below\n",
        "attack_labels = ['Normal','DoS','Probe','Privilege','Access']\n",
        "\n",
        "# helper function to pass to data frame mapping\n",
        "def map_attack(attack):\n",
        "    if attack in dos_attacks:\n",
        "        # dos_attacks map to 1\n",
        "        attack_type = 1\n",
        "    elif attack in probe_attacks:\n",
        "        # probe_attacks mapt to 2\n",
        "        attack_type = 2\n",
        "    elif attack in privilege_attacks:\n",
        "        # privilege escalation attacks map to 3\n",
        "        attack_type = 3\n",
        "    elif attack in access_attacks:\n",
        "        # remote access attacks map to 4\n",
        "        attack_type = 4\n",
        "    else:\n",
        "        # normal maps to 0\n",
        "        attack_type = 0\n",
        "        \n",
        "    return attack_type\n",
        "\n",
        "# map the data and join to the data set\n",
        "attack_map = df.attack.apply(map_attack)\n",
        "df['attack_map'] = attack_map\n",
        "\n",
        "test_attack_map = test_df.attack.apply(map_attack)\n",
        "test_df['attack_map'] = test_attack_map\n",
        "\n",
        "# view the result\n",
        "df.head()"
      ]
    },
    {
      "cell_type": "markdown",
      "metadata": {
        "papermill": {
          "duration": 0.020284,
          "end_time": "2020-08-28T13:24:59.364107",
          "exception": false,
          "start_time": "2020-08-28T13:24:59.343823",
          "status": "completed"
        },
        "tags": [],
        "id": "zPclWUpcB4wL"
      },
      "source": [
        "# Data profiling\n",
        "Some intital investigations of what we have in the set. First is a simple table of attack by protocol. In network traffic analysis protocol is a simple tool to create some initial buckets to categorize our data. 'normal' is left in the set at this point as a benchmark."
      ]
    },
    {
      "cell_type": "code",
      "execution_count": 8,
      "metadata": {
        "colab": {
          "base_uri": "https://localhost:8080/"
        },
        "id": "kBFl8G-pB4wM",
        "outputId": "adb354b5-da7a-471d-9b02-e431b59d9412"
      },
      "outputs": [
        {
          "output_type": "execute_result",
          "data": {
            "text/plain": [
              "tcp     102688\n",
              "udp      14993\n",
              "icmp      8291\n",
              "Name: protocol_type, dtype: int64"
            ]
          },
          "metadata": {},
          "execution_count": 8
        }
      ],
      "source": [
        "df.protocol_type.value_counts()"
      ]
    },
    {
      "cell_type": "code",
      "execution_count": 9,
      "metadata": {
        "papermill": {
          "duration": 0.094874,
          "end_time": "2020-08-28T13:24:59.477980",
          "exception": false,
          "start_time": "2020-08-28T13:24:59.383106",
          "status": "completed"
        },
        "tags": [],
        "colab": {
          "base_uri": "https://localhost:8080/",
          "height": 802
        },
        "id": "NK5ItnapB4wM",
        "outputId": "c5f98948-d434-47aa-871f-f6b2894d0534"
      },
      "outputs": [
        {
          "output_type": "execute_result",
          "data": {
            "text/plain": [
              "protocol_type    icmp    tcp    udp\n",
              "attack                             \n",
              "back                0    956      0\n",
              "buffer_overflow     0     30      0\n",
              "ftp_write           0      8      0\n",
              "guess_passwd        0     53      0\n",
              "imap                0     11      0\n",
              "ipsweep          3117    482      0\n",
              "land                0     18      0\n",
              "loadmodule          0      9      0\n",
              "multihop            0      7      0\n",
              "neptune             0  41214      0\n",
              "nmap              981    265    247\n",
              "normal           1309  53599  12434\n",
              "perl                0      3      0\n",
              "phf                 0      4      0\n",
              "pod               201      0      0\n",
              "portsweep           5   2926      0\n",
              "rootkit             0      7      3\n",
              "satan              32   2184   1417\n",
              "smurf            2646      0      0\n",
              "spy                 0      2      0\n",
              "teardrop            0      0    892\n",
              "warezclient         0    890      0\n",
              "warezmaster         0     20      0"
            ],
            "text/html": [
              "\n",
              "  <div id=\"df-57ea4dcf-1411-4034-97da-61ea7798bad7\">\n",
              "    <div class=\"colab-df-container\">\n",
              "      <div>\n",
              "<style scoped>\n",
              "    .dataframe tbody tr th:only-of-type {\n",
              "        vertical-align: middle;\n",
              "    }\n",
              "\n",
              "    .dataframe tbody tr th {\n",
              "        vertical-align: top;\n",
              "    }\n",
              "\n",
              "    .dataframe thead th {\n",
              "        text-align: right;\n",
              "    }\n",
              "</style>\n",
              "<table border=\"1\" class=\"dataframe\">\n",
              "  <thead>\n",
              "    <tr style=\"text-align: right;\">\n",
              "      <th>protocol_type</th>\n",
              "      <th>icmp</th>\n",
              "      <th>tcp</th>\n",
              "      <th>udp</th>\n",
              "    </tr>\n",
              "    <tr>\n",
              "      <th>attack</th>\n",
              "      <th></th>\n",
              "      <th></th>\n",
              "      <th></th>\n",
              "    </tr>\n",
              "  </thead>\n",
              "  <tbody>\n",
              "    <tr>\n",
              "      <th>back</th>\n",
              "      <td>0</td>\n",
              "      <td>956</td>\n",
              "      <td>0</td>\n",
              "    </tr>\n",
              "    <tr>\n",
              "      <th>buffer_overflow</th>\n",
              "      <td>0</td>\n",
              "      <td>30</td>\n",
              "      <td>0</td>\n",
              "    </tr>\n",
              "    <tr>\n",
              "      <th>ftp_write</th>\n",
              "      <td>0</td>\n",
              "      <td>8</td>\n",
              "      <td>0</td>\n",
              "    </tr>\n",
              "    <tr>\n",
              "      <th>guess_passwd</th>\n",
              "      <td>0</td>\n",
              "      <td>53</td>\n",
              "      <td>0</td>\n",
              "    </tr>\n",
              "    <tr>\n",
              "      <th>imap</th>\n",
              "      <td>0</td>\n",
              "      <td>11</td>\n",
              "      <td>0</td>\n",
              "    </tr>\n",
              "    <tr>\n",
              "      <th>ipsweep</th>\n",
              "      <td>3117</td>\n",
              "      <td>482</td>\n",
              "      <td>0</td>\n",
              "    </tr>\n",
              "    <tr>\n",
              "      <th>land</th>\n",
              "      <td>0</td>\n",
              "      <td>18</td>\n",
              "      <td>0</td>\n",
              "    </tr>\n",
              "    <tr>\n",
              "      <th>loadmodule</th>\n",
              "      <td>0</td>\n",
              "      <td>9</td>\n",
              "      <td>0</td>\n",
              "    </tr>\n",
              "    <tr>\n",
              "      <th>multihop</th>\n",
              "      <td>0</td>\n",
              "      <td>7</td>\n",
              "      <td>0</td>\n",
              "    </tr>\n",
              "    <tr>\n",
              "      <th>neptune</th>\n",
              "      <td>0</td>\n",
              "      <td>41214</td>\n",
              "      <td>0</td>\n",
              "    </tr>\n",
              "    <tr>\n",
              "      <th>nmap</th>\n",
              "      <td>981</td>\n",
              "      <td>265</td>\n",
              "      <td>247</td>\n",
              "    </tr>\n",
              "    <tr>\n",
              "      <th>normal</th>\n",
              "      <td>1309</td>\n",
              "      <td>53599</td>\n",
              "      <td>12434</td>\n",
              "    </tr>\n",
              "    <tr>\n",
              "      <th>perl</th>\n",
              "      <td>0</td>\n",
              "      <td>3</td>\n",
              "      <td>0</td>\n",
              "    </tr>\n",
              "    <tr>\n",
              "      <th>phf</th>\n",
              "      <td>0</td>\n",
              "      <td>4</td>\n",
              "      <td>0</td>\n",
              "    </tr>\n",
              "    <tr>\n",
              "      <th>pod</th>\n",
              "      <td>201</td>\n",
              "      <td>0</td>\n",
              "      <td>0</td>\n",
              "    </tr>\n",
              "    <tr>\n",
              "      <th>portsweep</th>\n",
              "      <td>5</td>\n",
              "      <td>2926</td>\n",
              "      <td>0</td>\n",
              "    </tr>\n",
              "    <tr>\n",
              "      <th>rootkit</th>\n",
              "      <td>0</td>\n",
              "      <td>7</td>\n",
              "      <td>3</td>\n",
              "    </tr>\n",
              "    <tr>\n",
              "      <th>satan</th>\n",
              "      <td>32</td>\n",
              "      <td>2184</td>\n",
              "      <td>1417</td>\n",
              "    </tr>\n",
              "    <tr>\n",
              "      <th>smurf</th>\n",
              "      <td>2646</td>\n",
              "      <td>0</td>\n",
              "      <td>0</td>\n",
              "    </tr>\n",
              "    <tr>\n",
              "      <th>spy</th>\n",
              "      <td>0</td>\n",
              "      <td>2</td>\n",
              "      <td>0</td>\n",
              "    </tr>\n",
              "    <tr>\n",
              "      <th>teardrop</th>\n",
              "      <td>0</td>\n",
              "      <td>0</td>\n",
              "      <td>892</td>\n",
              "    </tr>\n",
              "    <tr>\n",
              "      <th>warezclient</th>\n",
              "      <td>0</td>\n",
              "      <td>890</td>\n",
              "      <td>0</td>\n",
              "    </tr>\n",
              "    <tr>\n",
              "      <th>warezmaster</th>\n",
              "      <td>0</td>\n",
              "      <td>20</td>\n",
              "      <td>0</td>\n",
              "    </tr>\n",
              "  </tbody>\n",
              "</table>\n",
              "</div>\n",
              "      <button class=\"colab-df-convert\" onclick=\"convertToInteractive('df-57ea4dcf-1411-4034-97da-61ea7798bad7')\"\n",
              "              title=\"Convert this dataframe to an interactive table.\"\n",
              "              style=\"display:none;\">\n",
              "        \n",
              "  <svg xmlns=\"http://www.w3.org/2000/svg\" height=\"24px\"viewBox=\"0 0 24 24\"\n",
              "       width=\"24px\">\n",
              "    <path d=\"M0 0h24v24H0V0z\" fill=\"none\"/>\n",
              "    <path d=\"M18.56 5.44l.94 2.06.94-2.06 2.06-.94-2.06-.94-.94-2.06-.94 2.06-2.06.94zm-11 1L8.5 8.5l.94-2.06 2.06-.94-2.06-.94L8.5 2.5l-.94 2.06-2.06.94zm10 10l.94 2.06.94-2.06 2.06-.94-2.06-.94-.94-2.06-.94 2.06-2.06.94z\"/><path d=\"M17.41 7.96l-1.37-1.37c-.4-.4-.92-.59-1.43-.59-.52 0-1.04.2-1.43.59L10.3 9.45l-7.72 7.72c-.78.78-.78 2.05 0 2.83L4 21.41c.39.39.9.59 1.41.59.51 0 1.02-.2 1.41-.59l7.78-7.78 2.81-2.81c.8-.78.8-2.07 0-2.86zM5.41 20L4 18.59l7.72-7.72 1.47 1.35L5.41 20z\"/>\n",
              "  </svg>\n",
              "      </button>\n",
              "      \n",
              "  <style>\n",
              "    .colab-df-container {\n",
              "      display:flex;\n",
              "      flex-wrap:wrap;\n",
              "      gap: 12px;\n",
              "    }\n",
              "\n",
              "    .colab-df-convert {\n",
              "      background-color: #E8F0FE;\n",
              "      border: none;\n",
              "      border-radius: 50%;\n",
              "      cursor: pointer;\n",
              "      display: none;\n",
              "      fill: #1967D2;\n",
              "      height: 32px;\n",
              "      padding: 0 0 0 0;\n",
              "      width: 32px;\n",
              "    }\n",
              "\n",
              "    .colab-df-convert:hover {\n",
              "      background-color: #E2EBFA;\n",
              "      box-shadow: 0px 1px 2px rgba(60, 64, 67, 0.3), 0px 1px 3px 1px rgba(60, 64, 67, 0.15);\n",
              "      fill: #174EA6;\n",
              "    }\n",
              "\n",
              "    [theme=dark] .colab-df-convert {\n",
              "      background-color: #3B4455;\n",
              "      fill: #D2E3FC;\n",
              "    }\n",
              "\n",
              "    [theme=dark] .colab-df-convert:hover {\n",
              "      background-color: #434B5C;\n",
              "      box-shadow: 0px 1px 3px 1px rgba(0, 0, 0, 0.15);\n",
              "      filter: drop-shadow(0px 1px 2px rgba(0, 0, 0, 0.3));\n",
              "      fill: #FFFFFF;\n",
              "    }\n",
              "  </style>\n",
              "\n",
              "      <script>\n",
              "        const buttonEl =\n",
              "          document.querySelector('#df-57ea4dcf-1411-4034-97da-61ea7798bad7 button.colab-df-convert');\n",
              "        buttonEl.style.display =\n",
              "          google.colab.kernel.accessAllowed ? 'block' : 'none';\n",
              "\n",
              "        async function convertToInteractive(key) {\n",
              "          const element = document.querySelector('#df-57ea4dcf-1411-4034-97da-61ea7798bad7');\n",
              "          const dataTable =\n",
              "            await google.colab.kernel.invokeFunction('convertToInteractive',\n",
              "                                                     [key], {});\n",
              "          if (!dataTable) return;\n",
              "\n",
              "          const docLinkHtml = 'Like what you see? Visit the ' +\n",
              "            '<a target=\"_blank\" href=https://colab.research.google.com/notebooks/data_table.ipynb>data table notebook</a>'\n",
              "            + ' to learn more about interactive tables.';\n",
              "          element.innerHTML = '';\n",
              "          dataTable['output_type'] = 'display_data';\n",
              "          await google.colab.output.renderOutput(dataTable, element);\n",
              "          const docLink = document.createElement('div');\n",
              "          docLink.innerHTML = docLinkHtml;\n",
              "          element.appendChild(docLink);\n",
              "        }\n",
              "      </script>\n",
              "    </div>\n",
              "  </div>\n",
              "  "
            ]
          },
          "metadata": {},
          "execution_count": 9
        }
      ],
      "source": [
        "# use a crosstab to get attack vs protocol\n",
        "attack_vs_protocol = pd.crosstab(df.attack, df.protocol_type)\n",
        "attack_vs_protocol"
      ]
    },
    {
      "cell_type": "markdown",
      "metadata": {
        "papermill": {
          "duration": 0.018612,
          "end_time": "2020-08-28T13:24:59.515479",
          "exception": false,
          "start_time": "2020-08-28T13:24:59.496867",
          "status": "completed"
        },
        "tags": [],
        "id": "jqfHMWxoB4wN"
      },
      "source": [
        "That helps us see that most attacks are going to target a specific protocol. There are several (satan, nmap, ipsweep) that are cross-prototcol attacks\n",
        "\n",
        "Also notice how icmp data is less frequently found in normal traffic."
      ]
    },
    {
      "cell_type": "markdown",
      "metadata": {
        "papermill": {
          "duration": 0.018904,
          "end_time": "2020-08-28T13:24:59.553360",
          "exception": false,
          "start_time": "2020-08-28T13:24:59.534456",
          "status": "completed"
        },
        "tags": [],
        "id": "sM4mG8pnB4wN"
      },
      "source": [
        "Let's take a look at some charts to see how things are distributed."
      ]
    },
    {
      "cell_type": "code",
      "execution_count": 10,
      "metadata": {
        "papermill": {
          "duration": 0.036382,
          "end_time": "2020-08-28T13:24:59.608919",
          "exception": false,
          "start_time": "2020-08-28T13:24:59.572537",
          "status": "completed"
        },
        "tags": [],
        "id": "UpYDLJuBB4wN"
      },
      "outputs": [],
      "source": [
        "# helper function for drawing mulitple charts.\n",
        "def bake_pies(data_list,labels):\n",
        "    list_length = len(data_list)\n",
        "    \n",
        "    # setup for mapping colors\n",
        "    color_list = sns.color_palette()\n",
        "    color_cycle = itertools.cycle(color_list)\n",
        "    cdict = {}\n",
        "    \n",
        "    # build the subplots\n",
        "    fig, axs = plt.subplots(1, list_length,figsize=(18,10), tight_layout=False)\n",
        "    plt.subplots_adjust(wspace=1/list_length)\n",
        "    \n",
        "    # loop through the data sets and build the charts\n",
        "    for count, data_set in enumerate(data_list): \n",
        "        \n",
        "        # update our color mapt with new values\n",
        "        for num, value in enumerate(np.unique(data_set.index)):\n",
        "            if value not in cdict:\n",
        "                cdict[value] = next(color_cycle)\n",
        "       \n",
        "        # build the wedges\n",
        "        wedges,texts = axs[count].pie(data_set,\n",
        "                           colors=[cdict[v] for v in data_set.index])\n",
        "\n",
        "        # build the legend\n",
        "        axs[count].legend(wedges, data_set.index,\n",
        "                           title=\"Flags\",\n",
        "                           loc=\"center left\",\n",
        "                           bbox_to_anchor=(1, 0, 0.5, 1))\n",
        "        # set the title\n",
        "        axs[count].set_title(labels[count])\n",
        "        \n",
        "    return axs   \n",
        "\n"
      ]
    },
    {
      "cell_type": "code",
      "execution_count": 11,
      "metadata": {
        "papermill": {
          "duration": 0.674413,
          "end_time": "2020-08-28T13:25:00.302520",
          "exception": false,
          "start_time": "2020-08-28T13:24:59.628107",
          "status": "completed"
        },
        "tags": [],
        "colab": {
          "base_uri": "https://localhost:8080/",
          "height": 393
        },
        "id": "lPOWSYKOB4wO",
        "outputId": "28e08e78-2771-4218-bfed-38622b8be479"
      },
      "outputs": [
        {
          "output_type": "display_data",
          "data": {
            "text/plain": [
              "<Figure size 1296x720 with 3 Axes>"
            ],
            "image/png": "[encoded data removed]"
          },
          "metadata": {}
        }
      ],
      "source": [
        "# get the series for each protocol\n",
        "icmp_attacks = attack_vs_protocol.icmp\n",
        "tcp_attacks = attack_vs_protocol.tcp\n",
        "udp_attacks = attack_vs_protocol.udp\n",
        "\n",
        "# create the charts\n",
        "bake_pies([icmp_attacks, tcp_attacks, udp_attacks],['icmp','tcp','udp'])\n",
        "plt.show()"
      ]
    },
    {
      "cell_type": "markdown",
      "metadata": {
        "papermill": {
          "duration": 0.019501,
          "end_time": "2020-08-28T13:25:00.342340",
          "exception": false,
          "start_time": "2020-08-28T13:25:00.322839",
          "status": "completed"
        },
        "tags": [],
        "id": "gPUT0WkNB4wP"
      },
      "source": [
        "The thing to notice here is the difference in each protocol type. Protocol may be useful in being able to identify the type of traffic we are observing"
      ]
    },
    {
      "cell_type": "code",
      "execution_count": 12,
      "metadata": {
        "papermill": {
          "duration": 0.47381,
          "end_time": "2020-08-28T13:25:00.836014",
          "exception": false,
          "start_time": "2020-08-28T13:25:00.362204",
          "status": "completed"
        },
        "tags": [],
        "colab": {
          "base_uri": "https://localhost:8080/",
          "height": 449
        },
        "id": "h2o47UzZB4wP",
        "outputId": "f8e5e941-ad63-4d6e-c972-f2d2b06c32c0"
      },
      "outputs": [
        {
          "output_type": "display_data",
          "data": {
            "text/plain": [
              "<Figure size 1296x720 with 2 Axes>"
            ],
            "image/png": "[encoded data removed]"
          },
          "metadata": {}
        }
      ],
      "source": [
        "# get a series with the count of each flag for attack and normal traffic\n",
        "normal_flags = df.loc[df.attack_flag == 0].flag.value_counts()\n",
        "attack_flags = df.loc[df.attack_flag == 1].flag.value_counts()\n",
        "\n",
        "# create the charts\n",
        "flag_axs = bake_pies([normal_flags, attack_flags], ['normal','attack'])        \n",
        "plt.show()"
      ]
    },
    {
      "cell_type": "markdown",
      "metadata": {
        "papermill": {
          "duration": 0.020057,
          "end_time": "2020-08-28T13:25:00.876756",
          "exception": false,
          "start_time": "2020-08-28T13:25:00.856699",
          "status": "completed"
        },
        "tags": [],
        "id": "C-3YvxO_B4wP"
      },
      "source": [
        "And service?"
      ]
    },
    {
      "cell_type": "code",
      "execution_count": 13,
      "metadata": {
        "papermill": {
          "duration": 1.149089,
          "end_time": "2020-08-28T13:25:02.046054",
          "exception": false,
          "start_time": "2020-08-28T13:25:00.896965",
          "status": "completed"
        },
        "tags": [],
        "colab": {
          "base_uri": "https://localhost:8080/",
          "height": 1000
        },
        "id": "GDhOYv9aB4wQ",
        "outputId": "da911fdb-1170-4e94-cc03-e3db28003753"
      },
      "outputs": [
        {
          "output_type": "display_data",
          "data": {
            "text/plain": [
              "<Figure size 1296x720 with 2 Axes>"
            ],
            "image/png": "[encoded data removed]"
          },
          "metadata": {}
        }
      ],
      "source": [
        "# get a series with the count of each service for attack and normal traffic\n",
        "normal_services = df.loc[df.attack_flag == 0].service.value_counts()\n",
        "attack_services = df.loc[df.attack_flag == 1].service.value_counts()\n",
        "\n",
        "# create the charts\n",
        "service_axs = bake_pies([normal_services, attack_services], ['normal','attack'])        \n",
        "plt.show()\n"
      ]
    },
    {
      "cell_type": "markdown",
      "metadata": {
        "papermill": {
          "duration": 0.024077,
          "end_time": "2020-08-28T13:25:02.093827",
          "exception": false,
          "start_time": "2020-08-28T13:25:02.069750",
          "status": "completed"
        },
        "tags": [],
        "id": "uUC67n_LB4wQ"
      },
      "source": [
        "Look at how many services are in the attack set! Whereas a huge amount of normal traffic is http, our attack traffic is all over the place. That is interesting as it means that attacks are searching for many different paths into systems--some well traveled and some not. \n",
        "\n",
        "If we think about this from the eyes of a network adminstrator, the combination of protocol, flag and service seem like they should tell us a lot about the nature of our traffic. Coupling them with the duration of a connection and the amount of data in that connection seems like a good starting point for us."
      ]
    },
    {
      "cell_type": "markdown",
      "metadata": {
        "papermill": {
          "duration": 0.021957,
          "end_time": "2020-08-28T13:25:02.138660",
          "exception": false,
          "start_time": "2020-08-28T13:25:02.116703",
          "status": "completed"
        },
        "tags": [],
        "id": "aGQgE96pB4wQ"
      },
      "source": [
        "# Feature engineering"
      ]
    },
    {
      "cell_type": "markdown",
      "metadata": {
        "papermill": {
          "duration": 0.021923,
          "end_time": "2020-08-28T13:25:02.183325",
          "exception": false,
          "start_time": "2020-08-28T13:25:02.161402",
          "status": "completed"
        },
        "tags": [],
        "id": "OiorFNWgB4wR"
      },
      "source": [
        "So let's dive into some feature building. It seems like that items above would make a good place to start: protocol_type, service and flag. There's enough variation between these that we should be able to get some base level of identification. We're also going to throw in some basic numeric data: duration, src_bytes, dst_bytes. All of these are going to be readily available from modern network equipment and should tell us a lot about what is happening on our network."
      ]
    },
    {
      "cell_type": "code",
      "execution_count": 14,
      "metadata": {
        "papermill": {
          "duration": 0.161828,
          "end_time": "2020-08-28T13:25:02.367296",
          "exception": false,
          "start_time": "2020-08-28T13:25:02.205468",
          "status": "completed"
        },
        "tags": [],
        "id": "xhYWEr8kB4wR"
      },
      "outputs": [],
      "source": [
        "# get the intial set of encoded features and encode them\n",
        "features_to_encode = ['protocol_type', 'service', 'flag']\n",
        "encoded = pd.get_dummies(df[features_to_encode])\n",
        "test_encoded_base = pd.get_dummies(test_df[features_to_encode])\n",
        "\n",
        "# not all of the features are in the test set, so we need to account for diffs\n",
        "test_index = np.arange(len(test_df.index))\n",
        "column_diffs = list(set(encoded.columns.values)-set(test_encoded_base.columns.values))\n",
        "\n",
        "diff_df = pd.DataFrame(0, index=test_index, columns=column_diffs)\n",
        "\n",
        "# we'll also need to reorder the columns to match, so let's get those\n",
        "column_order = encoded.columns.to_list()\n",
        "\n",
        "# append the new columns\n",
        "test_encoded_temp = test_encoded_base.join(diff_df)\n",
        "\n",
        "# reorder the columns\n",
        "test_final = test_encoded_temp[column_order].fillna(0)\n",
        "\n",
        "# get numeric features, we won't worry about encoding these at this point\n",
        "numeric_features = ['duration', 'src_bytes', 'dst_bytes']\n",
        "\n",
        "# model to fit/test\n",
        "to_fit = encoded.join(df[numeric_features])\n",
        "test_set = test_final.join(test_df[numeric_features])"
      ]
    },
    {
      "cell_type": "markdown",
      "metadata": {
        "papermill": {
          "duration": 0.021949,
          "end_time": "2020-08-28T13:25:02.411969",
          "exception": false,
          "start_time": "2020-08-28T13:25:02.390020",
          "status": "completed"
        },
        "tags": [],
        "id": "PvaWxNhpB4wS"
      },
      "source": [
        "It's worth drawing attention to a few things here. First, `pd.get_dummies` is a method that allows us to do a quick one hot encoding on our columns. This takes every value it finds in a single column and makes an individual column for each value, with a `0` or `1` indicating whether that column is 'hot'.\n",
        "\n",
        "One thing we find is that note every value is in the test data. So that creates different shapes of our data frame. That's why we added some columns, filled them in and reorded them. We know they are all zeros because they aren't in the data."
      ]
    },
    {
      "cell_type": "markdown",
      "metadata": {
        "papermill": {
          "duration": 0.021836,
          "end_time": "2020-08-28T13:25:02.456234",
          "exception": false,
          "start_time": "2020-08-28T13:25:02.434398",
          "status": "completed"
        },
        "tags": [],
        "id": "hH7ktVEjB4wS"
      },
      "source": [
        "Now let's go ahead and set our classification targets. We'l do both training sets to start: binrary and multi classifications."
      ]
    },
    {
      "cell_type": "code",
      "execution_count": 15,
      "metadata": {
        "papermill": {
          "duration": 0.127019,
          "end_time": "2020-08-28T13:25:02.605703",
          "exception": false,
          "start_time": "2020-08-28T13:25:02.478684",
          "status": "completed"
        },
        "tags": [],
        "id": "yq66m2sDB4wS"
      },
      "outputs": [],
      "source": [
        "# create our target classifications\n",
        "binary_y = df['attack_flag']\n",
        "multi_y = df['attack_map']\n",
        "\n",
        "test_binary_y = test_df['attack_flag']\n",
        "test_multi_y = test_df['attack_map']\n",
        "\n",
        "# build the training sets\n",
        "binary_train_X, binary_val_X, binary_train_y, binary_val_y = train_test_split(to_fit, binary_y, test_size=0.6)\n",
        "multi_train_X, multi_val_X, multi_train_y, multi_val_y = train_test_split(to_fit, multi_y, test_size = 0.6)"
      ]
    },
    {
      "cell_type": "markdown",
      "metadata": {
        "papermill": {
          "duration": 0.022226,
          "end_time": "2020-08-28T13:25:02.650469",
          "exception": false,
          "start_time": "2020-08-28T13:25:02.628243",
          "status": "completed"
        },
        "tags": [],
        "id": "JNnR9QJCB4wS"
      },
      "source": [
        "# Model fitting\n",
        "Based on the nature of the data we saw above, decision trees are a good starting point for building out predictive models. In this case we'll use a random forest to build and combine multiple trees. We'll start by simply taking the defaults."
      ]
    },
    {
      "cell_type": "code",
      "execution_count": 16,
      "metadata": {
        "papermill": {
          "duration": 6.240211,
          "end_time": "2020-08-28T13:25:08.913073",
          "exception": false,
          "start_time": "2020-08-28T13:25:02.672862",
          "status": "completed"
        },
        "tags": [],
        "colab": {
          "base_uri": "https://localhost:8080/"
        },
        "id": "2kZk7kXxB4wT",
        "outputId": "25211ff7-8d1f-4c87-f623-4831b80928c8"
      },
      "outputs": [
        {
          "output_type": "execute_result",
          "data": {
            "text/plain": [
              "0.9932260795935648"
            ]
          },
          "metadata": {},
          "execution_count": 16
        }
      ],
      "source": [
        "# model for the binary classification\n",
        "binary_model = RandomForestClassifier()\n",
        "binary_model.fit(binary_train_X, binary_train_y)\n",
        "binary_predictions = binary_model.predict(binary_val_X)\n",
        "\n",
        "# calculate and display our base accuracty\n",
        "base_rf_score = accuracy_score(binary_predictions,binary_val_y)\n",
        "base_rf_score"
      ]
    },
    {
      "cell_type": "markdown",
      "metadata": {
        "papermill": {
          "duration": 0.022461,
          "end_time": "2020-08-28T13:25:08.958422",
          "exception": false,
          "start_time": "2020-08-28T13:25:08.935961",
          "status": "completed"
        },
        "tags": [],
        "id": "q9jC8ta6B4wT"
      },
      "source": [
        "99% accuracy on our first try! Not bad, right? Let's see how it plays out. \n",
        "\n",
        "It might be interesting to see how differnt models compare against a data set like this. That is easy enought to do with `cross_val_score`. "
      ]
    },
    {
      "cell_type": "code",
      "execution_count": 17,
      "metadata": {
        "papermill": {
          "duration": 87.638239,
          "end_time": "2020-08-28T13:26:36.619048",
          "exception": false,
          "start_time": "2020-08-28T13:25:08.980809",
          "status": "completed"
        },
        "tags": [],
        "id": "5YCvb2FTB4wT"
      },
      "outputs": [],
      "source": [
        "# define the list of models that we want to test\n",
        "models = [\n",
        "    RandomForestClassifier(),\n",
        "    LogisticRegression(max_iter=250),\n",
        "    KNeighborsClassifier(),\n",
        "]\n",
        "\n",
        "# an empty list to capture the performance of each model\n",
        "model_comps = []\n",
        "\n",
        "# walk through the models and populate our list\n",
        "for model in models:\n",
        "    model_name = model.__class__.__name__\n",
        "    accuracies = cross_val_score(model, binary_train_X, binary_train_y, scoring='accuracy')\n",
        "    for count, accuracy in enumerate(accuracies):\n",
        "        model_comps.append((model_name, count, accuracy))"
      ]
    },
    {
      "cell_type": "code",
      "execution_count": 18,
      "metadata": {
        "papermill": {
          "duration": 0.249076,
          "end_time": "2020-08-28T13:26:36.891426",
          "exception": false,
          "start_time": "2020-08-28T13:26:36.642350",
          "status": "completed"
        },
        "tags": [],
        "colab": {
          "base_uri": "https://localhost:8080/",
          "height": 363
        },
        "id": "1-Fb2U6SB4wU",
        "outputId": "5a2d8723-cce4-40aa-c380-c2c5fb2ad8d2"
      },
      "outputs": [
        {
          "output_type": "execute_result",
          "data": {
            "text/plain": [
              "<matplotlib.axes._subplots.AxesSubplot at 0x7f6fb2a97250>"
            ]
          },
          "metadata": {},
          "execution_count": 18
        },
        {
          "output_type": "display_data",
          "data": {
            "text/plain": [
              "<Figure size 432x288 with 1 Axes>"
            ],
            "image/png": "[encoded data removed]"
          },
          "metadata": {
            "needs_background": "light"
          }
        }
      ],
      "source": [
        "# a box plot will do well to show us overall performance and the variation in the models.\n",
        "result_df = pd.DataFrame(model_comps, columns=['model_name', 'count', 'accuracy'])\n",
        "result_df.pivot(index='count',columns='model_name',values='accuracy').boxplot(rot=45)"
      ]
    },
    {
      "cell_type": "markdown",
      "metadata": {
        "papermill": {
          "duration": 0.022511,
          "end_time": "2020-08-28T13:26:36.938519",
          "exception": false,
          "start_time": "2020-08-28T13:26:36.916008",
          "status": "completed"
        },
        "tags": [],
        "id": "8_pXXSWoB4wU"
      },
      "source": [
        "What we find is some inconsistency across the models. The random forest and K-nearest neighbors are tight groupings with solid performance. Our logistic regression didn't perform as well. That may be in  part because we didn't do sufficient preprocessing on our data to shape it into a form optimized for that model. That too is an exercise for another day."
      ]
    },
    {
      "cell_type": "markdown",
      "metadata": {
        "papermill": {
          "duration": 0.022355,
          "end_time": "2020-08-28T13:26:36.983800",
          "exception": false,
          "start_time": "2020-08-28T13:26:36.961445",
          "status": "completed"
        },
        "tags": [],
        "id": "Iva9FEEhB4wV"
      },
      "source": [
        "# Analyzing our predictions\n",
        "Let's take a look at how our predictions fared. We are going to create a helper function to pull some relevant metrics from our results. "
      ]
    },
    {
      "cell_type": "code",
      "execution_count": 19,
      "metadata": {
        "papermill": {
          "duration": 0.038073,
          "end_time": "2020-08-28T13:26:37.044910",
          "exception": false,
          "start_time": "2020-08-28T13:26:37.006837",
          "status": "completed"
        },
        "tags": [],
        "id": "WMfVljW4B4wV"
      },
      "outputs": [],
      "source": [
        "# a helper function for getting some analytical data about our predictions\n",
        "def add_predictions(data_set,predictions,y):\n",
        "    prediction_series = pd.Series(predictions, index=y.index)\n",
        "\n",
        "    # we need to add the predicted and actual outcomes to the data\n",
        "    predicted_vs_actual = data_set.assign(predicted=prediction_series)\n",
        "    original_data = predicted_vs_actual.assign(actual=y).dropna()\n",
        "    conf_matrix = confusion_matrix(original_data['actual'], \n",
        "                                   original_data['predicted'])\n",
        "    \n",
        "    # capture rows with failed predictions\n",
        "    base_errors = original_data[original_data['actual'] != original_data['predicted']]\n",
        "    \n",
        "    # drop columns with no value\n",
        "    non_zeros = base_errors.loc[:,(base_errors != 0).any(axis=0)]\n",
        "\n",
        "    # idetify the type of error\n",
        "    false_positives = non_zeros.loc[non_zeros.actual==0]\n",
        "    false_negatives = non_zeros.loc[non_zeros.actual==1]\n",
        "\n",
        "    # put everything into an object\n",
        "    prediction_data = {'data': original_data,\n",
        "                       'confusion_matrix': conf_matrix,\n",
        "                       'errors': base_errors,\n",
        "                       'non_zeros': non_zeros,\n",
        "                       'false_positives': false_positives,\n",
        "                       'false_negatives': false_negatives}\n",
        "    \n",
        "    return prediction_data\n"
      ]
    },
    {
      "cell_type": "markdown",
      "metadata": {
        "papermill": {
          "duration": 0.022607,
          "end_time": "2020-08-28T13:26:37.090439",
          "exception": false,
          "start_time": "2020-08-28T13:26:37.067832",
          "status": "completed"
        },
        "tags": [],
        "id": "ewa7DImiB4wV"
      },
      "source": [
        "Now we can take a closer look at our results. The first thing that we can do is look at a confusion matrix, which in this case will map the predicted classification to the actual classification."
      ]
    },
    {
      "cell_type": "code",
      "execution_count": 20,
      "metadata": {
        "papermill": {
          "duration": 0.627641,
          "end_time": "2020-08-28T13:26:37.741493",
          "exception": false,
          "start_time": "2020-08-28T13:26:37.113852",
          "status": "completed"
        },
        "tags": [],
        "colab": {
          "base_uri": "https://localhost:8080/",
          "height": 286
        },
        "id": "P0QpEywWB4wV",
        "outputId": "6a627fe6-e84c-42ee-b475-4e7e6419a8c1"
      },
      "outputs": [
        {
          "output_type": "execute_result",
          "data": {
            "text/plain": [
              "<matplotlib.axes._subplots.AxesSubplot at 0x7f6fb314f150>"
            ]
          },
          "metadata": {},
          "execution_count": 20
        },
        {
          "output_type": "display_data",
          "data": {
            "text/plain": [
              "<Figure size 432x288 with 2 Axes>"
            ],
            "image/png": "[encoded data removed]"
          },
          "metadata": {
            "needs_background": "light"
          }
        }
      ],
      "source": [
        "# capture our prediction data\n",
        "binary_prediction_data = add_predictions(df,\n",
        "                                         binary_predictions,\n",
        "                                         binary_val_y)\n",
        "\n",
        "# create a heatmap of the confusion matrix\n",
        "sns.heatmap(data=binary_prediction_data['confusion_matrix'],\n",
        "            xticklabels = ['Predicted Normal','Predicted Attack'],\n",
        "            yticklabels = ['Actual Normal','Actual Attack'],\n",
        "            cmap=\"YlGnBu\",\n",
        "            fmt='d',\n",
        "            annot=True)"
      ]
    },
    {
      "cell_type": "markdown",
      "metadata": {
        "papermill": {
          "duration": 0.023208,
          "end_time": "2020-08-28T13:26:37.788432",
          "exception": false,
          "start_time": "2020-08-28T13:26:37.765224",
          "status": "completed"
        },
        "tags": [],
        "id": "cGPc2yvdB4wW"
      },
      "source": [
        "We see a lot of false positives (normal traffic that got flagged as an attack) and false negatives (attack traffic that got flagged as normal) there.  \n",
        "\n",
        "So let's explore the prediction errors a bit and see if there is more information to extract."
      ]
    },
    {
      "cell_type": "code",
      "execution_count": 21,
      "metadata": {
        "papermill": {
          "duration": 0.184719,
          "end_time": "2020-08-28T13:26:37.996784",
          "exception": false,
          "start_time": "2020-08-28T13:26:37.812065",
          "status": "completed"
        },
        "tags": [],
        "colab": {
          "base_uri": "https://localhost:8080/",
          "height": 393
        },
        "id": "fVgQ5jkQB4wW",
        "outputId": "e8f1bbcd-110a-4547-bf4c-8033bb5a8917"
      },
      "outputs": [
        {
          "output_type": "execute_result",
          "data": {
            "text/plain": [
              "           duration     src_bytes      dst_bytes        land  wrong_fragment  \\\n",
              "count    512.000000  5.120000e+02     512.000000  512.000000           512.0   \n",
              "mean     127.851562  4.546166e+05    1577.707031    0.009766             0.0   \n",
              "std     1700.404003  9.609064e+06   28800.352318    0.098434             0.0   \n",
              "min        0.000000  0.000000e+00       0.000000    0.000000             0.0   \n",
              "25%        0.000000  0.000000e+00       0.000000    0.000000             0.0   \n",
              "50%        0.000000  0.000000e+00       0.000000    0.000000             0.0   \n",
              "75%        0.000000  0.000000e+00       0.000000    0.000000             0.0   \n",
              "max    35301.000000  2.172773e+08  649186.000000    1.000000             0.0   \n",
              "\n",
              "           urgent         hot  num_failed_logins   logged_in  num_compromised  \\\n",
              "count  512.000000  512.000000         512.000000  512.000000       512.000000   \n",
              "mean     0.001953    0.068359           0.019531    0.080078         0.082031   \n",
              "std      0.044194    0.434805           0.286024    0.271680         0.889771   \n",
              "min      0.000000    0.000000           0.000000    0.000000         0.000000   \n",
              "25%      0.000000    0.000000           0.000000    0.000000         0.000000   \n",
              "50%      0.000000    0.000000           0.000000    0.000000         0.000000   \n",
              "75%      0.000000    0.000000           0.000000    0.000000         0.000000   \n",
              "max      1.000000    5.000000           5.000000    1.000000        16.000000   \n",
              "\n",
              "       ...  dst_host_srv_diff_host_rate  dst_host_serror_rate  \\\n",
              "count  ...                   512.000000            512.000000   \n",
              "mean   ...                     0.055840              0.106777   \n",
              "std    ...                     0.177434              0.247925   \n",
              "min    ...                     0.000000              0.000000   \n",
              "25%    ...                     0.000000              0.000000   \n",
              "50%    ...                     0.000000              0.000000   \n",
              "75%    ...                     0.030000              0.042500   \n",
              "max    ...                     1.000000              1.000000   \n",
              "\n",
              "       dst_host_srv_serror_rate  dst_host_rerror_rate  \\\n",
              "count                512.000000            512.000000   \n",
              "mean                   0.039492              0.335566   \n",
              "std                    0.157857              0.456080   \n",
              "min                    0.000000              0.000000   \n",
              "25%                    0.000000              0.000000   \n",
              "50%                    0.000000              0.010000   \n",
              "75%                    0.010000              1.000000   \n",
              "max                    1.000000              1.000000   \n",
              "\n",
              "       dst_host_srv_rerror_rate       level  attack_flag  attack_map  \\\n",
              "count                512.000000  512.000000   512.000000  512.000000   \n",
              "mean                   0.362930   15.099609     0.394531    0.613281   \n",
              "std                    0.468067    5.593174     0.489228    0.966594   \n",
              "min                    0.000000    0.000000     0.000000    0.000000   \n",
              "25%                    0.000000   14.000000     0.000000    0.000000   \n",
              "50%                    0.010000   17.000000     0.000000    0.000000   \n",
              "75%                    1.000000   19.000000     1.000000    1.000000   \n",
              "max                    1.000000   21.000000     1.000000    4.000000   \n",
              "\n",
              "        predicted      actual  \n",
              "count  512.000000  512.000000  \n",
              "mean     0.605469    0.394531  \n",
              "std      0.489228    0.489228  \n",
              "min      0.000000    0.000000  \n",
              "25%      0.000000    0.000000  \n",
              "50%      1.000000    0.000000  \n",
              "75%      1.000000    1.000000  \n",
              "max      1.000000    1.000000  \n",
              "\n",
              "[8 rows x 43 columns]"
            ],
            "text/html": [
              "\n",
              "  <div id=\"df-39b009fb-37af-4815-b791-ed28107b78ff\">\n",
              "    <div class=\"colab-df-container\">\n",
              "      <div>\n",
              "<style scoped>\n",
              "    .dataframe tbody tr th:only-of-type {\n",
              "        vertical-align: middle;\n",
              "    }\n",
              "\n",
              "    .dataframe tbody tr th {\n",
              "        vertical-align: top;\n",
              "    }\n",
              "\n",
              "    .dataframe thead th {\n",
              "        text-align: right;\n",
              "    }\n",
              "</style>\n",
              "<table border=\"1\" class=\"dataframe\">\n",
              "  <thead>\n",
              "    <tr style=\"text-align: right;\">\n",
              "      <th></th>\n",
              "      <th>duration</th>\n",
              "      <th>src_bytes</th>\n",
              "      <th>dst_bytes</th>\n",
              "      <th>land</th>\n",
              "      <th>wrong_fragment</th>\n",
              "      <th>urgent</th>\n",
              "      <th>hot</th>\n",
              "      <th>num_failed_logins</th>\n",
              "      <th>logged_in</th>\n",
              "      <th>num_compromised</th>\n",
              "      <th>...</th>\n",
              "      <th>dst_host_srv_diff_host_rate</th>\n",
              "      <th>dst_host_serror_rate</th>\n",
              "      <th>dst_host_srv_serror_rate</th>\n",
              "      <th>dst_host_rerror_rate</th>\n",
              "      <th>dst_host_srv_rerror_rate</th>\n",
              "      <th>level</th>\n",
              "      <th>attack_flag</th>\n",
              "      <th>attack_map</th>\n",
              "      <th>predicted</th>\n",
              "      <th>actual</th>\n",
              "    </tr>\n",
              "  </thead>\n",
              "  <tbody>\n",
              "    <tr>\n",
              "      <th>count</th>\n",
              "      <td>512.000000</td>\n",
              "      <td>5.120000e+02</td>\n",
              "      <td>512.000000</td>\n",
              "      <td>512.000000</td>\n",
              "      <td>512.0</td>\n",
              "      <td>512.000000</td>\n",
              "      <td>512.000000</td>\n",
              "      <td>512.000000</td>\n",
              "      <td>512.000000</td>\n",
              "      <td>512.000000</td>\n",
              "      <td>...</td>\n",
              "      <td>512.000000</td>\n",
              "      <td>512.000000</td>\n",
              "      <td>512.000000</td>\n",
              "      <td>512.000000</td>\n",
              "      <td>512.000000</td>\n",
              "      <td>512.000000</td>\n",
              "      <td>512.000000</td>\n",
              "      <td>512.000000</td>\n",
              "      <td>512.000000</td>\n",
              "      <td>512.000000</td>\n",
              "    </tr>\n",
              "    <tr>\n",
              "      <th>mean</th>\n",
              "      <td>127.851562</td>\n",
              "      <td>4.546166e+05</td>\n",
              "      <td>1577.707031</td>\n",
              "      <td>0.009766</td>\n",
              "      <td>0.0</td>\n",
              "      <td>0.001953</td>\n",
              "      <td>0.068359</td>\n",
              "      <td>0.019531</td>\n",
              "      <td>0.080078</td>\n",
              "      <td>0.082031</td>\n",
              "      <td>...</td>\n",
              "      <td>0.055840</td>\n",
              "      <td>0.106777</td>\n",
              "      <td>0.039492</td>\n",
              "      <td>0.335566</td>\n",
              "      <td>0.362930</td>\n",
              "      <td>15.099609</td>\n",
              "      <td>0.394531</td>\n",
              "      <td>0.613281</td>\n",
              "      <td>0.605469</td>\n",
              "      <td>0.394531</td>\n",
              "    </tr>\n",
              "    <tr>\n",
              "      <th>std</th>\n",
              "      <td>1700.404003</td>\n",
              "      <td>9.609064e+06</td>\n",
              "      <td>28800.352318</td>\n",
              "      <td>0.098434</td>\n",
              "      <td>0.0</td>\n",
              "      <td>0.044194</td>\n",
              "      <td>0.434805</td>\n",
              "      <td>0.286024</td>\n",
              "      <td>0.271680</td>\n",
              "      <td>0.889771</td>\n",
              "      <td>...</td>\n",
              "      <td>0.177434</td>\n",
              "      <td>0.247925</td>\n",
              "      <td>0.157857</td>\n",
              "      <td>0.456080</td>\n",
              "      <td>0.468067</td>\n",
              "      <td>5.593174</td>\n",
              "      <td>0.489228</td>\n",
              "      <td>0.966594</td>\n",
              "      <td>0.489228</td>\n",
              "      <td>0.489228</td>\n",
              "    </tr>\n",
              "    <tr>\n",
              "      <th>min</th>\n",
              "      <td>0.000000</td>\n",
              "      <td>0.000000e+00</td>\n",
              "      <td>0.000000</td>\n",
              "      <td>0.000000</td>\n",
              "      <td>0.0</td>\n",
              "      <td>0.000000</td>\n",
              "      <td>0.000000</td>\n",
              "      <td>0.000000</td>\n",
              "      <td>0.000000</td>\n",
              "      <td>0.000000</td>\n",
              "      <td>...</td>\n",
              "      <td>0.000000</td>\n",
              "      <td>0.000000</td>\n",
              "      <td>0.000000</td>\n",
              "      <td>0.000000</td>\n",
              "      <td>0.000000</td>\n",
              "      <td>0.000000</td>\n",
              "      <td>0.000000</td>\n",
              "      <td>0.000000</td>\n",
              "      <td>0.000000</td>\n",
              "      <td>0.000000</td>\n",
              "    </tr>\n",
              "    <tr>\n",
              "      <th>25%</th>\n",
              "      <td>0.000000</td>\n",
              "      <td>0.000000e+00</td>\n",
              "      <td>0.000000</td>\n",
              "      <td>0.000000</td>\n",
              "      <td>0.0</td>\n",
              "      <td>0.000000</td>\n",
              "      <td>0.000000</td>\n",
              "      <td>0.000000</td>\n",
              "      <td>0.000000</td>\n",
              "      <td>0.000000</td>\n",
              "      <td>...</td>\n",
              "      <td>0.000000</td>\n",
              "      <td>0.000000</td>\n",
              "      <td>0.000000</td>\n",
              "      <td>0.000000</td>\n",
              "      <td>0.000000</td>\n",
              "      <td>14.000000</td>\n",
              "      <td>0.000000</td>\n",
              "      <td>0.000000</td>\n",
              "      <td>0.000000</td>\n",
              "      <td>0.000000</td>\n",
              "    </tr>\n",
              "    <tr>\n",
              "      <th>50%</th>\n",
              "      <td>0.000000</td>\n",
              "      <td>0.000000e+00</td>\n",
              "      <td>0.000000</td>\n",
              "      <td>0.000000</td>\n",
              "      <td>0.0</td>\n",
              "      <td>0.000000</td>\n",
              "      <td>0.000000</td>\n",
              "      <td>0.000000</td>\n",
              "      <td>0.000000</td>\n",
              "      <td>0.000000</td>\n",
              "      <td>...</td>\n",
              "      <td>0.000000</td>\n",
              "      <td>0.000000</td>\n",
              "      <td>0.000000</td>\n",
              "      <td>0.010000</td>\n",
              "      <td>0.010000</td>\n",
              "      <td>17.000000</td>\n",
              "      <td>0.000000</td>\n",
              "      <td>0.000000</td>\n",
              "      <td>1.000000</td>\n",
              "      <td>0.000000</td>\n",
              "    </tr>\n",
              "    <tr>\n",
              "      <th>75%</th>\n",
              "      <td>0.000000</td>\n",
              "      <td>0.000000e+00</td>\n",
              "      <td>0.000000</td>\n",
              "      <td>0.000000</td>\n",
              "      <td>0.0</td>\n",
              "      <td>0.000000</td>\n",
              "      <td>0.000000</td>\n",
              "      <td>0.000000</td>\n",
              "      <td>0.000000</td>\n",
              "      <td>0.000000</td>\n",
              "      <td>...</td>\n",
              "      <td>0.030000</td>\n",
              "      <td>0.042500</td>\n",
              "      <td>0.010000</td>\n",
              "      <td>1.000000</td>\n",
              "      <td>1.000000</td>\n",
              "      <td>19.000000</td>\n",
              "      <td>1.000000</td>\n",
              "      <td>1.000000</td>\n",
              "      <td>1.000000</td>\n",
              "      <td>1.000000</td>\n",
              "    </tr>\n",
              "    <tr>\n",
              "      <th>max</th>\n",
              "      <td>35301.000000</td>\n",
              "      <td>2.172773e+08</td>\n",
              "      <td>649186.000000</td>\n",
              "      <td>1.000000</td>\n",
              "      <td>0.0</td>\n",
              "      <td>1.000000</td>\n",
              "      <td>5.000000</td>\n",
              "      <td>5.000000</td>\n",
              "      <td>1.000000</td>\n",
              "      <td>16.000000</td>\n",
              "      <td>...</td>\n",
              "      <td>1.000000</td>\n",
              "      <td>1.000000</td>\n",
              "      <td>1.000000</td>\n",
              "      <td>1.000000</td>\n",
              "      <td>1.000000</td>\n",
              "      <td>21.000000</td>\n",
              "      <td>1.000000</td>\n",
              "      <td>4.000000</td>\n",
              "      <td>1.000000</td>\n",
              "      <td>1.000000</td>\n",
              "    </tr>\n",
              "  </tbody>\n",
              "</table>\n",
              "<p>8 rows × 43 columns</p>\n",
              "</div>\n",
              "      <button class=\"colab-df-convert\" onclick=\"convertToInteractive('df-39b009fb-37af-4815-b791-ed28107b78ff')\"\n",
              "              title=\"Convert this dataframe to an interactive table.\"\n",
              "              style=\"display:none;\">\n",
              "        \n",
              "  <svg xmlns=\"http://www.w3.org/2000/svg\" height=\"24px\"viewBox=\"0 0 24 24\"\n",
              "       width=\"24px\">\n",
              "    <path d=\"M0 0h24v24H0V0z\" fill=\"none\"/>\n",
              "    <path d=\"M18.56 5.44l.94 2.06.94-2.06 2.06-.94-2.06-.94-.94-2.06-.94 2.06-2.06.94zm-11 1L8.5 8.5l.94-2.06 2.06-.94-2.06-.94L8.5 2.5l-.94 2.06-2.06.94zm10 10l.94 2.06.94-2.06 2.06-.94-2.06-.94-.94-2.06-.94 2.06-2.06.94z\"/><path d=\"M17.41 7.96l-1.37-1.37c-.4-.4-.92-.59-1.43-.59-.52 0-1.04.2-1.43.59L10.3 9.45l-7.72 7.72c-.78.78-.78 2.05 0 2.83L4 21.41c.39.39.9.59 1.41.59.51 0 1.02-.2 1.41-.59l7.78-7.78 2.81-2.81c.8-.78.8-2.07 0-2.86zM5.41 20L4 18.59l7.72-7.72 1.47 1.35L5.41 20z\"/>\n",
              "  </svg>\n",
              "      </button>\n",
              "      \n",
              "  <style>\n",
              "    .colab-df-container {\n",
              "      display:flex;\n",
              "      flex-wrap:wrap;\n",
              "      gap: 12px;\n",
              "    }\n",
              "\n",
              "    .colab-df-convert {\n",
              "      background-color: #E8F0FE;\n",
              "      border: none;\n",
              "      border-radius: 50%;\n",
              "      cursor: pointer;\n",
              "      display: none;\n",
              "      fill: #1967D2;\n",
              "      height: 32px;\n",
              "      padding: 0 0 0 0;\n",
              "      width: 32px;\n",
              "    }\n",
              "\n",
              "    .colab-df-convert:hover {\n",
              "      background-color: #E2EBFA;\n",
              "      box-shadow: 0px 1px 2px rgba(60, 64, 67, 0.3), 0px 1px 3px 1px rgba(60, 64, 67, 0.15);\n",
              "      fill: #174EA6;\n",
              "    }\n",
              "\n",
              "    [theme=dark] .colab-df-convert {\n",
              "      background-color: #3B4455;\n",
              "      fill: #D2E3FC;\n",
              "    }\n",
              "\n",
              "    [theme=dark] .colab-df-convert:hover {\n",
              "      background-color: #434B5C;\n",
              "      box-shadow: 0px 1px 3px 1px rgba(0, 0, 0, 0.15);\n",
              "      filter: drop-shadow(0px 1px 2px rgba(0, 0, 0, 0.3));\n",
              "      fill: #FFFFFF;\n",
              "    }\n",
              "  </style>\n",
              "\n",
              "      <script>\n",
              "        const buttonEl =\n",
              "          document.querySelector('#df-39b009fb-37af-4815-b791-ed28107b78ff button.colab-df-convert');\n",
              "        buttonEl.style.display =\n",
              "          google.colab.kernel.accessAllowed ? 'block' : 'none';\n",
              "\n",
              "        async function convertToInteractive(key) {\n",
              "          const element = document.querySelector('#df-39b009fb-37af-4815-b791-ed28107b78ff');\n",
              "          const dataTable =\n",
              "            await google.colab.kernel.invokeFunction('convertToInteractive',\n",
              "                                                     [key], {});\n",
              "          if (!dataTable) return;\n",
              "\n",
              "          const docLinkHtml = 'Like what you see? Visit the ' +\n",
              "            '<a target=\"_blank\" href=https://colab.research.google.com/notebooks/data_table.ipynb>data table notebook</a>'\n",
              "            + ' to learn more about interactive tables.';\n",
              "          element.innerHTML = '';\n",
              "          dataTable['output_type'] = 'display_data';\n",
              "          await google.colab.output.renderOutput(dataTable, element);\n",
              "          const docLink = document.createElement('div');\n",
              "          docLink.innerHTML = docLinkHtml;\n",
              "          element.appendChild(docLink);\n",
              "        }\n",
              "      </script>\n",
              "    </div>\n",
              "  </div>\n",
              "  "
            ]
          },
          "metadata": {},
          "execution_count": 21
        }
      ],
      "source": [
        "# dataframe to store incorrect classification\n",
        "binary_prediction_data['errors'].describe()"
      ]
    },
    {
      "cell_type": "markdown",
      "metadata": {
        "papermill": {
          "duration": 0.02375,
          "end_time": "2020-08-28T13:26:38.045047",
          "exception": false,
          "start_time": "2020-08-28T13:26:38.021297",
          "status": "completed"
        },
        "tags": [],
        "id": "FJIf6687B4wX"
      },
      "source": [
        "Notice there are several columns with a standard deviation of 0. That tells us that there is no additional information to glean from those columns. So we can start by dropping those. "
      ]
    },
    {
      "cell_type": "code",
      "execution_count": 22,
      "metadata": {
        "papermill": {
          "duration": 0.171846,
          "end_time": "2020-08-28T13:26:38.241168",
          "exception": false,
          "start_time": "2020-08-28T13:26:38.069322",
          "status": "completed"
        },
        "tags": [],
        "colab": {
          "base_uri": "https://localhost:8080/",
          "height": 393
        },
        "id": "S1mzIguTB4wX",
        "outputId": "16672dbf-c92e-4b50-a0e1-a87b62029176"
      },
      "outputs": [
        {
          "output_type": "execute_result",
          "data": {
            "text/plain": [
              "           duration     src_bytes      dst_bytes        land      urgent  \\\n",
              "count    512.000000  5.120000e+02     512.000000  512.000000  512.000000   \n",
              "mean     127.851562  4.546166e+05    1577.707031    0.009766    0.001953   \n",
              "std     1700.404003  9.609064e+06   28800.352318    0.098434    0.044194   \n",
              "min        0.000000  0.000000e+00       0.000000    0.000000    0.000000   \n",
              "25%        0.000000  0.000000e+00       0.000000    0.000000    0.000000   \n",
              "50%        0.000000  0.000000e+00       0.000000    0.000000    0.000000   \n",
              "75%        0.000000  0.000000e+00       0.000000    0.000000    0.000000   \n",
              "max    35301.000000  2.172773e+08  649186.000000    1.000000    1.000000   \n",
              "\n",
              "              hot  num_failed_logins   logged_in  num_compromised  root_shell  \\\n",
              "count  512.000000         512.000000  512.000000       512.000000  512.000000   \n",
              "mean     0.068359           0.019531    0.080078         0.082031    0.011719   \n",
              "std      0.434805           0.286024    0.271680         0.889771    0.107722   \n",
              "min      0.000000           0.000000    0.000000         0.000000    0.000000   \n",
              "25%      0.000000           0.000000    0.000000         0.000000    0.000000   \n",
              "50%      0.000000           0.000000    0.000000         0.000000    0.000000   \n",
              "75%      0.000000           0.000000    0.000000         0.000000    0.000000   \n",
              "max      5.000000           5.000000    1.000000        16.000000    1.000000   \n",
              "\n",
              "       ...  dst_host_srv_diff_host_rate  dst_host_serror_rate  \\\n",
              "count  ...                   512.000000            512.000000   \n",
              "mean   ...                     0.055840              0.106777   \n",
              "std    ...                     0.177434              0.247925   \n",
              "min    ...                     0.000000              0.000000   \n",
              "25%    ...                     0.000000              0.000000   \n",
              "50%    ...                     0.000000              0.000000   \n",
              "75%    ...                     0.030000              0.042500   \n",
              "max    ...                     1.000000              1.000000   \n",
              "\n",
              "       dst_host_srv_serror_rate  dst_host_rerror_rate  \\\n",
              "count                512.000000            512.000000   \n",
              "mean                   0.039492              0.335566   \n",
              "std                    0.157857              0.456080   \n",
              "min                    0.000000              0.000000   \n",
              "25%                    0.000000              0.000000   \n",
              "50%                    0.000000              0.010000   \n",
              "75%                    0.010000              1.000000   \n",
              "max                    1.000000              1.000000   \n",
              "\n",
              "       dst_host_srv_rerror_rate       level  attack_flag  attack_map  \\\n",
              "count                512.000000  512.000000   512.000000  512.000000   \n",
              "mean                   0.362930   15.099609     0.394531    0.613281   \n",
              "std                    0.468067    5.593174     0.489228    0.966594   \n",
              "min                    0.000000    0.000000     0.000000    0.000000   \n",
              "25%                    0.000000   14.000000     0.000000    0.000000   \n",
              "50%                    0.010000   17.000000     0.000000    0.000000   \n",
              "75%                    1.000000   19.000000     1.000000    1.000000   \n",
              "max                    1.000000   21.000000     1.000000    4.000000   \n",
              "\n",
              "        predicted      actual  \n",
              "count  512.000000  512.000000  \n",
              "mean     0.605469    0.394531  \n",
              "std      0.489228    0.489228  \n",
              "min      0.000000    0.000000  \n",
              "25%      0.000000    0.000000  \n",
              "50%      1.000000    0.000000  \n",
              "75%      1.000000    1.000000  \n",
              "max      1.000000    1.000000  \n",
              "\n",
              "[8 rows x 40 columns]"
            ],
            "text/html": [
              "\n",
              "  <div id=\"df-766a861c-b1e7-4df2-93e7-6ef47996fcd2\">\n",
              "    <div class=\"colab-df-container\">\n",
              "      <div>\n",
              "<style scoped>\n",
              "    .dataframe tbody tr th:only-of-type {\n",
              "        vertical-align: middle;\n",
              "    }\n",
              "\n",
              "    .dataframe tbody tr th {\n",
              "        vertical-align: top;\n",
              "    }\n",
              "\n",
              "    .dataframe thead th {\n",
              "        text-align: right;\n",
              "    }\n",
              "</style>\n",
              "<table border=\"1\" class=\"dataframe\">\n",
              "  <thead>\n",
              "    <tr style=\"text-align: right;\">\n",
              "      <th></th>\n",
              "      <th>duration</th>\n",
              "      <th>src_bytes</th>\n",
              "      <th>dst_bytes</th>\n",
              "      <th>land</th>\n",
              "      <th>urgent</th>\n",
              "      <th>hot</th>\n",
              "      <th>num_failed_logins</th>\n",
              "      <th>logged_in</th>\n",
              "      <th>num_compromised</th>\n",
              "      <th>root_shell</th>\n",
              "      <th>...</th>\n",
              "      <th>dst_host_srv_diff_host_rate</th>\n",
              "      <th>dst_host_serror_rate</th>\n",
              "      <th>dst_host_srv_serror_rate</th>\n",
              "      <th>dst_host_rerror_rate</th>\n",
              "      <th>dst_host_srv_rerror_rate</th>\n",
              "      <th>level</th>\n",
              "      <th>attack_flag</th>\n",
              "      <th>attack_map</th>\n",
              "      <th>predicted</th>\n",
              "      <th>actual</th>\n",
              "    </tr>\n",
              "  </thead>\n",
              "  <tbody>\n",
              "    <tr>\n",
              "      <th>count</th>\n",
              "      <td>512.000000</td>\n",
              "      <td>5.120000e+02</td>\n",
              "      <td>512.000000</td>\n",
              "      <td>512.000000</td>\n",
              "      <td>512.000000</td>\n",
              "      <td>512.000000</td>\n",
              "      <td>512.000000</td>\n",
              "      <td>512.000000</td>\n",
              "      <td>512.000000</td>\n",
              "      <td>512.000000</td>\n",
              "      <td>...</td>\n",
              "      <td>512.000000</td>\n",
              "      <td>512.000000</td>\n",
              "      <td>512.000000</td>\n",
              "      <td>512.000000</td>\n",
              "      <td>512.000000</td>\n",
              "      <td>512.000000</td>\n",
              "      <td>512.000000</td>\n",
              "      <td>512.000000</td>\n",
              "      <td>512.000000</td>\n",
              "      <td>512.000000</td>\n",
              "    </tr>\n",
              "    <tr>\n",
              "      <th>mean</th>\n",
              "      <td>127.851562</td>\n",
              "      <td>4.546166e+05</td>\n",
              "      <td>1577.707031</td>\n",
              "      <td>0.009766</td>\n",
              "      <td>0.001953</td>\n",
              "      <td>0.068359</td>\n",
              "      <td>0.019531</td>\n",
              "      <td>0.080078</td>\n",
              "      <td>0.082031</td>\n",
              "      <td>0.011719</td>\n",
              "      <td>...</td>\n",
              "      <td>0.055840</td>\n",
              "      <td>0.106777</td>\n",
              "      <td>0.039492</td>\n",
              "      <td>0.335566</td>\n",
              "      <td>0.362930</td>\n",
              "      <td>15.099609</td>\n",
              "      <td>0.394531</td>\n",
              "      <td>0.613281</td>\n",
              "      <td>0.605469</td>\n",
              "      <td>0.394531</td>\n",
              "    </tr>\n",
              "    <tr>\n",
              "      <th>std</th>\n",
              "      <td>1700.404003</td>\n",
              "      <td>9.609064e+06</td>\n",
              "      <td>28800.352318</td>\n",
              "      <td>0.098434</td>\n",
              "      <td>0.044194</td>\n",
              "      <td>0.434805</td>\n",
              "      <td>0.286024</td>\n",
              "      <td>0.271680</td>\n",
              "      <td>0.889771</td>\n",
              "      <td>0.107722</td>\n",
              "      <td>...</td>\n",
              "      <td>0.177434</td>\n",
              "      <td>0.247925</td>\n",
              "      <td>0.157857</td>\n",
              "      <td>0.456080</td>\n",
              "      <td>0.468067</td>\n",
              "      <td>5.593174</td>\n",
              "      <td>0.489228</td>\n",
              "      <td>0.966594</td>\n",
              "      <td>0.489228</td>\n",
              "      <td>0.489228</td>\n",
              "    </tr>\n",
              "    <tr>\n",
              "      <th>min</th>\n",
              "      <td>0.000000</td>\n",
              "      <td>0.000000e+00</td>\n",
              "      <td>0.000000</td>\n",
              "      <td>0.000000</td>\n",
              "      <td>0.000000</td>\n",
              "      <td>0.000000</td>\n",
              "      <td>0.000000</td>\n",
              "      <td>0.000000</td>\n",
              "      <td>0.000000</td>\n",
              "      <td>0.000000</td>\n",
              "      <td>...</td>\n",
              "      <td>0.000000</td>\n",
              "      <td>0.000000</td>\n",
              "      <td>0.000000</td>\n",
              "      <td>0.000000</td>\n",
              "      <td>0.000000</td>\n",
              "      <td>0.000000</td>\n",
              "      <td>0.000000</td>\n",
              "      <td>0.000000</td>\n",
              "      <td>0.000000</td>\n",
              "      <td>0.000000</td>\n",
              "    </tr>\n",
              "    <tr>\n",
              "      <th>25%</th>\n",
              "      <td>0.000000</td>\n",
              "      <td>0.000000e+00</td>\n",
              "      <td>0.000000</td>\n",
              "      <td>0.000000</td>\n",
              "      <td>0.000000</td>\n",
              "      <td>0.000000</td>\n",
              "      <td>0.000000</td>\n",
              "      <td>0.000000</td>\n",
              "      <td>0.000000</td>\n",
              "      <td>0.000000</td>\n",
              "      <td>...</td>\n",
              "      <td>0.000000</td>\n",
              "      <td>0.000000</td>\n",
              "      <td>0.000000</td>\n",
              "      <td>0.000000</td>\n",
              "      <td>0.000000</td>\n",
              "      <td>14.000000</td>\n",
              "      <td>0.000000</td>\n",
              "      <td>0.000000</td>\n",
              "      <td>0.000000</td>\n",
              "      <td>0.000000</td>\n",
              "    </tr>\n",
              "    <tr>\n",
              "      <th>50%</th>\n",
              "      <td>0.000000</td>\n",
              "      <td>0.000000e+00</td>\n",
              "      <td>0.000000</td>\n",
              "      <td>0.000000</td>\n",
              "      <td>0.000000</td>\n",
              "      <td>0.000000</td>\n",
              "      <td>0.000000</td>\n",
              "      <td>0.000000</td>\n",
              "      <td>0.000000</td>\n",
              "      <td>0.000000</td>\n",
              "      <td>...</td>\n",
              "      <td>0.000000</td>\n",
              "      <td>0.000000</td>\n",
              "      <td>0.000000</td>\n",
              "      <td>0.010000</td>\n",
              "      <td>0.010000</td>\n",
              "      <td>17.000000</td>\n",
              "      <td>0.000000</td>\n",
              "      <td>0.000000</td>\n",
              "      <td>1.000000</td>\n",
              "      <td>0.000000</td>\n",
              "    </tr>\n",
              "    <tr>\n",
              "      <th>75%</th>\n",
              "      <td>0.000000</td>\n",
              "      <td>0.000000e+00</td>\n",
              "      <td>0.000000</td>\n",
              "      <td>0.000000</td>\n",
              "      <td>0.000000</td>\n",
              "      <td>0.000000</td>\n",
              "      <td>0.000000</td>\n",
              "      <td>0.000000</td>\n",
              "      <td>0.000000</td>\n",
              "      <td>0.000000</td>\n",
              "      <td>...</td>\n",
              "      <td>0.030000</td>\n",
              "      <td>0.042500</td>\n",
              "      <td>0.010000</td>\n",
              "      <td>1.000000</td>\n",
              "      <td>1.000000</td>\n",
              "      <td>19.000000</td>\n",
              "      <td>1.000000</td>\n",
              "      <td>1.000000</td>\n",
              "      <td>1.000000</td>\n",
              "      <td>1.000000</td>\n",
              "    </tr>\n",
              "    <tr>\n",
              "      <th>max</th>\n",
              "      <td>35301.000000</td>\n",
              "      <td>2.172773e+08</td>\n",
              "      <td>649186.000000</td>\n",
              "      <td>1.000000</td>\n",
              "      <td>1.000000</td>\n",
              "      <td>5.000000</td>\n",
              "      <td>5.000000</td>\n",
              "      <td>1.000000</td>\n",
              "      <td>16.000000</td>\n",
              "      <td>1.000000</td>\n",
              "      <td>...</td>\n",
              "      <td>1.000000</td>\n",
              "      <td>1.000000</td>\n",
              "      <td>1.000000</td>\n",
              "      <td>1.000000</td>\n",
              "      <td>1.000000</td>\n",
              "      <td>21.000000</td>\n",
              "      <td>1.000000</td>\n",
              "      <td>4.000000</td>\n",
              "      <td>1.000000</td>\n",
              "      <td>1.000000</td>\n",
              "    </tr>\n",
              "  </tbody>\n",
              "</table>\n",
              "<p>8 rows × 40 columns</p>\n",
              "</div>\n",
              "      <button class=\"colab-df-convert\" onclick=\"convertToInteractive('df-766a861c-b1e7-4df2-93e7-6ef47996fcd2')\"\n",
              "              title=\"Convert this dataframe to an interactive table.\"\n",
              "              style=\"display:none;\">\n",
              "        \n",
              "  <svg xmlns=\"http://www.w3.org/2000/svg\" height=\"24px\"viewBox=\"0 0 24 24\"\n",
              "       width=\"24px\">\n",
              "    <path d=\"M0 0h24v24H0V0z\" fill=\"none\"/>\n",
              "    <path d=\"M18.56 5.44l.94 2.06.94-2.06 2.06-.94-2.06-.94-.94-2.06-.94 2.06-2.06.94zm-11 1L8.5 8.5l.94-2.06 2.06-.94-2.06-.94L8.5 2.5l-.94 2.06-2.06.94zm10 10l.94 2.06.94-2.06 2.06-.94-2.06-.94-.94-2.06-.94 2.06-2.06.94z\"/><path d=\"M17.41 7.96l-1.37-1.37c-.4-.4-.92-.59-1.43-.59-.52 0-1.04.2-1.43.59L10.3 9.45l-7.72 7.72c-.78.78-.78 2.05 0 2.83L4 21.41c.39.39.9.59 1.41.59.51 0 1.02-.2 1.41-.59l7.78-7.78 2.81-2.81c.8-.78.8-2.07 0-2.86zM5.41 20L4 18.59l7.72-7.72 1.47 1.35L5.41 20z\"/>\n",
              "  </svg>\n",
              "      </button>\n",
              "      \n",
              "  <style>\n",
              "    .colab-df-container {\n",
              "      display:flex;\n",
              "      flex-wrap:wrap;\n",
              "      gap: 12px;\n",
              "    }\n",
              "\n",
              "    .colab-df-convert {\n",
              "      background-color: #E8F0FE;\n",
              "      border: none;\n",
              "      border-radius: 50%;\n",
              "      cursor: pointer;\n",
              "      display: none;\n",
              "      fill: #1967D2;\n",
              "      height: 32px;\n",
              "      padding: 0 0 0 0;\n",
              "      width: 32px;\n",
              "    }\n",
              "\n",
              "    .colab-df-convert:hover {\n",
              "      background-color: #E2EBFA;\n",
              "      box-shadow: 0px 1px 2px rgba(60, 64, 67, 0.3), 0px 1px 3px 1px rgba(60, 64, 67, 0.15);\n",
              "      fill: #174EA6;\n",
              "    }\n",
              "\n",
              "    [theme=dark] .colab-df-convert {\n",
              "      background-color: #3B4455;\n",
              "      fill: #D2E3FC;\n",
              "    }\n",
              "\n",
              "    [theme=dark] .colab-df-convert:hover {\n",
              "      background-color: #434B5C;\n",
              "      box-shadow: 0px 1px 3px 1px rgba(0, 0, 0, 0.15);\n",
              "      filter: drop-shadow(0px 1px 2px rgba(0, 0, 0, 0.3));\n",
              "      fill: #FFFFFF;\n",
              "    }\n",
              "  </style>\n",
              "\n",
              "      <script>\n",
              "        const buttonEl =\n",
              "          document.querySelector('#df-766a861c-b1e7-4df2-93e7-6ef47996fcd2 button.colab-df-convert');\n",
              "        buttonEl.style.display =\n",
              "          google.colab.kernel.accessAllowed ? 'block' : 'none';\n",
              "\n",
              "        async function convertToInteractive(key) {\n",
              "          const element = document.querySelector('#df-766a861c-b1e7-4df2-93e7-6ef47996fcd2');\n",
              "          const dataTable =\n",
              "            await google.colab.kernel.invokeFunction('convertToInteractive',\n",
              "                                                     [key], {});\n",
              "          if (!dataTable) return;\n",
              "\n",
              "          const docLinkHtml = 'Like what you see? Visit the ' +\n",
              "            '<a target=\"_blank\" href=https://colab.research.google.com/notebooks/data_table.ipynb>data table notebook</a>'\n",
              "            + ' to learn more about interactive tables.';\n",
              "          element.innerHTML = '';\n",
              "          dataTable['output_type'] = 'display_data';\n",
              "          await google.colab.output.renderOutput(dataTable, element);\n",
              "          const docLink = document.createElement('div');\n",
              "          docLink.innerHTML = docLinkHtml;\n",
              "          element.appendChild(docLink);\n",
              "        }\n",
              "      </script>\n",
              "    </div>\n",
              "  </div>\n",
              "  "
            ]
          },
          "metadata": {},
          "execution_count": 22
        }
      ],
      "source": [
        "# data minus the rows with no variance\n",
        "binary_prediction_data['non_zeros'].describe()"
      ]
    },
    {
      "cell_type": "code",
      "execution_count": 23,
      "metadata": {
        "papermill": {
          "duration": 0.049736,
          "end_time": "2020-08-28T13:26:38.316351",
          "exception": false,
          "start_time": "2020-08-28T13:26:38.266615",
          "status": "completed"
        },
        "tags": [],
        "colab": {
          "base_uri": "https://localhost:8080/"
        },
        "id": "TB7EeGWiB4wX",
        "outputId": "2a5658db-8ef9-45a0-c0ae-5e278377cf67"
      },
      "outputs": [
        {
          "output_type": "stream",
          "name": "stderr",
          "text": [
            "/usr/local/lib/python3.7/dist-packages/ipykernel_launcher.py:2: FutureWarning: Dropping of nuisance columns in DataFrame reductions (with 'numeric_only=None') is deprecated; in a future version this will raise TypeError.  Select only valid columns before calling the reduction.\n",
            "  \n"
          ]
        },
        {
          "output_type": "execute_result",
          "data": {
            "text/plain": [
              "duration                         6.075456\n",
              "src_bytes                       47.696771\n",
              "dst_bytes                      807.015817\n",
              "land                             0.126175\n",
              "urgent                           0.000000\n",
              "hot                              0.000000\n",
              "num_failed_logins                0.000000\n",
              "logged_in                        0.137991\n",
              "num_compromised                  0.511166\n",
              "root_shell                       0.000000\n",
              "su_attempted                     0.000000\n",
              "num_root                         0.721727\n",
              "num_file_creations               0.000000\n",
              "num_shells                       0.000000\n",
              "num_access_files                 0.000000\n",
              "is_guest_login                   0.000000\n",
              "count                            1.899214\n",
              "srv_count                        3.996947\n",
              "serror_rate                      0.320797\n",
              "srv_serror_rate                  0.313866\n",
              "rerror_rate                      0.419041\n",
              "srv_rerror_rate                  0.413109\n",
              "same_srv_rate                    0.055648\n",
              "diff_srv_rate                    0.091349\n",
              "srv_diff_host_rate               0.281452\n",
              "dst_host_count                  90.497708\n",
              "dst_host_srv_count             106.133029\n",
              "dst_host_same_srv_rate           0.370371\n",
              "dst_host_diff_srv_rate           0.102435\n",
              "dst_host_same_src_port_rate      0.325618\n",
              "dst_host_srv_diff_host_rate      0.145341\n",
              "dst_host_serror_rate             0.291620\n",
              "dst_host_srv_serror_rate         0.162370\n",
              "dst_host_rerror_rate             0.289454\n",
              "dst_host_srv_rerror_rate         0.358063\n",
              "level                            3.859469\n",
              "attack_flag                      0.000000\n",
              "attack_map                       0.000000\n",
              "predicted                        0.000000\n",
              "actual                           0.000000\n",
              "dtype: float64"
            ]
          },
          "metadata": {},
          "execution_count": 23
        }
      ],
      "source": [
        "# see the standard deviation of the false positives\n",
        "binary_prediction_data['false_positives'].std()"
      ]
    },
    {
      "cell_type": "markdown",
      "metadata": {
        "papermill": {
          "duration": 0.02554,
          "end_time": "2020-08-28T13:26:38.367324",
          "exception": false,
          "start_time": "2020-08-28T13:26:38.341784",
          "status": "completed"
        },
        "tags": [],
        "id": "0Hjkfm2MB4wX"
      },
      "source": [
        "Now we should see some variance across our features. Here, though, we're going to look into our false positives and false negatives separately and see what we notice."
      ]
    },
    {
      "cell_type": "code",
      "execution_count": 24,
      "metadata": {
        "papermill": {
          "duration": 0.049509,
          "end_time": "2020-08-28T13:26:38.441930",
          "exception": false,
          "start_time": "2020-08-28T13:26:38.392421",
          "status": "completed"
        },
        "tags": [],
        "colab": {
          "base_uri": "https://localhost:8080/"
        },
        "id": "QfwARysDB4wY",
        "outputId": "696a05cf-d586-4254-ff41-e0748864e1f0"
      },
      "outputs": [
        {
          "output_type": "stream",
          "name": "stderr",
          "text": [
            "/usr/local/lib/python3.7/dist-packages/ipykernel_launcher.py:2: FutureWarning: Dropping of nuisance columns in DataFrame reductions (with 'numeric_only=None') is deprecated; in a future version this will raise TypeError.  Select only valid columns before calling the reduction.\n",
            "  \n"
          ]
        },
        {
          "output_type": "execute_result",
          "data": {
            "text/plain": [
              "duration                       2.699511e+03\n",
              "src_bytes                      1.529484e+07\n",
              "dst_bytes                      4.581777e+04\n",
              "land                           0.000000e+00\n",
              "urgent                         7.035975e-02\n",
              "hot                            6.799753e-01\n",
              "num_failed_logins              4.544142e-01\n",
              "logged_in                      3.794185e-01\n",
              "num_compromised                1.264929e+00\n",
              "root_shell                     1.701884e-01\n",
              "su_attempted                   7.035975e-02\n",
              "num_root                       1.311014e+00\n",
              "num_file_creations             1.397254e+00\n",
              "num_shells                     2.210534e-01\n",
              "num_access_files               1.212589e-01\n",
              "is_guest_login                 1.396654e-01\n",
              "count                          1.260811e+02\n",
              "srv_count                      6.540634e+00\n",
              "serror_rate                    1.398803e-01\n",
              "srv_serror_rate                1.833549e-01\n",
              "rerror_rate                    4.530425e-01\n",
              "srv_rerror_rate                4.739146e-01\n",
              "same_srv_rate                  4.480240e-01\n",
              "diff_srv_rate                  2.700675e-01\n",
              "srv_diff_host_rate             1.169078e-01\n",
              "dst_host_count                 1.022836e+02\n",
              "dst_host_srv_count             3.611649e+01\n",
              "dst_host_same_srv_rate         3.017368e-01\n",
              "dst_host_diff_srv_rate         3.099869e-01\n",
              "dst_host_same_src_port_rate    3.093150e-01\n",
              "dst_host_srv_diff_host_rate    2.180836e-01\n",
              "dst_host_serror_rate           1.164757e-01\n",
              "dst_host_srv_serror_rate       1.505225e-01\n",
              "dst_host_rerror_rate           4.501048e-01\n",
              "dst_host_srv_rerror_rate       4.696676e-01\n",
              "level                          7.279648e+00\n",
              "attack_flag                    0.000000e+00\n",
              "attack_map                     9.513044e-01\n",
              "predicted                      0.000000e+00\n",
              "actual                         0.000000e+00\n",
              "dtype: float64"
            ]
          },
          "metadata": {},
          "execution_count": 24
        }
      ],
      "source": [
        "# see the standard deviation of the false negatives\n",
        "binary_prediction_data['false_negatives'].std()"
      ]
    },
    {
      "cell_type": "markdown",
      "metadata": {
        "papermill": {
          "duration": 0.024873,
          "end_time": "2020-08-28T13:26:38.491856",
          "exception": false,
          "start_time": "2020-08-28T13:26:38.466983",
          "status": "completed"
        },
        "tags": [],
        "id": "eSL10AxAB4wY"
      },
      "source": [
        "Notice in the false positives all of columns with no variance? In the false negatives, though, all the columns have some degree of variance. That suggests to us that there may be some good information in those columns because there is a difference bewteen the observations in one classification vs the other.\n",
        "\n",
        "Let's also take a look at the false-negatives and see what types of attacks we missed."
      ]
    },
    {
      "cell_type": "code",
      "execution_count": 25,
      "metadata": {
        "papermill": {
          "duration": 0.279087,
          "end_time": "2020-08-28T13:26:38.796312",
          "exception": false,
          "start_time": "2020-08-28T13:26:38.517225",
          "status": "completed"
        },
        "tags": [],
        "id": "DMdY7vFtB4wY",
        "outputId": "8295e74f-cae9-4fe5-cff1-bece97818b5f",
        "colab": {
          "base_uri": "https://localhost:8080/",
          "height": 350
        }
      },
      "outputs": [
        {
          "output_type": "execute_result",
          "data": {
            "text/plain": [
              "<matplotlib.axes._subplots.AxesSubplot at 0x7f6fb2aa95d0>"
            ]
          },
          "metadata": {},
          "execution_count": 25
        },
        {
          "output_type": "display_data",
          "data": {
            "text/plain": [
              "<Figure size 432x288 with 1 Axes>"
            ],
            "image/png": "[encoded data removed]"
          },
          "metadata": {
            "needs_background": "light"
          }
        }
      ],
      "source": [
        "# distribution of false negatives--what attacks did we miss?\n",
        "binary_prediction_data['false_negatives'].attack.value_counts().plot.bar()"
      ]
    },
    {
      "cell_type": "markdown",
      "metadata": {
        "papermill": {
          "duration": 0.025462,
          "end_time": "2020-08-28T13:26:38.847671",
          "exception": false,
          "start_time": "2020-08-28T13:26:38.822209",
          "status": "completed"
        },
        "tags": [],
        "id": "C8aNqpjUB4wZ"
      },
      "source": [
        "Neptune and Satan are the biggest misses. Let's see if we can correct that.\n",
        "\n",
        "The last data set we were working with was to_fit. So we'll work with that. Since the rest of the values are numeric features, we can add them easily."
      ]
    },
    {
      "cell_type": "code",
      "execution_count": 26,
      "metadata": {
        "papermill": {
          "duration": 0.051272,
          "end_time": "2020-08-28T13:26:38.927772",
          "exception": false,
          "start_time": "2020-08-28T13:26:38.876500",
          "status": "completed"
        },
        "tags": [],
        "colab": {
          "base_uri": "https://localhost:8080/"
        },
        "id": "mXSjvROlB4wZ",
        "outputId": "65d7e9dc-b1cf-4be4-a3de-ddc049a79e8d"
      },
      "outputs": [
        {
          "output_type": "execute_result",
          "data": {
            "text/plain": [
              "['urgent',\n",
              " 'hot',\n",
              " 'num_failed_logins',\n",
              " 'root_shell',\n",
              " 'su_attempted',\n",
              " 'num_file_creations',\n",
              " 'num_shells',\n",
              " 'num_access_files',\n",
              " 'is_guest_login']"
            ]
          },
          "metadata": {},
          "execution_count": 26
        }
      ],
      "source": [
        "# we'll need to pull these from the data set\n",
        "outcomes = ['attack_flag','attack_map', 'actual']\n",
        "\n",
        "# get the new features we're interested in and drop the outcomes\n",
        "new_features = (binary_prediction_data['false_positives']==0).all(axis=0)\n",
        "feature_cols = binary_prediction_data['false_positives'].loc[:,new_features]\n",
        "feature_cols = feature_cols.drop(outcomes,axis=1)\n",
        "\n",
        "# Let's get these in a list and take a look\n",
        "new_feature_columns = list(feature_cols.columns)\n",
        "new_feature_columns"
      ]
    },
    {
      "cell_type": "code",
      "execution_count": 27,
      "metadata": {
        "papermill": {
          "duration": 0.098914,
          "end_time": "2020-08-28T13:26:39.060875",
          "exception": false,
          "start_time": "2020-08-28T13:26:38.961961",
          "status": "completed"
        },
        "tags": [],
        "id": "k5_IoowoB4wa"
      },
      "outputs": [],
      "source": [
        "# add the new freatures\n",
        "to_fit_new_features = to_fit.join(df[new_feature_columns])\n",
        "\n",
        "# build the training sets\n",
        "new_feature_train_X, new_feature_val_X, new_feature_train_y, new_feature_val_y = train_test_split(to_fit_new_features, binary_y)"
      ]
    },
    {
      "cell_type": "markdown",
      "metadata": {
        "papermill": {
          "duration": 0.026049,
          "end_time": "2020-08-28T13:26:39.112840",
          "exception": false,
          "start_time": "2020-08-28T13:26:39.086791",
          "status": "completed"
        },
        "tags": [],
        "id": "L6E9rQiOB4wa"
      },
      "source": [
        "Now, let's see how we performed."
      ]
    },
    {
      "cell_type": "code",
      "execution_count": 28,
      "metadata": {
        "papermill": {
          "duration": 11.470567,
          "end_time": "2020-08-28T13:26:50.611159",
          "exception": false,
          "start_time": "2020-08-28T13:26:39.140592",
          "status": "completed"
        },
        "tags": [],
        "colab": {
          "base_uri": "https://localhost:8080/"
        },
        "id": "seCYE-LcB4wa",
        "outputId": "4e2477aa-6722-4f14-d647-f861a578710b"
      },
      "outputs": [
        {
          "output_type": "execute_result",
          "data": {
            "text/plain": [
              "0.9939034071063411"
            ]
          },
          "metadata": {},
          "execution_count": 28
        }
      ],
      "source": [
        "# model for the binary classification\n",
        "new_feature_model = RandomForestClassifier()\n",
        "new_feature_model.fit(new_feature_train_X, new_feature_train_y)\n",
        "new_feature_predictions = new_feature_model.predict(new_feature_val_X)\n",
        "\n",
        "# get the score for the model\n",
        "new_feature_score = accuracy_score(new_feature_predictions,new_feature_val_y)\n",
        "\n",
        "new_feature_score"
      ]
    },
    {
      "cell_type": "markdown",
      "metadata": {
        "papermill": {
          "duration": 0.026216,
          "end_time": "2020-08-28T13:26:50.664553",
          "exception": false,
          "start_time": "2020-08-28T13:26:50.638337",
          "status": "completed"
        },
        "tags": [],
        "id": "bmd3g4TIB4wb"
      },
      "source": [
        "We'll run another confustion matrix to see our missed predictions..."
      ]
    },
    {
      "cell_type": "code",
      "execution_count": 29,
      "metadata": {
        "papermill": {
          "duration": 0.442342,
          "end_time": "2020-08-28T13:26:51.133095",
          "exception": false,
          "start_time": "2020-08-28T13:26:50.690753",
          "status": "completed"
        },
        "tags": [],
        "colab": {
          "base_uri": "https://localhost:8080/",
          "height": 282
        },
        "id": "uoknhaJaB4wb",
        "outputId": "730b14f4-e62e-4f64-bddb-05f51c8e143c"
      },
      "outputs": [
        {
          "output_type": "execute_result",
          "data": {
            "text/plain": [
              "<matplotlib.axes._subplots.AxesSubplot at 0x7f6fb311d1d0>"
            ]
          },
          "metadata": {},
          "execution_count": 29
        },
        {
          "output_type": "display_data",
          "data": {
            "text/plain": [
              "<Figure size 432x288 with 2 Axes>"
            ],
            "image/png": "[encoded data removed]"
          },
          "metadata": {
            "needs_background": "light"
          }
        }
      ],
      "source": [
        "# capture the prediction data\n",
        "new_prediction_data = add_predictions(df,\n",
        "                                      new_feature_predictions,\n",
        "                                      new_feature_val_y)\n",
        "\n",
        "# create a heatmap of the confusion matrix\n",
        "sns.heatmap(data=new_prediction_data['confusion_matrix'],\n",
        "            xticklabels = ['Predicted Normal','Predicted Attack'],\n",
        "            yticklabels = ['Actual Normal','Actual Attack'],\n",
        "            cmap=\"YlGnBu\",\n",
        "            fmt='d',\n",
        "            annot=True)"
      ]
    },
    {
      "cell_type": "markdown",
      "metadata": {
        "papermill": {
          "duration": 0.026093,
          "end_time": "2020-08-28T13:26:51.185784",
          "exception": false,
          "start_time": "2020-08-28T13:26:51.159691",
          "status": "completed"
        },
        "tags": [],
        "id": "JW0PuqtMB4wc"
      },
      "source": [
        "That's looking better! Still a few that we missed. How about specific attacks?"
      ]
    },
    {
      "cell_type": "code",
      "execution_count": 30,
      "metadata": {
        "papermill": {
          "duration": 0.265168,
          "end_time": "2020-08-28T13:26:51.477659",
          "exception": false,
          "start_time": "2020-08-28T13:26:51.212491",
          "status": "completed"
        },
        "tags": [],
        "id": "JO5qgBmWB4wc",
        "outputId": "233d71f9-2302-42e9-e499-f0d2dc7d9575",
        "colab": {
          "base_uri": "https://localhost:8080/",
          "height": 350
        }
      },
      "outputs": [
        {
          "output_type": "execute_result",
          "data": {
            "text/plain": [
              "<matplotlib.axes._subplots.AxesSubplot at 0x7f6fae510b90>"
            ]
          },
          "metadata": {},
          "execution_count": 30
        },
        {
          "output_type": "display_data",
          "data": {
            "text/plain": [
              "<Figure size 432x288 with 1 Axes>"
            ],
            "image/png": "[encoded data removed]"
          },
          "metadata": {
            "needs_background": "light"
          }
        }
      ],
      "source": [
        "# distribuition of the false negatives--what attacks did we miss?\n",
        "new_prediction_data['false_negatives'].attack.value_counts().plot.bar()"
      ]
    },
    {
      "cell_type": "markdown",
      "metadata": {
        "papermill": {
          "duration": 0.026918,
          "end_time": "2020-08-28T13:26:51.531774",
          "exception": false,
          "start_time": "2020-08-28T13:26:51.504856",
          "status": "completed"
        },
        "tags": [],
        "id": "Qexim0JjB4wc"
      },
      "source": [
        "Overall, things are looking better. We're just missing a few isolated instances of most specific attacks. Neptune is still the hardest to find."
      ]
    },
    {
      "cell_type": "markdown",
      "metadata": {
        "papermill": {
          "duration": 0.026614,
          "end_time": "2020-08-28T13:26:51.585169",
          "exception": false,
          "start_time": "2020-08-28T13:26:51.558555",
          "status": "completed"
        },
        "tags": [],
        "id": "S7KC_g0LB4wd"
      },
      "source": [
        "Now it's time to for the real thing. Let's run our model against some unseen data. We can think of this as new network traffic.\n",
        "\n",
        "We will fit our model on full dataset and then run it against the test set to see how we did. "
      ]
    },
    {
      "cell_type": "code",
      "execution_count": 31,
      "metadata": {
        "papermill": {
          "duration": 15.71893,
          "end_time": "2020-08-28T13:27:07.330847",
          "exception": false,
          "start_time": "2020-08-28T13:26:51.611917",
          "status": "completed"
        },
        "tags": [],
        "colab": {
          "base_uri": "https://localhost:8080/"
        },
        "id": "4KHtVqG8B4wd",
        "outputId": "22115306-7164-4a37-fab0-1aed67f13a06"
      },
      "outputs": [
        {
          "output_type": "execute_result",
          "data": {
            "text/plain": [
              "0.8035753892560884"
            ]
          },
          "metadata": {},
          "execution_count": 31
        }
      ],
      "source": [
        "# model for the binary classification\n",
        "full_model = RandomForestClassifier(random_state=1)\n",
        "full_model.fit(to_fit, binary_y)\n",
        "full_predictions = full_model.predict(test_set)\n",
        "\n",
        "# get the score\n",
        "full_score = accuracy_score(full_predictions,test_binary_y)\n",
        "full_score"
      ]
    },
    {
      "cell_type": "markdown",
      "metadata": {
        "papermill": {
          "duration": 0.027538,
          "end_time": "2020-08-28T13:27:07.385690",
          "exception": false,
          "start_time": "2020-08-28T13:27:07.358152",
          "status": "completed"
        },
        "tags": [],
        "id": "qGHUkAKKB4wd"
      },
      "source": [
        "Wait, what!? Weren't we running 99%+ with our model? What happened? Let's look at our confusion matrix."
      ]
    },
    {
      "cell_type": "code",
      "execution_count": 32,
      "metadata": {
        "papermill": {
          "duration": 0.332864,
          "end_time": "2020-08-28T13:27:07.749018",
          "exception": false,
          "start_time": "2020-08-28T13:27:07.416154",
          "status": "completed"
        },
        "tags": [],
        "colab": {
          "base_uri": "https://localhost:8080/",
          "height": 282
        },
        "id": "Iz9DXc5gB4we",
        "outputId": "1dee91f4-86a3-40b6-a1f4-107dd5e5714f"
      },
      "outputs": [
        {
          "output_type": "execute_result",
          "data": {
            "text/plain": [
              "<matplotlib.axes._subplots.AxesSubplot at 0x7f6fae449250>"
            ]
          },
          "metadata": {},
          "execution_count": 32
        },
        {
          "output_type": "display_data",
          "data": {
            "text/plain": [
              "<Figure size 432x288 with 2 Axes>"
            ],
            "image/png": "[encoded data removed]"
          },
          "metadata": {
            "needs_background": "light"
          }
        }
      ],
      "source": [
        "# capture the prediction data\n",
        "full_prediction_data = add_predictions(test_df, full_predictions, test_binary_y)\n",
        "\n",
        "# create a heatmap of the confusion matrix\n",
        "sns.heatmap(data=full_prediction_data['confusion_matrix'],\n",
        "            xticklabels = ['Predicted Normal','Predicted Attack'],\n",
        "            yticklabels = ['Actual Normal','Actual Attack'],\n",
        "            cmap=\"YlGnBu\",\n",
        "            fmt='d',\n",
        "            annot=True)"
      ]
    },
    {
      "cell_type": "code",
      "execution_count": 33,
      "metadata": {
        "execution": {
          "iopub.execute_input": "2020-08-28T13:27:07.874267Z",
          "iopub.status.busy": "2020-08-28T13:27:07.873503Z",
          "iopub.status.idle": "2020-08-28T13:27:07.982390Z",
          "shell.execute_reply": "2020-08-28T13:27:07.983135Z"
        },
        "papermill": {
          "duration": 0.147655,
          "end_time": "2020-08-28T13:27:07.983329",
          "exception": false,
          "start_time": "2020-08-28T13:27:07.835674",
          "status": "completed"
        },
        "tags": [],
        "colab": {
          "base_uri": "https://localhost:8080/"
        },
        "id": "8rgvtYGGB4we",
        "outputId": "b1eb2d75-97ab-446b-e529-7173d45b4998"
      },
      "outputs": [
        {
          "output_type": "stream",
          "name": "stdout",
          "text": [
            "Index(['protocol_type_icmp', 'protocol_type_tcp', 'protocol_type_udp',\n",
            "       'flag_OTH', 'flag_REJ', 'flag_RSTO', 'flag_RSTOS0', 'flag_RSTR',\n",
            "       'flag_S0', 'flag_S1', 'flag_S2', 'flag_S3', 'flag_SF', 'flag_SH',\n",
            "       'service', 'duration', 'src_bytes', 'dst_bytes'],\n",
            "      dtype='object')\n",
            "Index(['protocol_type_icmp', 'protocol_type_tcp', 'protocol_type_udp',\n",
            "       'flag_OTH', 'flag_REJ', 'flag_RSTO', 'flag_RSTOS0', 'flag_RSTR',\n",
            "       'flag_S0', 'flag_S1', 'flag_S2', 'flag_S3', 'flag_SF', 'flag_SH',\n",
            "       'service', 'duration', 'src_bytes', 'dst_bytes'],\n",
            "      dtype='object')\n"
          ]
        }
      ],
      "source": [
        "# create our label encoder\n",
        "label_encoder = LabelEncoder()\n",
        "\n",
        "# get the intial set of encoded features and encode them\n",
        "features_to_encode = ['protocol_type', 'flag']\n",
        "dummy_encoded = pd.get_dummies(df[features_to_encode])\n",
        "test_dummy_encoded = pd.get_dummies(test_df[features_to_encode])\n",
        "\n",
        "# now we'll label encode the service column\n",
        "label_encoder.fit(df.service)\n",
        "dummy_encoded['service'] = label_encoder.transform(df.service)\n",
        "test_dummy_encoded['service'] = label_encoder.transform(test_df.service)\n",
        "\n",
        "# get numeric features, we won't worry about encoding these at this point\n",
        "numeric_features = ['duration', 'src_bytes', 'dst_bytes']\n",
        "\n",
        "# model to fit/test\n",
        "to_fit = dummy_encoded.join(df[numeric_features])\n",
        "test_set = test_dummy_encoded.join(test_df[numeric_features])\n",
        "\n",
        "# make sure our columns match\n",
        "print(to_fit.columns)\n",
        "print(test_set.columns)"
      ]
    },
    {
      "cell_type": "code",
      "execution_count": 34,
      "metadata": {
        "execution": {
          "iopub.execute_input": "2020-08-28T13:27:08.051442Z",
          "iopub.status.busy": "2020-08-28T13:27:08.049786Z",
          "iopub.status.idle": "2020-08-28T13:27:17.977179Z",
          "shell.execute_reply": "2020-08-28T13:27:17.976559Z"
        },
        "papermill": {
          "duration": 9.965558,
          "end_time": "2020-08-28T13:27:17.977318",
          "exception": false,
          "start_time": "2020-08-28T13:27:08.011760",
          "status": "completed"
        },
        "tags": [],
        "colab": {
          "base_uri": "https://localhost:8080/"
        },
        "id": "_JpovTHhB4we",
        "outputId": "f1ece445-c33b-48ac-cf6b-a1802b2100b4"
      },
      "outputs": [
        {
          "output_type": "execute_result",
          "data": {
            "text/plain": [
              "0.7955462893137559"
            ]
          },
          "metadata": {},
          "execution_count": 34
        }
      ],
      "source": [
        "# model for the binary classification\n",
        "full_model = RandomForestClassifier(random_state=1)\n",
        "full_model.fit(to_fit, binary_y)\n",
        "full_predictions = full_model.predict(test_set)\n",
        "\n",
        "# get the score\n",
        "full_score = accuracy_score(full_predictions,test_binary_y)\n",
        "full_score"
      ]
    },
    {
      "cell_type": "markdown",
      "metadata": {
        "papermill": {
          "duration": 0.033249,
          "end_time": "2020-08-28T13:27:18.044560",
          "exception": false,
          "start_time": "2020-08-28T13:27:18.011311",
          "status": "completed"
        },
        "tags": [],
        "id": "1k1QCmfoB4wf"
      },
      "source": [
        "Let's try it with the additional features."
      ]
    },
    {
      "cell_type": "code",
      "execution_count": 35,
      "metadata": {
        "execution": {
          "iopub.execute_input": "2020-08-28T13:27:18.118069Z",
          "iopub.status.busy": "2020-08-28T13:27:18.116932Z",
          "iopub.status.idle": "2020-08-28T13:27:18.125301Z",
          "shell.execute_reply": "2020-08-28T13:27:18.124612Z"
        },
        "papermill": {
          "duration": 0.049256,
          "end_time": "2020-08-28T13:27:18.125424",
          "exception": false,
          "start_time": "2020-08-28T13:27:18.076168",
          "status": "completed"
        },
        "tags": [],
        "id": "0As6J4EbB4wf"
      },
      "outputs": [],
      "source": [
        "# add new features\n",
        "to_fit_new_features = to_fit.join(df[new_feature_columns])\n",
        "test_set_new_features = test_set.join(test_df[new_feature_columns])"
      ]
    },
    {
      "cell_type": "code",
      "execution_count": 36,
      "metadata": {
        "execution": {
          "iopub.execute_input": "2020-08-28T13:27:18.193464Z",
          "iopub.status.busy": "2020-08-28T13:27:18.191771Z",
          "iopub.status.idle": "2020-08-28T13:27:28.169459Z",
          "shell.execute_reply": "2020-08-28T13:27:28.168668Z"
        },
        "papermill": {
          "duration": 10.015064,
          "end_time": "2020-08-28T13:27:28.169587",
          "exception": false,
          "start_time": "2020-08-28T13:27:18.154523",
          "status": "completed"
        },
        "tags": [],
        "colab": {
          "base_uri": "https://localhost:8080/"
        },
        "id": "1Xpv6cY1B4wf",
        "outputId": "98cbb3a5-5128-4498-b1b3-e6ed5ba05fd0"
      },
      "outputs": [
        {
          "output_type": "execute_result",
          "data": {
            "text/plain": [
              "0.8042407842789336"
            ]
          },
          "metadata": {},
          "execution_count": 36
        }
      ],
      "source": [
        "# run the model\n",
        "full_model.fit(to_fit_new_features,binary_y)\n",
        "full_predictions = full_model.predict(test_set_new_features)\n",
        "\n",
        "# get the score\n",
        "full_score = accuracy_score(full_predictions,test_binary_y)\n",
        "full_score"
      ]
    },
    {
      "cell_type": "code",
      "execution_count": 37,
      "metadata": {
        "execution": {
          "iopub.execute_input": "2020-08-28T13:27:28.294097Z",
          "iopub.status.busy": "2020-08-28T13:27:28.293221Z",
          "iopub.status.idle": "2020-08-28T13:27:35.327634Z",
          "shell.execute_reply": "2020-08-28T13:27:35.326869Z"
        },
        "papermill": {
          "duration": 7.072715,
          "end_time": "2020-08-28T13:27:35.327758",
          "exception": false,
          "start_time": "2020-08-28T13:27:28.255043",
          "status": "completed"
        },
        "tags": [],
        "colab": {
          "base_uri": "https://localhost:8080/"
        },
        "id": "QnsHkfhjB4wf",
        "outputId": "bb69a7f3-dc14-4fe6-cc6c-68d06d521ab1"
      },
      "outputs": [
        {
          "output_type": "execute_result",
          "data": {
            "text/plain": [
              "0.977071867061812"
            ]
          },
          "metadata": {},
          "execution_count": 37
        }
      ],
      "source": [
        "# model for the mulit classification\n",
        "multi_model = RandomForestClassifier()\n",
        "multi_model.fit(multi_train_X, multi_train_y)\n",
        "multi_predictions = multi_model.predict(multi_val_X)\n",
        "\n",
        "# get the score\n",
        "accuracy_score(multi_predictions,multi_val_y)"
      ]
    },
    {
      "cell_type": "markdown",
      "metadata": {
        "papermill": {
          "duration": 0.028017,
          "end_time": "2020-08-28T13:27:35.384158",
          "exception": false,
          "start_time": "2020-08-28T13:27:35.356141",
          "status": "completed"
        },
        "tags": [],
        "id": "WmmmtOy4B4wg"
      },
      "source": [
        "Now let's add the new features."
      ]
    },
    {
      "cell_type": "code",
      "execution_count": 38,
      "metadata": {
        "execution": {
          "iopub.execute_input": "2020-08-28T13:27:35.449886Z",
          "iopub.status.busy": "2020-08-28T13:27:35.446329Z",
          "iopub.status.idle": "2020-08-28T13:27:35.469333Z",
          "shell.execute_reply": "2020-08-28T13:27:35.468618Z"
        },
        "papermill": {
          "duration": 0.05697,
          "end_time": "2020-08-28T13:27:35.469465",
          "exception": false,
          "start_time": "2020-08-28T13:27:35.412495",
          "status": "completed"
        },
        "tags": [],
        "id": "6C7dSrH1B4wg"
      },
      "outputs": [],
      "source": [
        "# build the training sets\n",
        "multi_feature_train_X, multi_feature_val_X, multi_feature_train_y, multi_feature_val_y = train_test_split(to_fit_new_features, multi_y)"
      ]
    },
    {
      "cell_type": "code",
      "execution_count": 39,
      "metadata": {
        "execution": {
          "iopub.execute_input": "2020-08-28T13:27:35.534969Z",
          "iopub.status.busy": "2020-08-28T13:27:35.534156Z",
          "iopub.status.idle": "2020-08-28T13:27:42.926379Z",
          "shell.execute_reply": "2020-08-28T13:27:42.927071Z"
        },
        "papermill": {
          "duration": 7.429389,
          "end_time": "2020-08-28T13:27:42.927220",
          "exception": false,
          "start_time": "2020-08-28T13:27:35.497831",
          "status": "completed"
        },
        "tags": [],
        "colab": {
          "base_uri": "https://localhost:8080/"
        },
        "id": "p85ifNJVB4wg",
        "outputId": "2db6caab-0c7b-404f-91da-29fe9998f3a7"
      },
      "outputs": [
        {
          "output_type": "execute_result",
          "data": {
            "text/plain": [
              "0.9769155050328644"
            ]
          },
          "metadata": {},
          "execution_count": 39
        }
      ],
      "source": [
        "# model for the mulit classification\n",
        "multi_model = RandomForestClassifier()\n",
        "multi_model.fit(multi_feature_train_X, multi_feature_train_y)\n",
        "multi_predictions = multi_model.predict(multi_feature_val_X)\n",
        "\n",
        "# get the score\n",
        "accuracy_score(multi_predictions,multi_feature_val_y)"
      ]
    },
    {
      "cell_type": "markdown",
      "metadata": {
        "papermill": {
          "duration": 0.028137,
          "end_time": "2020-08-28T13:27:42.983881",
          "exception": false,
          "start_time": "2020-08-28T13:27:42.955744",
          "status": "completed"
        },
        "tags": [],
        "id": "41hZOqXGB4wg"
      },
      "source": [
        "Again--strong ability to identify the attack types based on the data coming through. A quick dive into some specifics of the performance."
      ]
    },
    {
      "cell_type": "code",
      "execution_count": 40,
      "metadata": {
        "execution": {
          "iopub.execute_input": "2020-08-28T13:27:43.049565Z",
          "iopub.status.busy": "2020-08-28T13:27:43.048595Z",
          "iopub.status.idle": "2020-08-28T13:27:43.558552Z",
          "shell.execute_reply": "2020-08-28T13:27:43.559303Z"
        },
        "papermill": {
          "duration": 0.546932,
          "end_time": "2020-08-28T13:27:43.559462",
          "exception": false,
          "start_time": "2020-08-28T13:27:43.012530",
          "status": "completed"
        },
        "tags": [],
        "colab": {
          "base_uri": "https://localhost:8080/",
          "height": 366
        },
        "id": "tqdTyHJCB4wh",
        "outputId": "fdbde68e-6d2a-409a-8bd3-efb8e18e9443"
      },
      "outputs": [
        {
          "output_type": "execute_result",
          "data": {
            "text/plain": [
              "<matplotlib.axes._subplots.AxesSubplot at 0x7f6fae3a9ed0>"
            ]
          },
          "metadata": {},
          "execution_count": 40
        },
        {
          "output_type": "display_data",
          "data": {
            "text/plain": [
              "<Figure size 432x288 with 2 Axes>"
            ],
            "image/png": "[encoded data removed]"
          },
          "metadata": {
            "needs_background": "light"
          }
        }
      ],
      "source": [
        "# capture the prediction data\n",
        "multi_prediction_data = add_predictions(df, multi_predictions, multi_feature_val_y)\n",
        "\n",
        "# create a heatmap of the confusion matrix\n",
        "sns.heatmap(data=multi_prediction_data['confusion_matrix'],\n",
        "            xticklabels = ['Predicted ' + x for x in attack_labels],\n",
        "            yticklabels = ['Actual ' + x for x in attack_labels],\n",
        "            cmap=\"YlGnBu\",\n",
        "            fmt='d',\n",
        "            annot=True)"
      ]
    },
    {
      "cell_type": "markdown",
      "metadata": {
        "papermill": {
          "duration": 0.028893,
          "end_time": "2020-08-28T13:27:43.617708",
          "exception": false,
          "start_time": "2020-08-28T13:27:43.588815",
          "status": "completed"
        },
        "tags": [],
        "id": "mbQgPTCYB4wh"
      },
      "source": [
        "What about the full data set are we going to see the same overfitting?"
      ]
    },
    {
      "cell_type": "code",
      "execution_count": 41,
      "metadata": {
        "execution": {
          "iopub.execute_input": "2020-08-28T13:27:43.684147Z",
          "iopub.status.busy": "2020-08-28T13:27:43.683385Z",
          "iopub.status.idle": "2020-08-28T13:27:53.940592Z",
          "shell.execute_reply": "2020-08-28T13:27:53.941112Z"
        },
        "papermill": {
          "duration": 10.294496,
          "end_time": "2020-08-28T13:27:53.941265",
          "exception": false,
          "start_time": "2020-08-28T13:27:43.646769",
          "status": "completed"
        },
        "tags": [],
        "colab": {
          "base_uri": "https://localhost:8080/"
        },
        "id": "1zcrDMxwB4wh",
        "outputId": "6caa6181-e159-40a2-d204-4ea9e6fd96b8"
      },
      "outputs": [
        {
          "output_type": "execute_result",
          "data": {
            "text/plain": [
              "0.7704830767865857"
            ]
          },
          "metadata": {},
          "execution_count": 41
        }
      ],
      "source": [
        "# fit on the full data set\n",
        "multi_model.fit(to_fit_new_features, multi_y)\n",
        "full_multi_predictions = multi_model.predict(test_set_new_features)\n",
        "\n",
        "# get the score\n",
        "accuracy_score(full_multi_predictions,test_multi_y)"
      ]
    },
    {
      "cell_type": "markdown",
      "metadata": {
        "papermill": {
          "duration": 0.029013,
          "end_time": "2020-08-28T13:27:53.999518",
          "exception": false,
          "start_time": "2020-08-28T13:27:53.970505",
          "status": "completed"
        },
        "tags": [],
        "id": "PzKU6uhhB4wh"
      },
      "source": [
        "some significant over fitting. What if we use our smaller `to_fit` object with less features?"
      ]
    },
    {
      "cell_type": "code",
      "execution_count": 42,
      "metadata": {
        "execution": {
          "iopub.execute_input": "2020-08-28T13:27:54.066171Z",
          "iopub.status.busy": "2020-08-28T13:27:54.065389Z",
          "iopub.status.idle": "2020-08-28T13:28:03.894639Z",
          "shell.execute_reply": "2020-08-28T13:28:03.895229Z"
        },
        "papermill": {
          "duration": 9.866695,
          "end_time": "2020-08-28T13:28:03.895401",
          "exception": false,
          "start_time": "2020-08-28T13:27:54.028706",
          "status": "completed"
        },
        "tags": [],
        "colab": {
          "base_uri": "https://localhost:8080/"
        },
        "id": "OVuKgoJWB4wh",
        "outputId": "2019b8f8-2218-4197-89d5-fb8f87df4da9"
      },
      "outputs": [
        {
          "output_type": "execute_result",
          "data": {
            "text/plain": [
              "0.7580623696934747"
            ]
          },
          "metadata": {},
          "execution_count": 42
        }
      ],
      "source": [
        "# run the model on the smaller column set\n",
        "multi_model.fit(to_fit, multi_y)\n",
        "full_multi_predictions = multi_model.predict(test_set)\n",
        "\n",
        "# get the score\n",
        "accuracy_score(full_multi_predictions,test_multi_y)"
      ]
    },
    {
      "cell_type": "code",
      "execution_count": 43,
      "metadata": {
        "execution": {
          "iopub.execute_input": "2020-08-28T13:28:03.963111Z",
          "iopub.status.busy": "2020-08-28T13:28:03.962266Z",
          "iopub.status.idle": "2020-08-28T13:28:04.460644Z",
          "shell.execute_reply": "2020-08-28T13:28:04.459798Z"
        },
        "papermill": {
          "duration": 0.535574,
          "end_time": "2020-08-28T13:28:04.460783",
          "exception": false,
          "start_time": "2020-08-28T13:28:03.925209",
          "status": "completed"
        },
        "tags": [],
        "colab": {
          "base_uri": "https://localhost:8080/",
          "height": 366
        },
        "id": "nv597fD-B4wi",
        "outputId": "98fe4b7a-e000-4ef1-c2da-fa5c2396ef2e"
      },
      "outputs": [
        {
          "output_type": "execute_result",
          "data": {
            "text/plain": [
              "<matplotlib.axes._subplots.AxesSubplot at 0x7f6fae281650>"
            ]
          },
          "metadata": {},
          "execution_count": 43
        },
        {
          "output_type": "display_data",
          "data": {
            "text/plain": [
              "<Figure size 432x288 with 2 Axes>"
            ],
            "image/png": "[encoded data removed]"
          },
          "metadata": {
            "needs_background": "light"
          }
        }
      ],
      "source": [
        "# build our prediction data\n",
        "multi_prediction_data = add_predictions(df, full_multi_predictions, test_multi_y)\n",
        "\n",
        "# create a heatmap of the confusion matrix\n",
        "sns.heatmap(data=multi_prediction_data['confusion_matrix'],\n",
        "            xticklabels = ['Predicted ' + x for x in attack_labels],\n",
        "            yticklabels = ['Actual ' + x for x in attack_labels],\n",
        "            cmap=\"YlGnBu\",\n",
        "            fmt='d',\n",
        "            annot=True)"
      ]
    }
  ],
  "metadata": {
    "kernelspec": {
      "display_name": "Python 3 (ipykernel)",
      "language": "python",
      "name": "python3"
    },
    "language_info": {
      "codemirror_mode": {
        "name": "ipython",
        "version": 3
      },
      "file_extension": ".py",
      "mimetype": "text/x-python",
      "name": "python",
      "nbconvert_exporter": "python",
      "pygments_lexer": "ipython3",
      "version": "3.9.7"
    },
    "papermill": {
      "duration": 193.680156,
      "end_time": "2020-08-28T13:28:04.662695",
      "environment_variables": {},
      "exception": null,
      "input_path": "__notebook__.ipynb",
      "output_path": "__notebook__.ipynb",
      "parameters": {},
      "start_time": "2020-08-28T13:24:50.982539",
      "version": "2.1.0"
    },
    "colab": {
      "name": "nsl-kdd-explorations.ipynb",
      "provenance": [],
      "collapsed_sections": [],
      "toc_visible": true,
      "include_colab_link": true
    }
  },
  "nbformat": 4,
  "nbformat_minor": 0
}