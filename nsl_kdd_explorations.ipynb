{
  "cells": [
    {
      "cell_type": "markdown",
      "metadata": {
        "id": "view-in-github",
        "colab_type": "text"
      },
      "source": [
        "<a href=\"https://colab.research.google.com/github/alhussad/flash/blob/master/nsl_kdd_explorations.ipynb\" target=\"_parent\"><img src=\"https://colab.research.google.com/assets/colab-badge.svg\" alt=\"Open In Colab\"/></a>"
      ]
    },
    {
      "cell_type": "markdown",
      "metadata": {
        "papermill": {
          "duration": 0.021534,
          "end_time": "2020-08-28T13:24:56.258726",
          "exception": false,
          "start_time": "2020-08-28T13:24:56.237192",
          "status": "completed"
        },
        "tags": [],
        "id": "hLmu15z6B4v_"
      },
      "source": [
        "# NSL-KDD dataset Exploration"
      ]
    },
    {
      "cell_type": "code",
      "source": [
        "from google.colab import drive\n",
        "drive.mount('/content/gdrive/')"
      ],
      "metadata": {
        "colab": {
          "base_uri": "https://localhost:8080/"
        },
        "id": "g9AUttaMCe4k",
        "outputId": "20ad5d19-eacd-4a12-8aeb-8a968641f016"
      },
      "execution_count": 2,
      "outputs": [
        {
          "output_type": "stream",
          "name": "stdout",
          "text": [
            "Mounted at /content/gdrive/\n"
          ]
        }
      ]
    },
    {
      "cell_type": "code",
      "execution_count": 3,
      "metadata": {
        "_cell_guid": "b1076dfc-b9ad-4769-8c92-a6c4dae69d19",
        "_uuid": "8f2839f25d086af736a60e9eeb907d3b93b6e0e5",
        "papermill": {
          "duration": 1.560945,
          "end_time": "2020-08-28T13:24:57.837647",
          "exception": false,
          "start_time": "2020-08-28T13:24:56.276702",
          "status": "completed"
        },
        "tags": [],
        "id": "rQMo38gLB4wC"
      },
      "outputs": [],
      "source": [
        "# module imports\n",
        "import numpy as np \n",
        "import pandas as pd \n",
        "import matplotlib.pyplot as plt\n",
        "import seaborn as sns\n",
        "import itertools\n",
        "import random\n",
        "\n",
        "# model imports\n",
        "from sklearn.ensemble import RandomForestClassifier\n",
        "from sklearn.neighbors import KNeighborsClassifier\n",
        "from sklearn.linear_model import LogisticRegression\n",
        "\n",
        "# processing imports\n",
        "from sklearn.preprocessing import LabelEncoder\n",
        "from sklearn.model_selection import train_test_split\n",
        "from sklearn.model_selection import cross_val_score\n",
        "from sklearn.metrics import mean_absolute_error\n",
        "from sklearn.metrics import accuracy_score\n",
        "from sklearn.metrics import confusion_matrix"
      ]
    },
    {
      "cell_type": "markdown",
      "metadata": {
        "papermill": {
          "duration": 0.019529,
          "end_time": "2020-08-28T13:24:57.876570",
          "exception": false,
          "start_time": "2020-08-28T13:24:57.857041",
          "status": "completed"
        },
        "tags": [],
        "id": "kpUZgBrJB4wE"
      },
      "source": [
        "# Data extraction"
      ]
    },
    {
      "cell_type": "code",
      "execution_count": 4,
      "metadata": {
        "_cell_guid": "79c7e3d0-c299-4dcb-8224-4455121ee9b0",
        "_uuid": "d629ff2d2480ee46fbb7e2d37f6b5fab8052498a",
        "papermill": {
          "duration": 0.781012,
          "end_time": "2020-08-28T13:24:58.676101",
          "exception": false,
          "start_time": "2020-08-28T13:24:57.895089",
          "status": "completed"
        },
        "tags": [],
        "id": "UPZXmjkpB4wE"
      },
      "outputs": [],
      "source": [
        "# fetch the training file\n",
        "file_path_20_percent = '/content/gdrive/My Drive/Dissertation/Codes/KDDTrain+_20Percent.txt'\n",
        "file_path_full_training_set = '/content/gdrive/My Drive/Dissertation/Codes/KDDTrain+.txt'\n",
        "file_path_test = '/content/gdrive/My Drive/Dissertation/Codes/KDDTest+.txt' \n",
        "\n",
        "#df = pd.read_csv(file_path_20_percent)\n",
        "df = pd.read_csv(file_path_full_training_set)\n",
        "test_df = pd.read_csv(file_path_test)"
      ]
    },
    {
      "cell_type": "code",
      "source": [
        "df.shape"
      ],
      "metadata": {
        "colab": {
          "base_uri": "https://localhost:8080/"
        },
        "id": "rKHrXPxh-z2C",
        "outputId": "de78f4ec-2a01-4bba-918b-1cc87f0c0cec"
      },
      "execution_count": 5,
      "outputs": [
        {
          "output_type": "execute_result",
          "data": {
            "text/plain": [
              "(125972, 43)"
            ]
          },
          "metadata": {},
          "execution_count": 5
        }
      ]
    },
    {
      "cell_type": "code",
      "source": [
        "test_df.shape"
      ],
      "metadata": {
        "colab": {
          "base_uri": "https://localhost:8080/"
        },
        "id": "SFtx85PF-7Q5",
        "outputId": "adc8f85e-13f3-457f-8965-6c6c7da04046"
      },
      "execution_count": 6,
      "outputs": [
        {
          "output_type": "execute_result",
          "data": {
            "text/plain": [
              "(22543, 43)"
            ]
          },
          "metadata": {},
          "execution_count": 6
        }
      ]
    },
    {
      "cell_type": "code",
      "source": [
        "#training_data, testing_data = train_test_split(df, test_size=0.2, random_state=25)"
      ],
      "metadata": {
        "id": "GLW8dXKTytTO"
      },
      "execution_count": 47,
      "outputs": []
    },
    {
      "cell_type": "markdown",
      "metadata": {
        "papermill": {
          "duration": 0.017666,
          "end_time": "2020-08-28T13:24:58.711069",
          "exception": false,
          "start_time": "2020-08-28T13:24:58.693403",
          "status": "completed"
        },
        "tags": [],
        "id": "skeKFAqxB4wF"
      },
      "source": [
        "Adding Column names"
      ]
    },
    {
      "cell_type": "code",
      "execution_count": 7,
      "metadata": {
        "papermill": {
          "duration": 0.067748,
          "end_time": "2020-08-28T13:24:58.795902",
          "exception": false,
          "start_time": "2020-08-28T13:24:58.728154",
          "status": "completed"
        },
        "tags": [],
        "colab": {
          "base_uri": "https://localhost:8080/",
          "height": 299
        },
        "id": "VjFk92A0B4wG",
        "outputId": "40523745-da75-41a4-8d67-0f7bd97bf0e0"
      },
      "outputs": [
        {
          "output_type": "execute_result",
          "data": {
            "text/plain": [
              "   duration protocol_type  service flag  src_bytes  dst_bytes  land  \\\n",
              "0         0           udp    other   SF        146          0     0   \n",
              "1         0           tcp  private   S0          0          0     0   \n",
              "2         0           tcp     http   SF        232       8153     0   \n",
              "3         0           tcp     http   SF        199        420     0   \n",
              "4         0           tcp  private  REJ          0          0     0   \n",
              "\n",
              "   wrong_fragment  urgent  hot  ...  dst_host_same_srv_rate  \\\n",
              "0               0       0    0  ...                    0.00   \n",
              "1               0       0    0  ...                    0.10   \n",
              "2               0       0    0  ...                    1.00   \n",
              "3               0       0    0  ...                    1.00   \n",
              "4               0       0    0  ...                    0.07   \n",
              "\n",
              "   dst_host_diff_srv_rate  dst_host_same_src_port_rate  \\\n",
              "0                    0.60                         0.88   \n",
              "1                    0.05                         0.00   \n",
              "2                    0.00                         0.03   \n",
              "3                    0.00                         0.00   \n",
              "4                    0.07                         0.00   \n",
              "\n",
              "   dst_host_srv_diff_host_rate  dst_host_serror_rate  \\\n",
              "0                         0.00                  0.00   \n",
              "1                         0.00                  1.00   \n",
              "2                         0.04                  0.03   \n",
              "3                         0.00                  0.00   \n",
              "4                         0.00                  0.00   \n",
              "\n",
              "   dst_host_srv_serror_rate  dst_host_rerror_rate  dst_host_srv_rerror_rate  \\\n",
              "0                      0.00                   0.0                      0.00   \n",
              "1                      1.00                   0.0                      0.00   \n",
              "2                      0.01                   0.0                      0.01   \n",
              "3                      0.00                   0.0                      0.00   \n",
              "4                      0.00                   1.0                      1.00   \n",
              "\n",
              "    attack  level  \n",
              "0   normal     15  \n",
              "1  neptune     19  \n",
              "2   normal     21  \n",
              "3   normal     21  \n",
              "4  neptune     21  \n",
              "\n",
              "[5 rows x 43 columns]"
            ],
            "text/html": [
              "\n",
              "  <div id=\"df-f1e545ba-27a0-4a58-b8b7-c324285f325e\">\n",
              "    <div class=\"colab-df-container\">\n",
              "      <div>\n",
              "<style scoped>\n",
              "    .dataframe tbody tr th:only-of-type {\n",
              "        vertical-align: middle;\n",
              "    }\n",
              "\n",
              "    .dataframe tbody tr th {\n",
              "        vertical-align: top;\n",
              "    }\n",
              "\n",
              "    .dataframe thead th {\n",
              "        text-align: right;\n",
              "    }\n",
              "</style>\n",
              "<table border=\"1\" class=\"dataframe\">\n",
              "  <thead>\n",
              "    <tr style=\"text-align: right;\">\n",
              "      <th></th>\n",
              "      <th>duration</th>\n",
              "      <th>protocol_type</th>\n",
              "      <th>service</th>\n",
              "      <th>flag</th>\n",
              "      <th>src_bytes</th>\n",
              "      <th>dst_bytes</th>\n",
              "      <th>land</th>\n",
              "      <th>wrong_fragment</th>\n",
              "      <th>urgent</th>\n",
              "      <th>hot</th>\n",
              "      <th>...</th>\n",
              "      <th>dst_host_same_srv_rate</th>\n",
              "      <th>dst_host_diff_srv_rate</th>\n",
              "      <th>dst_host_same_src_port_rate</th>\n",
              "      <th>dst_host_srv_diff_host_rate</th>\n",
              "      <th>dst_host_serror_rate</th>\n",
              "      <th>dst_host_srv_serror_rate</th>\n",
              "      <th>dst_host_rerror_rate</th>\n",
              "      <th>dst_host_srv_rerror_rate</th>\n",
              "      <th>attack</th>\n",
              "      <th>level</th>\n",
              "    </tr>\n",
              "  </thead>\n",
              "  <tbody>\n",
              "    <tr>\n",
              "      <th>0</th>\n",
              "      <td>0</td>\n",
              "      <td>udp</td>\n",
              "      <td>other</td>\n",
              "      <td>SF</td>\n",
              "      <td>146</td>\n",
              "      <td>0</td>\n",
              "      <td>0</td>\n",
              "      <td>0</td>\n",
              "      <td>0</td>\n",
              "      <td>0</td>\n",
              "      <td>...</td>\n",
              "      <td>0.00</td>\n",
              "      <td>0.60</td>\n",
              "      <td>0.88</td>\n",
              "      <td>0.00</td>\n",
              "      <td>0.00</td>\n",
              "      <td>0.00</td>\n",
              "      <td>0.0</td>\n",
              "      <td>0.00</td>\n",
              "      <td>normal</td>\n",
              "      <td>15</td>\n",
              "    </tr>\n",
              "    <tr>\n",
              "      <th>1</th>\n",
              "      <td>0</td>\n",
              "      <td>tcp</td>\n",
              "      <td>private</td>\n",
              "      <td>S0</td>\n",
              "      <td>0</td>\n",
              "      <td>0</td>\n",
              "      <td>0</td>\n",
              "      <td>0</td>\n",
              "      <td>0</td>\n",
              "      <td>0</td>\n",
              "      <td>...</td>\n",
              "      <td>0.10</td>\n",
              "      <td>0.05</td>\n",
              "      <td>0.00</td>\n",
              "      <td>0.00</td>\n",
              "      <td>1.00</td>\n",
              "      <td>1.00</td>\n",
              "      <td>0.0</td>\n",
              "      <td>0.00</td>\n",
              "      <td>neptune</td>\n",
              "      <td>19</td>\n",
              "    </tr>\n",
              "    <tr>\n",
              "      <th>2</th>\n",
              "      <td>0</td>\n",
              "      <td>tcp</td>\n",
              "      <td>http</td>\n",
              "      <td>SF</td>\n",
              "      <td>232</td>\n",
              "      <td>8153</td>\n",
              "      <td>0</td>\n",
              "      <td>0</td>\n",
              "      <td>0</td>\n",
              "      <td>0</td>\n",
              "      <td>...</td>\n",
              "      <td>1.00</td>\n",
              "      <td>0.00</td>\n",
              "      <td>0.03</td>\n",
              "      <td>0.04</td>\n",
              "      <td>0.03</td>\n",
              "      <td>0.01</td>\n",
              "      <td>0.0</td>\n",
              "      <td>0.01</td>\n",
              "      <td>normal</td>\n",
              "      <td>21</td>\n",
              "    </tr>\n",
              "    <tr>\n",
              "      <th>3</th>\n",
              "      <td>0</td>\n",
              "      <td>tcp</td>\n",
              "      <td>http</td>\n",
              "      <td>SF</td>\n",
              "      <td>199</td>\n",
              "      <td>420</td>\n",
              "      <td>0</td>\n",
              "      <td>0</td>\n",
              "      <td>0</td>\n",
              "      <td>0</td>\n",
              "      <td>...</td>\n",
              "      <td>1.00</td>\n",
              "      <td>0.00</td>\n",
              "      <td>0.00</td>\n",
              "      <td>0.00</td>\n",
              "      <td>0.00</td>\n",
              "      <td>0.00</td>\n",
              "      <td>0.0</td>\n",
              "      <td>0.00</td>\n",
              "      <td>normal</td>\n",
              "      <td>21</td>\n",
              "    </tr>\n",
              "    <tr>\n",
              "      <th>4</th>\n",
              "      <td>0</td>\n",
              "      <td>tcp</td>\n",
              "      <td>private</td>\n",
              "      <td>REJ</td>\n",
              "      <td>0</td>\n",
              "      <td>0</td>\n",
              "      <td>0</td>\n",
              "      <td>0</td>\n",
              "      <td>0</td>\n",
              "      <td>0</td>\n",
              "      <td>...</td>\n",
              "      <td>0.07</td>\n",
              "      <td>0.07</td>\n",
              "      <td>0.00</td>\n",
              "      <td>0.00</td>\n",
              "      <td>0.00</td>\n",
              "      <td>0.00</td>\n",
              "      <td>1.0</td>\n",
              "      <td>1.00</td>\n",
              "      <td>neptune</td>\n",
              "      <td>21</td>\n",
              "    </tr>\n",
              "  </tbody>\n",
              "</table>\n",
              "<p>5 rows × 43 columns</p>\n",
              "</div>\n",
              "      <button class=\"colab-df-convert\" onclick=\"convertToInteractive('df-f1e545ba-27a0-4a58-b8b7-c324285f325e')\"\n",
              "              title=\"Convert this dataframe to an interactive table.\"\n",
              "              style=\"display:none;\">\n",
              "        \n",
              "  <svg xmlns=\"http://www.w3.org/2000/svg\" height=\"24px\"viewBox=\"0 0 24 24\"\n",
              "       width=\"24px\">\n",
              "    <path d=\"M0 0h24v24H0V0z\" fill=\"none\"/>\n",
              "    <path d=\"M18.56 5.44l.94 2.06.94-2.06 2.06-.94-2.06-.94-.94-2.06-.94 2.06-2.06.94zm-11 1L8.5 8.5l.94-2.06 2.06-.94-2.06-.94L8.5 2.5l-.94 2.06-2.06.94zm10 10l.94 2.06.94-2.06 2.06-.94-2.06-.94-.94-2.06-.94 2.06-2.06.94z\"/><path d=\"M17.41 7.96l-1.37-1.37c-.4-.4-.92-.59-1.43-.59-.52 0-1.04.2-1.43.59L10.3 9.45l-7.72 7.72c-.78.78-.78 2.05 0 2.83L4 21.41c.39.39.9.59 1.41.59.51 0 1.02-.2 1.41-.59l7.78-7.78 2.81-2.81c.8-.78.8-2.07 0-2.86zM5.41 20L4 18.59l7.72-7.72 1.47 1.35L5.41 20z\"/>\n",
              "  </svg>\n",
              "      </button>\n",
              "      \n",
              "  <style>\n",
              "    .colab-df-container {\n",
              "      display:flex;\n",
              "      flex-wrap:wrap;\n",
              "      gap: 12px;\n",
              "    }\n",
              "\n",
              "    .colab-df-convert {\n",
              "      background-color: #E8F0FE;\n",
              "      border: none;\n",
              "      border-radius: 50%;\n",
              "      cursor: pointer;\n",
              "      display: none;\n",
              "      fill: #1967D2;\n",
              "      height: 32px;\n",
              "      padding: 0 0 0 0;\n",
              "      width: 32px;\n",
              "    }\n",
              "\n",
              "    .colab-df-convert:hover {\n",
              "      background-color: #E2EBFA;\n",
              "      box-shadow: 0px 1px 2px rgba(60, 64, 67, 0.3), 0px 1px 3px 1px rgba(60, 64, 67, 0.15);\n",
              "      fill: #174EA6;\n",
              "    }\n",
              "\n",
              "    [theme=dark] .colab-df-convert {\n",
              "      background-color: #3B4455;\n",
              "      fill: #D2E3FC;\n",
              "    }\n",
              "\n",
              "    [theme=dark] .colab-df-convert:hover {\n",
              "      background-color: #434B5C;\n",
              "      box-shadow: 0px 1px 3px 1px rgba(0, 0, 0, 0.15);\n",
              "      filter: drop-shadow(0px 1px 2px rgba(0, 0, 0, 0.3));\n",
              "      fill: #FFFFFF;\n",
              "    }\n",
              "  </style>\n",
              "\n",
              "      <script>\n",
              "        const buttonEl =\n",
              "          document.querySelector('#df-f1e545ba-27a0-4a58-b8b7-c324285f325e button.colab-df-convert');\n",
              "        buttonEl.style.display =\n",
              "          google.colab.kernel.accessAllowed ? 'block' : 'none';\n",
              "\n",
              "        async function convertToInteractive(key) {\n",
              "          const element = document.querySelector('#df-f1e545ba-27a0-4a58-b8b7-c324285f325e');\n",
              "          const dataTable =\n",
              "            await google.colab.kernel.invokeFunction('convertToInteractive',\n",
              "                                                     [key], {});\n",
              "          if (!dataTable) return;\n",
              "\n",
              "          const docLinkHtml = 'Like what you see? Visit the ' +\n",
              "            '<a target=\"_blank\" href=https://colab.research.google.com/notebooks/data_table.ipynb>data table notebook</a>'\n",
              "            + ' to learn more about interactive tables.';\n",
              "          element.innerHTML = '';\n",
              "          dataTable['output_type'] = 'display_data';\n",
              "          await google.colab.output.renderOutput(dataTable, element);\n",
              "          const docLink = document.createElement('div');\n",
              "          docLink.innerHTML = docLinkHtml;\n",
              "          element.appendChild(docLink);\n",
              "        }\n",
              "      </script>\n",
              "    </div>\n",
              "  </div>\n",
              "  "
            ]
          },
          "metadata": {},
          "execution_count": 7
        }
      ],
      "source": [
        "# add the column labels\n",
        "columns = (['duration'\n",
        ",'protocol_type'\n",
        ",'service'\n",
        ",'flag'\n",
        ",'src_bytes'\n",
        ",'dst_bytes'\n",
        ",'land'\n",
        ",'wrong_fragment'\n",
        ",'urgent'\n",
        ",'hot'\n",
        ",'num_failed_logins'\n",
        ",'logged_in'\n",
        ",'num_compromised'\n",
        ",'root_shell'\n",
        ",'su_attempted'\n",
        ",'num_root'\n",
        ",'num_file_creations'\n",
        ",'num_shells'\n",
        ",'num_access_files'\n",
        ",'num_outbound_cmds'\n",
        ",'is_host_login'\n",
        ",'is_guest_login'\n",
        ",'count'\n",
        ",'srv_count'\n",
        ",'serror_rate'\n",
        ",'srv_serror_rate'\n",
        ",'rerror_rate'\n",
        ",'srv_rerror_rate'\n",
        ",'same_srv_rate'\n",
        ",'diff_srv_rate'\n",
        ",'srv_diff_host_rate'\n",
        ",'dst_host_count'\n",
        ",'dst_host_srv_count'\n",
        ",'dst_host_same_srv_rate'\n",
        ",'dst_host_diff_srv_rate'\n",
        ",'dst_host_same_src_port_rate'\n",
        ",'dst_host_srv_diff_host_rate'\n",
        ",'dst_host_serror_rate'\n",
        ",'dst_host_srv_serror_rate'\n",
        ",'dst_host_rerror_rate'\n",
        ",'dst_host_srv_rerror_rate'\n",
        ",'attack'\n",
        ",'level'])\n",
        "\n",
        "df.columns = columns\n",
        "test_df.columns = columns\n",
        "\n",
        "# sanity check\n",
        "df.head()"
      ]
    },
    {
      "cell_type": "code",
      "execution_count": 8,
      "metadata": {
        "colab": {
          "base_uri": "https://localhost:8080/"
        },
        "id": "zYknJ-OmB4wI",
        "outputId": "6176d77a-6977-48ce-f63b-d7e9dcd6513b"
      },
      "outputs": [
        {
          "output_type": "execute_result",
          "data": {
            "text/plain": [
              "normal             67342\n",
              "neptune            41214\n",
              "satan               3633\n",
              "ipsweep             3599\n",
              "portsweep           2931\n",
              "smurf               2646\n",
              "nmap                1493\n",
              "back                 956\n",
              "teardrop             892\n",
              "warezclient          890\n",
              "pod                  201\n",
              "guess_passwd          53\n",
              "buffer_overflow       30\n",
              "warezmaster           20\n",
              "land                  18\n",
              "imap                  11\n",
              "rootkit               10\n",
              "loadmodule             9\n",
              "ftp_write              8\n",
              "multihop               7\n",
              "phf                    4\n",
              "perl                   3\n",
              "spy                    2\n",
              "Name: attack, dtype: int64"
            ]
          },
          "metadata": {},
          "execution_count": 8
        }
      ],
      "source": [
        "df.attack.value_counts()\n",
        "# df.attack.nunique()"
      ]
    },
    {
      "cell_type": "markdown",
      "metadata": {
        "papermill": {
          "duration": 0.017094,
          "end_time": "2020-08-28T13:24:58.830627",
          "exception": false,
          "start_time": "2020-08-28T13:24:58.813533",
          "status": "completed"
        },
        "tags": [],
        "id": "8DrLqRb6B4wI"
      },
      "source": [
        "# Data transformations\n",
        "The first transformations that need to be done are around the attack field. I'll start by adding a column that encodes 'normal' values as 0 and any other value as 1. I will use this as my classifier for a simple binary model that idenfities any attack. "
      ]
    },
    {
      "cell_type": "code",
      "execution_count": 9,
      "metadata": {
        "papermill": {
          "duration": 0.170543,
          "end_time": "2020-08-28T13:24:59.018616",
          "exception": false,
          "start_time": "2020-08-28T13:24:58.848073",
          "status": "completed"
        },
        "tags": [],
        "colab": {
          "base_uri": "https://localhost:8080/",
          "height": 299
        },
        "id": "S2P189PeB4wJ",
        "outputId": "9859a7c7-d4fc-4ea0-bef7-fce9c862dd14"
      },
      "outputs": [
        {
          "output_type": "execute_result",
          "data": {
            "text/plain": [
              "   duration protocol_type  service flag  src_bytes  dst_bytes  land  \\\n",
              "0         0           udp    other   SF        146          0     0   \n",
              "1         0           tcp  private   S0          0          0     0   \n",
              "2         0           tcp     http   SF        232       8153     0   \n",
              "3         0           tcp     http   SF        199        420     0   \n",
              "4         0           tcp  private  REJ          0          0     0   \n",
              "\n",
              "   wrong_fragment  urgent  hot  ...  dst_host_diff_srv_rate  \\\n",
              "0               0       0    0  ...                    0.60   \n",
              "1               0       0    0  ...                    0.05   \n",
              "2               0       0    0  ...                    0.00   \n",
              "3               0       0    0  ...                    0.00   \n",
              "4               0       0    0  ...                    0.07   \n",
              "\n",
              "   dst_host_same_src_port_rate  dst_host_srv_diff_host_rate  \\\n",
              "0                         0.88                         0.00   \n",
              "1                         0.00                         0.00   \n",
              "2                         0.03                         0.04   \n",
              "3                         0.00                         0.00   \n",
              "4                         0.00                         0.00   \n",
              "\n",
              "   dst_host_serror_rate  dst_host_srv_serror_rate  dst_host_rerror_rate  \\\n",
              "0                  0.00                      0.00                   0.0   \n",
              "1                  1.00                      1.00                   0.0   \n",
              "2                  0.03                      0.01                   0.0   \n",
              "3                  0.00                      0.00                   0.0   \n",
              "4                  0.00                      0.00                   1.0   \n",
              "\n",
              "   dst_host_srv_rerror_rate   attack  level  attack_flag  \n",
              "0                      0.00   normal     15            0  \n",
              "1                      0.00  neptune     19            1  \n",
              "2                      0.01   normal     21            0  \n",
              "3                      0.00   normal     21            0  \n",
              "4                      1.00  neptune     21            1  \n",
              "\n",
              "[5 rows x 44 columns]"
            ],
            "text/html": [
              "\n",
              "  <div id=\"df-68b38559-2f79-4439-b112-dbd8fe33b64f\">\n",
              "    <div class=\"colab-df-container\">\n",
              "      <div>\n",
              "<style scoped>\n",
              "    .dataframe tbody tr th:only-of-type {\n",
              "        vertical-align: middle;\n",
              "    }\n",
              "\n",
              "    .dataframe tbody tr th {\n",
              "        vertical-align: top;\n",
              "    }\n",
              "\n",
              "    .dataframe thead th {\n",
              "        text-align: right;\n",
              "    }\n",
              "</style>\n",
              "<table border=\"1\" class=\"dataframe\">\n",
              "  <thead>\n",
              "    <tr style=\"text-align: right;\">\n",
              "      <th></th>\n",
              "      <th>duration</th>\n",
              "      <th>protocol_type</th>\n",
              "      <th>service</th>\n",
              "      <th>flag</th>\n",
              "      <th>src_bytes</th>\n",
              "      <th>dst_bytes</th>\n",
              "      <th>land</th>\n",
              "      <th>wrong_fragment</th>\n",
              "      <th>urgent</th>\n",
              "      <th>hot</th>\n",
              "      <th>...</th>\n",
              "      <th>dst_host_diff_srv_rate</th>\n",
              "      <th>dst_host_same_src_port_rate</th>\n",
              "      <th>dst_host_srv_diff_host_rate</th>\n",
              "      <th>dst_host_serror_rate</th>\n",
              "      <th>dst_host_srv_serror_rate</th>\n",
              "      <th>dst_host_rerror_rate</th>\n",
              "      <th>dst_host_srv_rerror_rate</th>\n",
              "      <th>attack</th>\n",
              "      <th>level</th>\n",
              "      <th>attack_flag</th>\n",
              "    </tr>\n",
              "  </thead>\n",
              "  <tbody>\n",
              "    <tr>\n",
              "      <th>0</th>\n",
              "      <td>0</td>\n",
              "      <td>udp</td>\n",
              "      <td>other</td>\n",
              "      <td>SF</td>\n",
              "      <td>146</td>\n",
              "      <td>0</td>\n",
              "      <td>0</td>\n",
              "      <td>0</td>\n",
              "      <td>0</td>\n",
              "      <td>0</td>\n",
              "      <td>...</td>\n",
              "      <td>0.60</td>\n",
              "      <td>0.88</td>\n",
              "      <td>0.00</td>\n",
              "      <td>0.00</td>\n",
              "      <td>0.00</td>\n",
              "      <td>0.0</td>\n",
              "      <td>0.00</td>\n",
              "      <td>normal</td>\n",
              "      <td>15</td>\n",
              "      <td>0</td>\n",
              "    </tr>\n",
              "    <tr>\n",
              "      <th>1</th>\n",
              "      <td>0</td>\n",
              "      <td>tcp</td>\n",
              "      <td>private</td>\n",
              "      <td>S0</td>\n",
              "      <td>0</td>\n",
              "      <td>0</td>\n",
              "      <td>0</td>\n",
              "      <td>0</td>\n",
              "      <td>0</td>\n",
              "      <td>0</td>\n",
              "      <td>...</td>\n",
              "      <td>0.05</td>\n",
              "      <td>0.00</td>\n",
              "      <td>0.00</td>\n",
              "      <td>1.00</td>\n",
              "      <td>1.00</td>\n",
              "      <td>0.0</td>\n",
              "      <td>0.00</td>\n",
              "      <td>neptune</td>\n",
              "      <td>19</td>\n",
              "      <td>1</td>\n",
              "    </tr>\n",
              "    <tr>\n",
              "      <th>2</th>\n",
              "      <td>0</td>\n",
              "      <td>tcp</td>\n",
              "      <td>http</td>\n",
              "      <td>SF</td>\n",
              "      <td>232</td>\n",
              "      <td>8153</td>\n",
              "      <td>0</td>\n",
              "      <td>0</td>\n",
              "      <td>0</td>\n",
              "      <td>0</td>\n",
              "      <td>...</td>\n",
              "      <td>0.00</td>\n",
              "      <td>0.03</td>\n",
              "      <td>0.04</td>\n",
              "      <td>0.03</td>\n",
              "      <td>0.01</td>\n",
              "      <td>0.0</td>\n",
              "      <td>0.01</td>\n",
              "      <td>normal</td>\n",
              "      <td>21</td>\n",
              "      <td>0</td>\n",
              "    </tr>\n",
              "    <tr>\n",
              "      <th>3</th>\n",
              "      <td>0</td>\n",
              "      <td>tcp</td>\n",
              "      <td>http</td>\n",
              "      <td>SF</td>\n",
              "      <td>199</td>\n",
              "      <td>420</td>\n",
              "      <td>0</td>\n",
              "      <td>0</td>\n",
              "      <td>0</td>\n",
              "      <td>0</td>\n",
              "      <td>...</td>\n",
              "      <td>0.00</td>\n",
              "      <td>0.00</td>\n",
              "      <td>0.00</td>\n",
              "      <td>0.00</td>\n",
              "      <td>0.00</td>\n",
              "      <td>0.0</td>\n",
              "      <td>0.00</td>\n",
              "      <td>normal</td>\n",
              "      <td>21</td>\n",
              "      <td>0</td>\n",
              "    </tr>\n",
              "    <tr>\n",
              "      <th>4</th>\n",
              "      <td>0</td>\n",
              "      <td>tcp</td>\n",
              "      <td>private</td>\n",
              "      <td>REJ</td>\n",
              "      <td>0</td>\n",
              "      <td>0</td>\n",
              "      <td>0</td>\n",
              "      <td>0</td>\n",
              "      <td>0</td>\n",
              "      <td>0</td>\n",
              "      <td>...</td>\n",
              "      <td>0.07</td>\n",
              "      <td>0.00</td>\n",
              "      <td>0.00</td>\n",
              "      <td>0.00</td>\n",
              "      <td>0.00</td>\n",
              "      <td>1.0</td>\n",
              "      <td>1.00</td>\n",
              "      <td>neptune</td>\n",
              "      <td>21</td>\n",
              "      <td>1</td>\n",
              "    </tr>\n",
              "  </tbody>\n",
              "</table>\n",
              "<p>5 rows × 44 columns</p>\n",
              "</div>\n",
              "      <button class=\"colab-df-convert\" onclick=\"convertToInteractive('df-68b38559-2f79-4439-b112-dbd8fe33b64f')\"\n",
              "              title=\"Convert this dataframe to an interactive table.\"\n",
              "              style=\"display:none;\">\n",
              "        \n",
              "  <svg xmlns=\"http://www.w3.org/2000/svg\" height=\"24px\"viewBox=\"0 0 24 24\"\n",
              "       width=\"24px\">\n",
              "    <path d=\"M0 0h24v24H0V0z\" fill=\"none\"/>\n",
              "    <path d=\"M18.56 5.44l.94 2.06.94-2.06 2.06-.94-2.06-.94-.94-2.06-.94 2.06-2.06.94zm-11 1L8.5 8.5l.94-2.06 2.06-.94-2.06-.94L8.5 2.5l-.94 2.06-2.06.94zm10 10l.94 2.06.94-2.06 2.06-.94-2.06-.94-.94-2.06-.94 2.06-2.06.94z\"/><path d=\"M17.41 7.96l-1.37-1.37c-.4-.4-.92-.59-1.43-.59-.52 0-1.04.2-1.43.59L10.3 9.45l-7.72 7.72c-.78.78-.78 2.05 0 2.83L4 21.41c.39.39.9.59 1.41.59.51 0 1.02-.2 1.41-.59l7.78-7.78 2.81-2.81c.8-.78.8-2.07 0-2.86zM5.41 20L4 18.59l7.72-7.72 1.47 1.35L5.41 20z\"/>\n",
              "  </svg>\n",
              "      </button>\n",
              "      \n",
              "  <style>\n",
              "    .colab-df-container {\n",
              "      display:flex;\n",
              "      flex-wrap:wrap;\n",
              "      gap: 12px;\n",
              "    }\n",
              "\n",
              "    .colab-df-convert {\n",
              "      background-color: #E8F0FE;\n",
              "      border: none;\n",
              "      border-radius: 50%;\n",
              "      cursor: pointer;\n",
              "      display: none;\n",
              "      fill: #1967D2;\n",
              "      height: 32px;\n",
              "      padding: 0 0 0 0;\n",
              "      width: 32px;\n",
              "    }\n",
              "\n",
              "    .colab-df-convert:hover {\n",
              "      background-color: #E2EBFA;\n",
              "      box-shadow: 0px 1px 2px rgba(60, 64, 67, 0.3), 0px 1px 3px 1px rgba(60, 64, 67, 0.15);\n",
              "      fill: #174EA6;\n",
              "    }\n",
              "\n",
              "    [theme=dark] .colab-df-convert {\n",
              "      background-color: #3B4455;\n",
              "      fill: #D2E3FC;\n",
              "    }\n",
              "\n",
              "    [theme=dark] .colab-df-convert:hover {\n",
              "      background-color: #434B5C;\n",
              "      box-shadow: 0px 1px 3px 1px rgba(0, 0, 0, 0.15);\n",
              "      filter: drop-shadow(0px 1px 2px rgba(0, 0, 0, 0.3));\n",
              "      fill: #FFFFFF;\n",
              "    }\n",
              "  </style>\n",
              "\n",
              "      <script>\n",
              "        const buttonEl =\n",
              "          document.querySelector('#df-68b38559-2f79-4439-b112-dbd8fe33b64f button.colab-df-convert');\n",
              "        buttonEl.style.display =\n",
              "          google.colab.kernel.accessAllowed ? 'block' : 'none';\n",
              "\n",
              "        async function convertToInteractive(key) {\n",
              "          const element = document.querySelector('#df-68b38559-2f79-4439-b112-dbd8fe33b64f');\n",
              "          const dataTable =\n",
              "            await google.colab.kernel.invokeFunction('convertToInteractive',\n",
              "                                                     [key], {});\n",
              "          if (!dataTable) return;\n",
              "\n",
              "          const docLinkHtml = 'Like what you see? Visit the ' +\n",
              "            '<a target=\"_blank\" href=https://colab.research.google.com/notebooks/data_table.ipynb>data table notebook</a>'\n",
              "            + ' to learn more about interactive tables.';\n",
              "          element.innerHTML = '';\n",
              "          dataTable['output_type'] = 'display_data';\n",
              "          await google.colab.output.renderOutput(dataTable, element);\n",
              "          const docLink = document.createElement('div');\n",
              "          docLink.innerHTML = docLinkHtml;\n",
              "          element.appendChild(docLink);\n",
              "        }\n",
              "      </script>\n",
              "    </div>\n",
              "  </div>\n",
              "  "
            ]
          },
          "metadata": {},
          "execution_count": 9
        }
      ],
      "source": [
        "# map normal to 0, all attacks to 1\n",
        "is_attack = df.attack.map(lambda a: 0 if a == 'normal' else 1)\n",
        "test_attack = test_df.attack.map(lambda a: 0 if a == 'normal' else 1)\n",
        "\n",
        "#data_with_attack = df.join(is_attack, rsuffix='_flag')\n",
        "df['attack_flag'] = is_attack\n",
        "test_df['attack_flag'] = test_attack\n",
        "\n",
        "# view the result\n",
        "df.head()"
      ]
    },
    {
      "cell_type": "markdown",
      "metadata": {
        "papermill": {
          "duration": 0.017679,
          "end_time": "2020-08-28T13:24:59.054579",
          "exception": false,
          "start_time": "2020-08-28T13:24:59.036900",
          "status": "completed"
        },
        "tags": [],
        "id": "zLx1CUEaB4wK"
      },
      "source": [
        "Next, I'll classify each of the attacks according to attack type for a more granular prediction model. \n",
        "* Denial of Service attacks:\n",
        "  * apache2\n",
        "  * back\n",
        "  * land\n",
        "  * neptune\n",
        "  * mailbomb\n",
        "  * pod\n",
        "  * processtable\n",
        "  * smurf\n",
        "  * teardrop\n",
        "  * udpstorm\n",
        "  * worm\n",
        "* Probe attacks:\n",
        "  * ipsweep\n",
        "  * mscan\n",
        "  * nmap\n",
        "  * portsweep\n",
        "  * saint\n",
        "  * satan\n",
        "* Privilege escalation attacks\n",
        "  * buffer_overflow\n",
        "  * loadmdoule\n",
        "  * perl\n",
        "  * ps\n",
        "  * rootkit\n",
        "  * sqlattack\n",
        "  * xterm\n",
        "* Remote access attacks\n",
        "  * ftp_write\n",
        "  * guess_passwd\n",
        "  * http_tunnel\n",
        "  * imap\n",
        "  * multihop\n",
        "  * named\n",
        "  * phf\n",
        "  * sendmail\n",
        "  * snmpgetattack\n",
        "  * snmpguess\n",
        "  * spy\n",
        "  * warezclient\n",
        "  * warezmaster\n",
        "  * xclock\n",
        "  * xsnoop"
      ]
    },
    {
      "cell_type": "code",
      "execution_count": 10,
      "metadata": {
        "papermill": {
          "duration": 0.249594,
          "end_time": "2020-08-28T13:24:59.322736",
          "exception": false,
          "start_time": "2020-08-28T13:24:59.073142",
          "status": "completed"
        },
        "tags": [],
        "colab": {
          "base_uri": "https://localhost:8080/",
          "height": 299
        },
        "id": "8DghPGkvB4wL",
        "outputId": "306e95f5-8fd4-49e8-f85e-5d5c0187e497"
      },
      "outputs": [
        {
          "output_type": "execute_result",
          "data": {
            "text/plain": [
              "   duration protocol_type  service flag  src_bytes  dst_bytes  land  \\\n",
              "0         0           udp    other   SF        146          0     0   \n",
              "1         0           tcp  private   S0          0          0     0   \n",
              "2         0           tcp     http   SF        232       8153     0   \n",
              "3         0           tcp     http   SF        199        420     0   \n",
              "4         0           tcp  private  REJ          0          0     0   \n",
              "\n",
              "   wrong_fragment  urgent  hot  ...  dst_host_same_src_port_rate  \\\n",
              "0               0       0    0  ...                         0.88   \n",
              "1               0       0    0  ...                         0.00   \n",
              "2               0       0    0  ...                         0.03   \n",
              "3               0       0    0  ...                         0.00   \n",
              "4               0       0    0  ...                         0.00   \n",
              "\n",
              "   dst_host_srv_diff_host_rate  dst_host_serror_rate  \\\n",
              "0                         0.00                  0.00   \n",
              "1                         0.00                  1.00   \n",
              "2                         0.04                  0.03   \n",
              "3                         0.00                  0.00   \n",
              "4                         0.00                  0.00   \n",
              "\n",
              "   dst_host_srv_serror_rate  dst_host_rerror_rate  dst_host_srv_rerror_rate  \\\n",
              "0                      0.00                   0.0                      0.00   \n",
              "1                      1.00                   0.0                      0.00   \n",
              "2                      0.01                   0.0                      0.01   \n",
              "3                      0.00                   0.0                      0.00   \n",
              "4                      0.00                   1.0                      1.00   \n",
              "\n",
              "    attack  level  attack_flag  attack_map  \n",
              "0   normal     15            0           0  \n",
              "1  neptune     19            1           1  \n",
              "2   normal     21            0           0  \n",
              "3   normal     21            0           0  \n",
              "4  neptune     21            1           1  \n",
              "\n",
              "[5 rows x 45 columns]"
            ],
            "text/html": [
              "\n",
              "  <div id=\"df-131db9b7-1f3e-45de-ad52-9a5d25e5caf6\">\n",
              "    <div class=\"colab-df-container\">\n",
              "      <div>\n",
              "<style scoped>\n",
              "    .dataframe tbody tr th:only-of-type {\n",
              "        vertical-align: middle;\n",
              "    }\n",
              "\n",
              "    .dataframe tbody tr th {\n",
              "        vertical-align: top;\n",
              "    }\n",
              "\n",
              "    .dataframe thead th {\n",
              "        text-align: right;\n",
              "    }\n",
              "</style>\n",
              "<table border=\"1\" class=\"dataframe\">\n",
              "  <thead>\n",
              "    <tr style=\"text-align: right;\">\n",
              "      <th></th>\n",
              "      <th>duration</th>\n",
              "      <th>protocol_type</th>\n",
              "      <th>service</th>\n",
              "      <th>flag</th>\n",
              "      <th>src_bytes</th>\n",
              "      <th>dst_bytes</th>\n",
              "      <th>land</th>\n",
              "      <th>wrong_fragment</th>\n",
              "      <th>urgent</th>\n",
              "      <th>hot</th>\n",
              "      <th>...</th>\n",
              "      <th>dst_host_same_src_port_rate</th>\n",
              "      <th>dst_host_srv_diff_host_rate</th>\n",
              "      <th>dst_host_serror_rate</th>\n",
              "      <th>dst_host_srv_serror_rate</th>\n",
              "      <th>dst_host_rerror_rate</th>\n",
              "      <th>dst_host_srv_rerror_rate</th>\n",
              "      <th>attack</th>\n",
              "      <th>level</th>\n",
              "      <th>attack_flag</th>\n",
              "      <th>attack_map</th>\n",
              "    </tr>\n",
              "  </thead>\n",
              "  <tbody>\n",
              "    <tr>\n",
              "      <th>0</th>\n",
              "      <td>0</td>\n",
              "      <td>udp</td>\n",
              "      <td>other</td>\n",
              "      <td>SF</td>\n",
              "      <td>146</td>\n",
              "      <td>0</td>\n",
              "      <td>0</td>\n",
              "      <td>0</td>\n",
              "      <td>0</td>\n",
              "      <td>0</td>\n",
              "      <td>...</td>\n",
              "      <td>0.88</td>\n",
              "      <td>0.00</td>\n",
              "      <td>0.00</td>\n",
              "      <td>0.00</td>\n",
              "      <td>0.0</td>\n",
              "      <td>0.00</td>\n",
              "      <td>normal</td>\n",
              "      <td>15</td>\n",
              "      <td>0</td>\n",
              "      <td>0</td>\n",
              "    </tr>\n",
              "    <tr>\n",
              "      <th>1</th>\n",
              "      <td>0</td>\n",
              "      <td>tcp</td>\n",
              "      <td>private</td>\n",
              "      <td>S0</td>\n",
              "      <td>0</td>\n",
              "      <td>0</td>\n",
              "      <td>0</td>\n",
              "      <td>0</td>\n",
              "      <td>0</td>\n",
              "      <td>0</td>\n",
              "      <td>...</td>\n",
              "      <td>0.00</td>\n",
              "      <td>0.00</td>\n",
              "      <td>1.00</td>\n",
              "      <td>1.00</td>\n",
              "      <td>0.0</td>\n",
              "      <td>0.00</td>\n",
              "      <td>neptune</td>\n",
              "      <td>19</td>\n",
              "      <td>1</td>\n",
              "      <td>1</td>\n",
              "    </tr>\n",
              "    <tr>\n",
              "      <th>2</th>\n",
              "      <td>0</td>\n",
              "      <td>tcp</td>\n",
              "      <td>http</td>\n",
              "      <td>SF</td>\n",
              "      <td>232</td>\n",
              "      <td>8153</td>\n",
              "      <td>0</td>\n",
              "      <td>0</td>\n",
              "      <td>0</td>\n",
              "      <td>0</td>\n",
              "      <td>...</td>\n",
              "      <td>0.03</td>\n",
              "      <td>0.04</td>\n",
              "      <td>0.03</td>\n",
              "      <td>0.01</td>\n",
              "      <td>0.0</td>\n",
              "      <td>0.01</td>\n",
              "      <td>normal</td>\n",
              "      <td>21</td>\n",
              "      <td>0</td>\n",
              "      <td>0</td>\n",
              "    </tr>\n",
              "    <tr>\n",
              "      <th>3</th>\n",
              "      <td>0</td>\n",
              "      <td>tcp</td>\n",
              "      <td>http</td>\n",
              "      <td>SF</td>\n",
              "      <td>199</td>\n",
              "      <td>420</td>\n",
              "      <td>0</td>\n",
              "      <td>0</td>\n",
              "      <td>0</td>\n",
              "      <td>0</td>\n",
              "      <td>...</td>\n",
              "      <td>0.00</td>\n",
              "      <td>0.00</td>\n",
              "      <td>0.00</td>\n",
              "      <td>0.00</td>\n",
              "      <td>0.0</td>\n",
              "      <td>0.00</td>\n",
              "      <td>normal</td>\n",
              "      <td>21</td>\n",
              "      <td>0</td>\n",
              "      <td>0</td>\n",
              "    </tr>\n",
              "    <tr>\n",
              "      <th>4</th>\n",
              "      <td>0</td>\n",
              "      <td>tcp</td>\n",
              "      <td>private</td>\n",
              "      <td>REJ</td>\n",
              "      <td>0</td>\n",
              "      <td>0</td>\n",
              "      <td>0</td>\n",
              "      <td>0</td>\n",
              "      <td>0</td>\n",
              "      <td>0</td>\n",
              "      <td>...</td>\n",
              "      <td>0.00</td>\n",
              "      <td>0.00</td>\n",
              "      <td>0.00</td>\n",
              "      <td>0.00</td>\n",
              "      <td>1.0</td>\n",
              "      <td>1.00</td>\n",
              "      <td>neptune</td>\n",
              "      <td>21</td>\n",
              "      <td>1</td>\n",
              "      <td>1</td>\n",
              "    </tr>\n",
              "  </tbody>\n",
              "</table>\n",
              "<p>5 rows × 45 columns</p>\n",
              "</div>\n",
              "      <button class=\"colab-df-convert\" onclick=\"convertToInteractive('df-131db9b7-1f3e-45de-ad52-9a5d25e5caf6')\"\n",
              "              title=\"Convert this dataframe to an interactive table.\"\n",
              "              style=\"display:none;\">\n",
              "        \n",
              "  <svg xmlns=\"http://www.w3.org/2000/svg\" height=\"24px\"viewBox=\"0 0 24 24\"\n",
              "       width=\"24px\">\n",
              "    <path d=\"M0 0h24v24H0V0z\" fill=\"none\"/>\n",
              "    <path d=\"M18.56 5.44l.94 2.06.94-2.06 2.06-.94-2.06-.94-.94-2.06-.94 2.06-2.06.94zm-11 1L8.5 8.5l.94-2.06 2.06-.94-2.06-.94L8.5 2.5l-.94 2.06-2.06.94zm10 10l.94 2.06.94-2.06 2.06-.94-2.06-.94-.94-2.06-.94 2.06-2.06.94z\"/><path d=\"M17.41 7.96l-1.37-1.37c-.4-.4-.92-.59-1.43-.59-.52 0-1.04.2-1.43.59L10.3 9.45l-7.72 7.72c-.78.78-.78 2.05 0 2.83L4 21.41c.39.39.9.59 1.41.59.51 0 1.02-.2 1.41-.59l7.78-7.78 2.81-2.81c.8-.78.8-2.07 0-2.86zM5.41 20L4 18.59l7.72-7.72 1.47 1.35L5.41 20z\"/>\n",
              "  </svg>\n",
              "      </button>\n",
              "      \n",
              "  <style>\n",
              "    .colab-df-container {\n",
              "      display:flex;\n",
              "      flex-wrap:wrap;\n",
              "      gap: 12px;\n",
              "    }\n",
              "\n",
              "    .colab-df-convert {\n",
              "      background-color: #E8F0FE;\n",
              "      border: none;\n",
              "      border-radius: 50%;\n",
              "      cursor: pointer;\n",
              "      display: none;\n",
              "      fill: #1967D2;\n",
              "      height: 32px;\n",
              "      padding: 0 0 0 0;\n",
              "      width: 32px;\n",
              "    }\n",
              "\n",
              "    .colab-df-convert:hover {\n",
              "      background-color: #E2EBFA;\n",
              "      box-shadow: 0px 1px 2px rgba(60, 64, 67, 0.3), 0px 1px 3px 1px rgba(60, 64, 67, 0.15);\n",
              "      fill: #174EA6;\n",
              "    }\n",
              "\n",
              "    [theme=dark] .colab-df-convert {\n",
              "      background-color: #3B4455;\n",
              "      fill: #D2E3FC;\n",
              "    }\n",
              "\n",
              "    [theme=dark] .colab-df-convert:hover {\n",
              "      background-color: #434B5C;\n",
              "      box-shadow: 0px 1px 3px 1px rgba(0, 0, 0, 0.15);\n",
              "      filter: drop-shadow(0px 1px 2px rgba(0, 0, 0, 0.3));\n",
              "      fill: #FFFFFF;\n",
              "    }\n",
              "  </style>\n",
              "\n",
              "      <script>\n",
              "        const buttonEl =\n",
              "          document.querySelector('#df-131db9b7-1f3e-45de-ad52-9a5d25e5caf6 button.colab-df-convert');\n",
              "        buttonEl.style.display =\n",
              "          google.colab.kernel.accessAllowed ? 'block' : 'none';\n",
              "\n",
              "        async function convertToInteractive(key) {\n",
              "          const element = document.querySelector('#df-131db9b7-1f3e-45de-ad52-9a5d25e5caf6');\n",
              "          const dataTable =\n",
              "            await google.colab.kernel.invokeFunction('convertToInteractive',\n",
              "                                                     [key], {});\n",
              "          if (!dataTable) return;\n",
              "\n",
              "          const docLinkHtml = 'Like what you see? Visit the ' +\n",
              "            '<a target=\"_blank\" href=https://colab.research.google.com/notebooks/data_table.ipynb>data table notebook</a>'\n",
              "            + ' to learn more about interactive tables.';\n",
              "          element.innerHTML = '';\n",
              "          dataTable['output_type'] = 'display_data';\n",
              "          await google.colab.output.renderOutput(dataTable, element);\n",
              "          const docLink = document.createElement('div');\n",
              "          docLink.innerHTML = docLinkHtml;\n",
              "          element.appendChild(docLink);\n",
              "        }\n",
              "      </script>\n",
              "    </div>\n",
              "  </div>\n",
              "  "
            ]
          },
          "metadata": {},
          "execution_count": 10
        }
      ],
      "source": [
        "# lists to hold the attack classifications\n",
        "dos_attacks = ['apache2','back','land','neptune','mailbomb','pod','processtable','smurf','teardrop','udpstorm','worm']\n",
        "probe_attacks = ['ipsweep','mscan','nmap','portsweep','saint','satan']\n",
        "privilege_attacks = ['buffer_overflow','loadmdoule','perl','ps','rootkit','sqlattack','xterm']\n",
        "access_attacks = ['ftp_write','guess_passwd','http_tunnel','imap','multihop','named','phf','sendmail','snmpgetattack','snmpguess','spy','warezclient','warezmaster','xclock','xsnoop']\n",
        "\n",
        "# I will use these for plotting below\n",
        "attack_labels = ['Normal','DoS','Probe','Privilege','Access']\n",
        "\n",
        "# helper function to pass to data frame mapping\n",
        "def map_attack(attack):\n",
        "    if attack in dos_attacks:\n",
        "        # dos_attacks map to 1\n",
        "        attack_type = 1\n",
        "    elif attack in probe_attacks:\n",
        "        # probe_attacks mapt to 2\n",
        "        attack_type = 2\n",
        "    elif attack in privilege_attacks:\n",
        "        # privilege escalation attacks map to 3\n",
        "        attack_type = 3\n",
        "    elif attack in access_attacks:\n",
        "        # remote access attacks map to 4\n",
        "        attack_type = 4\n",
        "    else:\n",
        "        # normal maps to 0\n",
        "        attack_type = 0\n",
        "        \n",
        "    return attack_type\n",
        "\n",
        "# map the data and join to the data set\n",
        "attack_map = df.attack.apply(map_attack)\n",
        "df['attack_map'] = attack_map\n",
        "\n",
        "test_attack_map = test_df.attack.apply(map_attack)\n",
        "test_df['attack_map'] = test_attack_map\n",
        "\n",
        "# view the result\n",
        "df.head()"
      ]
    },
    {
      "cell_type": "markdown",
      "metadata": {
        "papermill": {
          "duration": 0.020284,
          "end_time": "2020-08-28T13:24:59.364107",
          "exception": false,
          "start_time": "2020-08-28T13:24:59.343823",
          "status": "completed"
        },
        "tags": [],
        "id": "zPclWUpcB4wL"
      },
      "source": [
        "# Data profiling\n",
        "Some intital investigations of what I have in the set. First is a simple table of attack by protocol. In network traffic analysis protocol is a simple tool to create some initial buckets to categorize the data. 'normal' is left in the set at this point as a benchmark."
      ]
    },
    {
      "cell_type": "code",
      "execution_count": 11,
      "metadata": {
        "colab": {
          "base_uri": "https://localhost:8080/"
        },
        "id": "kBFl8G-pB4wM",
        "outputId": "b0f57a69-fe27-4d1e-d5c2-15f50ec2d2db"
      },
      "outputs": [
        {
          "output_type": "execute_result",
          "data": {
            "text/plain": [
              "tcp     102688\n",
              "udp      14993\n",
              "icmp      8291\n",
              "Name: protocol_type, dtype: int64"
            ]
          },
          "metadata": {},
          "execution_count": 11
        }
      ],
      "source": [
        "df.protocol_type.value_counts()"
      ]
    },
    {
      "cell_type": "code",
      "execution_count": 12,
      "metadata": {
        "papermill": {
          "duration": 0.094874,
          "end_time": "2020-08-28T13:24:59.477980",
          "exception": false,
          "start_time": "2020-08-28T13:24:59.383106",
          "status": "completed"
        },
        "tags": [],
        "colab": {
          "base_uri": "https://localhost:8080/",
          "height": 802
        },
        "id": "NK5ItnapB4wM",
        "outputId": "36cf9dc9-be49-41ac-96ab-eab49c498003"
      },
      "outputs": [
        {
          "output_type": "execute_result",
          "data": {
            "text/plain": [
              "protocol_type    icmp    tcp    udp\n",
              "attack                             \n",
              "back                0    956      0\n",
              "buffer_overflow     0     30      0\n",
              "ftp_write           0      8      0\n",
              "guess_passwd        0     53      0\n",
              "imap                0     11      0\n",
              "ipsweep          3117    482      0\n",
              "land                0     18      0\n",
              "loadmodule          0      9      0\n",
              "multihop            0      7      0\n",
              "neptune             0  41214      0\n",
              "nmap              981    265    247\n",
              "normal           1309  53599  12434\n",
              "perl                0      3      0\n",
              "phf                 0      4      0\n",
              "pod               201      0      0\n",
              "portsweep           5   2926      0\n",
              "rootkit             0      7      3\n",
              "satan              32   2184   1417\n",
              "smurf            2646      0      0\n",
              "spy                 0      2      0\n",
              "teardrop            0      0    892\n",
              "warezclient         0    890      0\n",
              "warezmaster         0     20      0"
            ],
            "text/html": [
              "\n",
              "  <div id=\"df-8c3709e7-4766-464e-84f4-ad75adb89340\">\n",
              "    <div class=\"colab-df-container\">\n",
              "      <div>\n",
              "<style scoped>\n",
              "    .dataframe tbody tr th:only-of-type {\n",
              "        vertical-align: middle;\n",
              "    }\n",
              "\n",
              "    .dataframe tbody tr th {\n",
              "        vertical-align: top;\n",
              "    }\n",
              "\n",
              "    .dataframe thead th {\n",
              "        text-align: right;\n",
              "    }\n",
              "</style>\n",
              "<table border=\"1\" class=\"dataframe\">\n",
              "  <thead>\n",
              "    <tr style=\"text-align: right;\">\n",
              "      <th>protocol_type</th>\n",
              "      <th>icmp</th>\n",
              "      <th>tcp</th>\n",
              "      <th>udp</th>\n",
              "    </tr>\n",
              "    <tr>\n",
              "      <th>attack</th>\n",
              "      <th></th>\n",
              "      <th></th>\n",
              "      <th></th>\n",
              "    </tr>\n",
              "  </thead>\n",
              "  <tbody>\n",
              "    <tr>\n",
              "      <th>back</th>\n",
              "      <td>0</td>\n",
              "      <td>956</td>\n",
              "      <td>0</td>\n",
              "    </tr>\n",
              "    <tr>\n",
              "      <th>buffer_overflow</th>\n",
              "      <td>0</td>\n",
              "      <td>30</td>\n",
              "      <td>0</td>\n",
              "    </tr>\n",
              "    <tr>\n",
              "      <th>ftp_write</th>\n",
              "      <td>0</td>\n",
              "      <td>8</td>\n",
              "      <td>0</td>\n",
              "    </tr>\n",
              "    <tr>\n",
              "      <th>guess_passwd</th>\n",
              "      <td>0</td>\n",
              "      <td>53</td>\n",
              "      <td>0</td>\n",
              "    </tr>\n",
              "    <tr>\n",
              "      <th>imap</th>\n",
              "      <td>0</td>\n",
              "      <td>11</td>\n",
              "      <td>0</td>\n",
              "    </tr>\n",
              "    <tr>\n",
              "      <th>ipsweep</th>\n",
              "      <td>3117</td>\n",
              "      <td>482</td>\n",
              "      <td>0</td>\n",
              "    </tr>\n",
              "    <tr>\n",
              "      <th>land</th>\n",
              "      <td>0</td>\n",
              "      <td>18</td>\n",
              "      <td>0</td>\n",
              "    </tr>\n",
              "    <tr>\n",
              "      <th>loadmodule</th>\n",
              "      <td>0</td>\n",
              "      <td>9</td>\n",
              "      <td>0</td>\n",
              "    </tr>\n",
              "    <tr>\n",
              "      <th>multihop</th>\n",
              "      <td>0</td>\n",
              "      <td>7</td>\n",
              "      <td>0</td>\n",
              "    </tr>\n",
              "    <tr>\n",
              "      <th>neptune</th>\n",
              "      <td>0</td>\n",
              "      <td>41214</td>\n",
              "      <td>0</td>\n",
              "    </tr>\n",
              "    <tr>\n",
              "      <th>nmap</th>\n",
              "      <td>981</td>\n",
              "      <td>265</td>\n",
              "      <td>247</td>\n",
              "    </tr>\n",
              "    <tr>\n",
              "      <th>normal</th>\n",
              "      <td>1309</td>\n",
              "      <td>53599</td>\n",
              "      <td>12434</td>\n",
              "    </tr>\n",
              "    <tr>\n",
              "      <th>perl</th>\n",
              "      <td>0</td>\n",
              "      <td>3</td>\n",
              "      <td>0</td>\n",
              "    </tr>\n",
              "    <tr>\n",
              "      <th>phf</th>\n",
              "      <td>0</td>\n",
              "      <td>4</td>\n",
              "      <td>0</td>\n",
              "    </tr>\n",
              "    <tr>\n",
              "      <th>pod</th>\n",
              "      <td>201</td>\n",
              "      <td>0</td>\n",
              "      <td>0</td>\n",
              "    </tr>\n",
              "    <tr>\n",
              "      <th>portsweep</th>\n",
              "      <td>5</td>\n",
              "      <td>2926</td>\n",
              "      <td>0</td>\n",
              "    </tr>\n",
              "    <tr>\n",
              "      <th>rootkit</th>\n",
              "      <td>0</td>\n",
              "      <td>7</td>\n",
              "      <td>3</td>\n",
              "    </tr>\n",
              "    <tr>\n",
              "      <th>satan</th>\n",
              "      <td>32</td>\n",
              "      <td>2184</td>\n",
              "      <td>1417</td>\n",
              "    </tr>\n",
              "    <tr>\n",
              "      <th>smurf</th>\n",
              "      <td>2646</td>\n",
              "      <td>0</td>\n",
              "      <td>0</td>\n",
              "    </tr>\n",
              "    <tr>\n",
              "      <th>spy</th>\n",
              "      <td>0</td>\n",
              "      <td>2</td>\n",
              "      <td>0</td>\n",
              "    </tr>\n",
              "    <tr>\n",
              "      <th>teardrop</th>\n",
              "      <td>0</td>\n",
              "      <td>0</td>\n",
              "      <td>892</td>\n",
              "    </tr>\n",
              "    <tr>\n",
              "      <th>warezclient</th>\n",
              "      <td>0</td>\n",
              "      <td>890</td>\n",
              "      <td>0</td>\n",
              "    </tr>\n",
              "    <tr>\n",
              "      <th>warezmaster</th>\n",
              "      <td>0</td>\n",
              "      <td>20</td>\n",
              "      <td>0</td>\n",
              "    </tr>\n",
              "  </tbody>\n",
              "</table>\n",
              "</div>\n",
              "      <button class=\"colab-df-convert\" onclick=\"convertToInteractive('df-8c3709e7-4766-464e-84f4-ad75adb89340')\"\n",
              "              title=\"Convert this dataframe to an interactive table.\"\n",
              "              style=\"display:none;\">\n",
              "        \n",
              "  <svg xmlns=\"http://www.w3.org/2000/svg\" height=\"24px\"viewBox=\"0 0 24 24\"\n",
              "       width=\"24px\">\n",
              "    <path d=\"M0 0h24v24H0V0z\" fill=\"none\"/>\n",
              "    <path d=\"M18.56 5.44l.94 2.06.94-2.06 2.06-.94-2.06-.94-.94-2.06-.94 2.06-2.06.94zm-11 1L8.5 8.5l.94-2.06 2.06-.94-2.06-.94L8.5 2.5l-.94 2.06-2.06.94zm10 10l.94 2.06.94-2.06 2.06-.94-2.06-.94-.94-2.06-.94 2.06-2.06.94z\"/><path d=\"M17.41 7.96l-1.37-1.37c-.4-.4-.92-.59-1.43-.59-.52 0-1.04.2-1.43.59L10.3 9.45l-7.72 7.72c-.78.78-.78 2.05 0 2.83L4 21.41c.39.39.9.59 1.41.59.51 0 1.02-.2 1.41-.59l7.78-7.78 2.81-2.81c.8-.78.8-2.07 0-2.86zM5.41 20L4 18.59l7.72-7.72 1.47 1.35L5.41 20z\"/>\n",
              "  </svg>\n",
              "      </button>\n",
              "      \n",
              "  <style>\n",
              "    .colab-df-container {\n",
              "      display:flex;\n",
              "      flex-wrap:wrap;\n",
              "      gap: 12px;\n",
              "    }\n",
              "\n",
              "    .colab-df-convert {\n",
              "      background-color: #E8F0FE;\n",
              "      border: none;\n",
              "      border-radius: 50%;\n",
              "      cursor: pointer;\n",
              "      display: none;\n",
              "      fill: #1967D2;\n",
              "      height: 32px;\n",
              "      padding: 0 0 0 0;\n",
              "      width: 32px;\n",
              "    }\n",
              "\n",
              "    .colab-df-convert:hover {\n",
              "      background-color: #E2EBFA;\n",
              "      box-shadow: 0px 1px 2px rgba(60, 64, 67, 0.3), 0px 1px 3px 1px rgba(60, 64, 67, 0.15);\n",
              "      fill: #174EA6;\n",
              "    }\n",
              "\n",
              "    [theme=dark] .colab-df-convert {\n",
              "      background-color: #3B4455;\n",
              "      fill: #D2E3FC;\n",
              "    }\n",
              "\n",
              "    [theme=dark] .colab-df-convert:hover {\n",
              "      background-color: #434B5C;\n",
              "      box-shadow: 0px 1px 3px 1px rgba(0, 0, 0, 0.15);\n",
              "      filter: drop-shadow(0px 1px 2px rgba(0, 0, 0, 0.3));\n",
              "      fill: #FFFFFF;\n",
              "    }\n",
              "  </style>\n",
              "\n",
              "      <script>\n",
              "        const buttonEl =\n",
              "          document.querySelector('#df-8c3709e7-4766-464e-84f4-ad75adb89340 button.colab-df-convert');\n",
              "        buttonEl.style.display =\n",
              "          google.colab.kernel.accessAllowed ? 'block' : 'none';\n",
              "\n",
              "        async function convertToInteractive(key) {\n",
              "          const element = document.querySelector('#df-8c3709e7-4766-464e-84f4-ad75adb89340');\n",
              "          const dataTable =\n",
              "            await google.colab.kernel.invokeFunction('convertToInteractive',\n",
              "                                                     [key], {});\n",
              "          if (!dataTable) return;\n",
              "\n",
              "          const docLinkHtml = 'Like what you see? Visit the ' +\n",
              "            '<a target=\"_blank\" href=https://colab.research.google.com/notebooks/data_table.ipynb>data table notebook</a>'\n",
              "            + ' to learn more about interactive tables.';\n",
              "          element.innerHTML = '';\n",
              "          dataTable['output_type'] = 'display_data';\n",
              "          await google.colab.output.renderOutput(dataTable, element);\n",
              "          const docLink = document.createElement('div');\n",
              "          docLink.innerHTML = docLinkHtml;\n",
              "          element.appendChild(docLink);\n",
              "        }\n",
              "      </script>\n",
              "    </div>\n",
              "  </div>\n",
              "  "
            ]
          },
          "metadata": {},
          "execution_count": 12
        }
      ],
      "source": [
        "# use a crosstab to get attack vs protocol\n",
        "attack_vs_protocol = pd.crosstab(df.attack, df.protocol_type)\n",
        "attack_vs_protocol"
      ]
    },
    {
      "cell_type": "markdown",
      "metadata": {
        "papermill": {
          "duration": 0.018612,
          "end_time": "2020-08-28T13:24:59.515479",
          "exception": false,
          "start_time": "2020-08-28T13:24:59.496867",
          "status": "completed"
        },
        "tags": [],
        "id": "jqfHMWxoB4wN"
      },
      "source": [
        "That helps us see that most attacks are going to target a specific protocol. There are several (satan, nmap, ipsweep) that are cross-prototcol attacks\n",
        "\n",
        "Also notice how icmp data is less frequently found in normal traffic."
      ]
    },
    {
      "cell_type": "markdown",
      "metadata": {
        "papermill": {
          "duration": 0.018904,
          "end_time": "2020-08-28T13:24:59.553360",
          "exception": false,
          "start_time": "2020-08-28T13:24:59.534456",
          "status": "completed"
        },
        "tags": [],
        "id": "sM4mG8pnB4wN"
      },
      "source": [
        "Let's take a look at some charts to see how things are distributed."
      ]
    },
    {
      "cell_type": "code",
      "execution_count": 13,
      "metadata": {
        "papermill": {
          "duration": 0.036382,
          "end_time": "2020-08-28T13:24:59.608919",
          "exception": false,
          "start_time": "2020-08-28T13:24:59.572537",
          "status": "completed"
        },
        "tags": [],
        "id": "UpYDLJuBB4wN"
      },
      "outputs": [],
      "source": [
        "# helper function for drawing mulitple charts.\n",
        "def bake_pies(data_list,labels):\n",
        "    list_length = len(data_list)\n",
        "    \n",
        "    # setup for mapping colors\n",
        "    color_list = sns.color_palette()\n",
        "    color_cycle = itertools.cycle(color_list)\n",
        "    cdict = {}\n",
        "    \n",
        "    # build the subplots\n",
        "    fig, axs = plt.subplots(1, list_length,figsize=(18,10), tight_layout=False)\n",
        "    plt.subplots_adjust(wspace=1/list_length)\n",
        "    \n",
        "    # loop through the data sets and build the charts\n",
        "    for count, data_set in enumerate(data_list): \n",
        "        \n",
        "        # update our color mapt with new values\n",
        "        for num, value in enumerate(np.unique(data_set.index)):\n",
        "            if value not in cdict:\n",
        "                cdict[value] = next(color_cycle)\n",
        "       \n",
        "        # build the wedges\n",
        "        wedges,texts = axs[count].pie(data_set,\n",
        "                           colors=[cdict[v] for v in data_set.index])\n",
        "\n",
        "        # build the legend\n",
        "        axs[count].legend(wedges, data_set.index,\n",
        "                           title=\"Flags\",\n",
        "                           loc=\"center left\",\n",
        "                           bbox_to_anchor=(1, 0, 0.5, 1))\n",
        "        # set the title\n",
        "        axs[count].set_title(labels[count])\n",
        "        \n",
        "    return axs   \n",
        "\n"
      ]
    },
    {
      "cell_type": "code",
      "execution_count": 14,
      "metadata": {
        "papermill": {
          "duration": 0.674413,
          "end_time": "2020-08-28T13:25:00.302520",
          "exception": false,
          "start_time": "2020-08-28T13:24:59.628107",
          "status": "completed"
        },
        "tags": [],
        "colab": {
          "base_uri": "https://localhost:8080/",
          "height": 388
        },
        "id": "lPOWSYKOB4wO",
        "outputId": "5df78b92-d448-4b92-d0c3-e27ce61afa70"
      },
      "outputs": [
        {
          "output_type": "display_data",
          "data": {
            "text/plain": [
              "<Figure size 1296x720 with 3 Axes>"
            ],
            "image/png": "[encoded data removed]"
          },
          "metadata": {}
        }
      ],
      "source": [
        "# get the series for each protocol\n",
        "icmp_attacks = attack_vs_protocol.icmp\n",
        "tcp_attacks = attack_vs_protocol.tcp\n",
        "udp_attacks = attack_vs_protocol.udp\n",
        "\n",
        "# create the charts\n",
        "bake_pies([icmp_attacks, tcp_attacks, udp_attacks],['icmp','tcp','udp'])\n",
        "plt.show()"
      ]
    },
    {
      "cell_type": "markdown",
      "metadata": {
        "papermill": {
          "duration": 0.019501,
          "end_time": "2020-08-28T13:25:00.342340",
          "exception": false,
          "start_time": "2020-08-28T13:25:00.322839",
          "status": "completed"
        },
        "tags": [],
        "id": "gPUT0WkNB4wP"
      },
      "source": [
        "The thing to notice here is the difference in each protocol type. Protocol may be useful in being able to identify the type of traffic we are observing"
      ]
    },
    {
      "cell_type": "code",
      "execution_count": 15,
      "metadata": {
        "papermill": {
          "duration": 0.47381,
          "end_time": "2020-08-28T13:25:00.836014",
          "exception": false,
          "start_time": "2020-08-28T13:25:00.362204",
          "status": "completed"
        },
        "tags": [],
        "colab": {
          "base_uri": "https://localhost:8080/",
          "height": 449
        },
        "id": "h2o47UzZB4wP",
        "outputId": "32194c2d-c8a3-448c-8668-94a5d5d7194e"
      },
      "outputs": [
        {
          "output_type": "display_data",
          "data": {
            "text/plain": [
              "<Figure size 1296x720 with 2 Axes>"
            ],
            "image/png": "[encoded data removed]"
          },
          "metadata": {}
        }
      ],
      "source": [
        "# get a series with the count of each flag for attack and normal traffic\n",
        "normal_flags = df.loc[df.attack_flag == 0].flag.value_counts()\n",
        "attack_flags = df.loc[df.attack_flag == 1].flag.value_counts()\n",
        "\n",
        "# create the charts\n",
        "flag_axs = bake_pies([normal_flags, attack_flags], ['normal','attack'])        \n",
        "plt.show()"
      ]
    },
    {
      "cell_type": "markdown",
      "metadata": {
        "papermill": {
          "duration": 0.020057,
          "end_time": "2020-08-28T13:25:00.876756",
          "exception": false,
          "start_time": "2020-08-28T13:25:00.856699",
          "status": "completed"
        },
        "tags": [],
        "id": "C-3YvxO_B4wP"
      },
      "source": [
        "And service?"
      ]
    },
    {
      "cell_type": "code",
      "execution_count": 16,
      "metadata": {
        "papermill": {
          "duration": 1.149089,
          "end_time": "2020-08-28T13:25:02.046054",
          "exception": false,
          "start_time": "2020-08-28T13:25:00.896965",
          "status": "completed"
        },
        "tags": [],
        "colab": {
          "base_uri": "https://localhost:8080/",
          "height": 1000
        },
        "id": "GDhOYv9aB4wQ",
        "outputId": "d268900c-e7c2-43f3-9f38-b634b092455f"
      },
      "outputs": [
        {
          "output_type": "display_data",
          "data": {
            "text/plain": [
              "<Figure size 1296x720 with 2 Axes>"
            ],
            "image/png": "[encoded data removed]"
          },
          "metadata": {}
        }
      ],
      "source": [
        "# get a series with the count of each service for attack and normal traffic\n",
        "normal_services = df.loc[df.attack_flag == 0].service.value_counts()\n",
        "attack_services = df.loc[df.attack_flag == 1].service.value_counts()\n",
        "\n",
        "# create the charts\n",
        "service_axs = bake_pies([normal_services, attack_services], ['normal','attack'])        \n",
        "plt.show()\n"
      ]
    },
    {
      "cell_type": "markdown",
      "metadata": {
        "papermill": {
          "duration": 0.024077,
          "end_time": "2020-08-28T13:25:02.093827",
          "exception": false,
          "start_time": "2020-08-28T13:25:02.069750",
          "status": "completed"
        },
        "tags": [],
        "id": "uUC67n_LB4wQ"
      },
      "source": [
        "Look at how many services are in the attack set! Whereas a huge amount of normal traffic is http, the attack traffic is all over the place. That is interesting as it means that attacks are searching for many different paths into systems--some well traveled and some not. \n",
        "\n",
        "If we think about this from the eyes of a network adminstrator, the combination of protocol, flag and service seem like they should tell us a lot about the nature of the traffic. Coupling them with the duration of a connection and the amount of data in that connection seems like a good starting point for us."
      ]
    },
    {
      "cell_type": "markdown",
      "metadata": {
        "papermill": {
          "duration": 0.021957,
          "end_time": "2020-08-28T13:25:02.138660",
          "exception": false,
          "start_time": "2020-08-28T13:25:02.116703",
          "status": "completed"
        },
        "tags": [],
        "id": "aGQgE96pB4wQ"
      },
      "source": [
        "# Feature engineering"
      ]
    },
    {
      "cell_type": "markdown",
      "metadata": {
        "papermill": {
          "duration": 0.021923,
          "end_time": "2020-08-28T13:25:02.183325",
          "exception": false,
          "start_time": "2020-08-28T13:25:02.161402",
          "status": "completed"
        },
        "tags": [],
        "id": "OiorFNWgB4wR"
      },
      "source": [
        "So let's dive into some feature building. It seems like that items above would make a good place to start: protocol_type, service and flag. There's enough variation between these that we should be able to get some base level of identification. I am also going to throw in some basic numeric data: duration, src_bytes, dst_bytes. All of these are going to be readily available from modern network equipment and should tell us a lot about what is happening on our network."
      ]
    },
    {
      "cell_type": "code",
      "execution_count": 17,
      "metadata": {
        "papermill": {
          "duration": 0.161828,
          "end_time": "2020-08-28T13:25:02.367296",
          "exception": false,
          "start_time": "2020-08-28T13:25:02.205468",
          "status": "completed"
        },
        "tags": [],
        "id": "xhYWEr8kB4wR"
      },
      "outputs": [],
      "source": [
        "# get the intial set of encoded features and encode them\n",
        "features_to_encode = ['protocol_type', 'service', 'flag']\n",
        "encoded = pd.get_dummies(df[features_to_encode])\n",
        "test_encoded_base = pd.get_dummies(test_df[features_to_encode])\n",
        "\n",
        "# not all of the features are in the test set, so there is need to account for diffs\n",
        "test_index = np.arange(len(test_df.index))\n",
        "column_diffs = list(set(encoded.columns.values)-set(test_encoded_base.columns.values))\n",
        "\n",
        "diff_df = pd.DataFrame(0, index=test_index, columns=column_diffs)\n",
        "\n",
        "# I'll also need to reorder the columns to match, so let's get them\n",
        "column_order = encoded.columns.to_list()\n",
        "\n",
        "# append the new columns\n",
        "test_encoded_temp = test_encoded_base.join(diff_df)\n",
        "\n",
        "# reorder the columns\n",
        "test_final = test_encoded_temp[column_order].fillna(0)\n",
        "\n",
        "# get numeric features, I won't worry about encoding these at this point\n",
        "numeric_features = ['duration', 'src_bytes', 'dst_bytes']\n",
        "\n",
        "# model to fit/test\n",
        "to_fit = encoded.join(df[numeric_features])\n",
        "test_set = test_final.join(test_df[numeric_features])"
      ]
    },
    {
      "cell_type": "markdown",
      "metadata": {
        "papermill": {
          "duration": 0.021949,
          "end_time": "2020-08-28T13:25:02.411969",
          "exception": false,
          "start_time": "2020-08-28T13:25:02.390020",
          "status": "completed"
        },
        "tags": [],
        "id": "PvaWxNhpB4wS"
      },
      "source": [
        "It's worth drawing attention to a few things here. First, `pd.get_dummies` is a method that allows us to do a quick one hot encoding on our columns. This takes every value it finds in a single column and makes an individual column for each value, with a `0` or `1` indicating whether that column is 'hot'.\n",
        "\n",
        "One thing I find is that note every value is in the test data. So that creates different shapes of the data frame. That's why I added some columns, filled them in and reorded them. I know they are all zeros because they aren't in the data."
      ]
    },
    {
      "cell_type": "markdown",
      "metadata": {
        "papermill": {
          "duration": 0.021836,
          "end_time": "2020-08-28T13:25:02.456234",
          "exception": false,
          "start_time": "2020-08-28T13:25:02.434398",
          "status": "completed"
        },
        "tags": [],
        "id": "hH7ktVEjB4wS"
      },
      "source": [
        "Now let's go ahead and set the classification targets. I'll do both training sets to start binrary classifications."
      ]
    },
    {
      "cell_type": "code",
      "execution_count": 18,
      "metadata": {
        "papermill": {
          "duration": 0.127019,
          "end_time": "2020-08-28T13:25:02.605703",
          "exception": false,
          "start_time": "2020-08-28T13:25:02.478684",
          "status": "completed"
        },
        "tags": [],
        "id": "yq66m2sDB4wS"
      },
      "outputs": [],
      "source": [
        "# create the target classifications\n",
        "binary_y = df['attack_flag']\n",
        "\n",
        "test_binary_y = test_df['attack_flag']\n",
        "\n",
        "# build the training sets\n",
        "binary_train_X, binary_val_X, binary_train_y, binary_val_y = train_test_split(to_fit, binary_y, test_size=0.6)"
      ]
    },
    {
      "cell_type": "markdown",
      "metadata": {
        "papermill": {
          "duration": 0.022226,
          "end_time": "2020-08-28T13:25:02.650469",
          "exception": false,
          "start_time": "2020-08-28T13:25:02.628243",
          "status": "completed"
        },
        "tags": [],
        "id": "JNnR9QJCB4wS"
      },
      "source": [
        "# Model fitting\n",
        "Based on the nature of the data above, decision trees are a good starting point for building out predictive models. In this case I'll use a random forest to build and combine multiple trees. I'll start by simply taking the defaults."
      ]
    },
    {
      "cell_type": "code",
      "execution_count": 19,
      "metadata": {
        "papermill": {
          "duration": 6.240211,
          "end_time": "2020-08-28T13:25:08.913073",
          "exception": false,
          "start_time": "2020-08-28T13:25:02.672862",
          "status": "completed"
        },
        "tags": [],
        "colab": {
          "base_uri": "https://localhost:8080/"
        },
        "id": "2kZk7kXxB4wT",
        "outputId": "73dc5455-2674-440b-c919-2d3f15ea5a91"
      },
      "outputs": [
        {
          "output_type": "execute_result",
          "data": {
            "text/plain": [
              "0.9930937764606266"
            ]
          },
          "metadata": {},
          "execution_count": 19
        }
      ],
      "source": [
        "# model for the binary classification\n",
        "binary_model = RandomForestClassifier()\n",
        "binary_model.fit(binary_train_X, binary_train_y)\n",
        "binary_predictions = binary_model.predict(binary_val_X)\n",
        "\n",
        "# calculate and display the base accuracty\n",
        "base_rf_score = accuracy_score(binary_predictions,binary_val_y)\n",
        "base_rf_score"
      ]
    },
    {
      "cell_type": "markdown",
      "metadata": {
        "papermill": {
          "duration": 0.022461,
          "end_time": "2020-08-28T13:25:08.958422",
          "exception": false,
          "start_time": "2020-08-28T13:25:08.935961",
          "status": "completed"
        },
        "tags": [],
        "id": "q9jC8ta6B4wT"
      },
      "source": [
        "99% accuracy on the first try! Not bad, right? Let's see how it plays out. \n",
        "\n",
        "It might be interesting to see how differnt models compare against a data set like this. That is easy enought to do with `cross_val_score`. "
      ]
    },
    {
      "cell_type": "code",
      "execution_count": 20,
      "metadata": {
        "papermill": {
          "duration": 87.638239,
          "end_time": "2020-08-28T13:26:36.619048",
          "exception": false,
          "start_time": "2020-08-28T13:25:08.980809",
          "status": "completed"
        },
        "tags": [],
        "id": "5YCvb2FTB4wT"
      },
      "outputs": [],
      "source": [
        "# define the list of models that need to be tested\n",
        "models = [\n",
        "    RandomForestClassifier(),\n",
        "    LogisticRegression(max_iter=250),\n",
        "    KNeighborsClassifier(),\n",
        "]\n",
        "\n",
        "# an empty list to capture the performance of each model\n",
        "model_comps = []\n",
        "\n",
        "# walk through the models and populate the list\n",
        "for model in models:\n",
        "    model_name = model.__class__.__name__\n",
        "    accuracies = cross_val_score(model, binary_train_X, binary_train_y, scoring='accuracy')\n",
        "    for count, accuracy in enumerate(accuracies):\n",
        "        model_comps.append((model_name, count, accuracy))"
      ]
    },
    {
      "cell_type": "code",
      "execution_count": 21,
      "metadata": {
        "papermill": {
          "duration": 0.249076,
          "end_time": "2020-08-28T13:26:36.891426",
          "exception": false,
          "start_time": "2020-08-28T13:26:36.642350",
          "status": "completed"
        },
        "tags": [],
        "colab": {
          "base_uri": "https://localhost:8080/",
          "height": 363
        },
        "id": "1-Fb2U6SB4wU",
        "outputId": "ecf9af93-6d62-4929-f226-d6f75b689b3c"
      },
      "outputs": [
        {
          "output_type": "execute_result",
          "data": {
            "text/plain": [
              "<matplotlib.axes._subplots.AxesSubplot at 0x7f19e71d46d0>"
            ]
          },
          "metadata": {},
          "execution_count": 21
        },
        {
          "output_type": "display_data",
          "data": {
            "text/plain": [
              "<Figure size 432x288 with 1 Axes>"
            ],
            "image/png": "[encoded data removed]"
          },
          "metadata": {
            "needs_background": "light"
          }
        }
      ],
      "source": [
        "# a box plot will do well to show us overall performance and the variation in the models.\n",
        "result_df = pd.DataFrame(model_comps, columns=['model_name', 'count', 'accuracy'])\n",
        "result_df.pivot(index='count',columns='model_name',values='accuracy').boxplot(rot=45)"
      ]
    },
    {
      "cell_type": "markdown",
      "metadata": {
        "papermill": {
          "duration": 0.022511,
          "end_time": "2020-08-28T13:26:36.938519",
          "exception": false,
          "start_time": "2020-08-28T13:26:36.916008",
          "status": "completed"
        },
        "tags": [],
        "id": "8_pXXSWoB4wU"
      },
      "source": [
        "The finding shows some inconsistency across the models. The random forest and K-nearest neighbors are tight groupings with solid performance. The logistic regression didn't perform as well. That may be in  part because sufficient preprocessing were not done on the data to shape it into a form optimized for that model. That too is an exercise for another day."
      ]
    },
    {
      "cell_type": "markdown",
      "metadata": {
        "papermill": {
          "duration": 0.022355,
          "end_time": "2020-08-28T13:26:36.983800",
          "exception": false,
          "start_time": "2020-08-28T13:26:36.961445",
          "status": "completed"
        },
        "tags": [],
        "id": "Iva9FEEhB4wV"
      },
      "source": [
        "# Analyzing the predictions\n",
        "Let's take a look at how the predictions fared. A helper function will be created to pull some relevant metrics from the results. "
      ]
    },
    {
      "cell_type": "code",
      "execution_count": 22,
      "metadata": {
        "papermill": {
          "duration": 0.038073,
          "end_time": "2020-08-28T13:26:37.044910",
          "exception": false,
          "start_time": "2020-08-28T13:26:37.006837",
          "status": "completed"
        },
        "tags": [],
        "id": "WMfVljW4B4wV"
      },
      "outputs": [],
      "source": [
        "# a helper function for getting some analytical data about the predictions\n",
        "def add_predictions(data_set,predictions,y):\n",
        "    prediction_series = pd.Series(predictions, index=y.index)\n",
        "\n",
        "    # adding the predicted and actual outcomes to the data\n",
        "    predicted_vs_actual = data_set.assign(predicted=prediction_series)\n",
        "    original_data = predicted_vs_actual.assign(actual=y).dropna()\n",
        "    conf_matrix = confusion_matrix(original_data['actual'], \n",
        "                                   original_data['predicted'])\n",
        "    \n",
        "    # capture rows with failed predictions\n",
        "    base_errors = original_data[original_data['actual'] != original_data['predicted']]\n",
        "    \n",
        "    # drop columns with no value\n",
        "    non_zeros = base_errors.loc[:,(base_errors != 0).any(axis=0)]\n",
        "\n",
        "    # idetify the type of error\n",
        "    false_positives = non_zeros.loc[non_zeros.actual==0]\n",
        "    false_negatives = non_zeros.loc[non_zeros.actual==1]\n",
        "\n",
        "    # put everything into an object\n",
        "    prediction_data = {'data': original_data,\n",
        "                       'confusion_matrix': conf_matrix,\n",
        "                       'errors': base_errors,\n",
        "                       'non_zeros': non_zeros,\n",
        "                       'false_positives': false_positives,\n",
        "                       'false_negatives': false_negatives}\n",
        "    \n",
        "    return prediction_data\n"
      ]
    },
    {
      "cell_type": "markdown",
      "metadata": {
        "papermill": {
          "duration": 0.022607,
          "end_time": "2020-08-28T13:26:37.090439",
          "exception": false,
          "start_time": "2020-08-28T13:26:37.067832",
          "status": "completed"
        },
        "tags": [],
        "id": "ewa7DImiB4wV"
      },
      "source": [
        "Now we can take a closer look at the results. The first thing that we can do is look at a confusion matrix, which in this case will map the predicted classification to the actual classification."
      ]
    },
    {
      "cell_type": "code",
      "execution_count": 23,
      "metadata": {
        "papermill": {
          "duration": 0.627641,
          "end_time": "2020-08-28T13:26:37.741493",
          "exception": false,
          "start_time": "2020-08-28T13:26:37.113852",
          "status": "completed"
        },
        "tags": [],
        "colab": {
          "base_uri": "https://localhost:8080/",
          "height": 285
        },
        "id": "P0QpEywWB4wV",
        "outputId": "b5344e11-d6c2-4060-b21a-ae35dba4e7b3"
      },
      "outputs": [
        {
          "output_type": "execute_result",
          "data": {
            "text/plain": [
              "<matplotlib.axes._subplots.AxesSubplot at 0x7f19e6ccc050>"
            ]
          },
          "metadata": {},
          "execution_count": 23
        },
        {
          "output_type": "display_data",
          "data": {
            "text/plain": [
              "<Figure size 432x288 with 2 Axes>"
            ],
            "image/png": "[encoded data removed]"
          },
          "metadata": {
            "needs_background": "light"
          }
        }
      ],
      "source": [
        "# capture the prediction data\n",
        "binary_prediction_data = add_predictions(df,\n",
        "                                         binary_predictions,\n",
        "                                         binary_val_y)\n",
        "\n",
        "# create a heatmap of the confusion matrix\n",
        "sns.heatmap(data=binary_prediction_data['confusion_matrix'],\n",
        "            xticklabels = ['Predicted Normal','Predicted Attack'],\n",
        "            yticklabels = ['Actual Normal','Actual Attack'],\n",
        "            cmap=\"YlGnBu\",\n",
        "            fmt='d',\n",
        "            annot=True)"
      ]
    },
    {
      "cell_type": "markdown",
      "metadata": {
        "papermill": {
          "duration": 0.023208,
          "end_time": "2020-08-28T13:26:37.788432",
          "exception": false,
          "start_time": "2020-08-28T13:26:37.765224",
          "status": "completed"
        },
        "tags": [],
        "id": "cGPc2yvdB4wW"
      },
      "source": [
        "There is a lot of false positives (normal traffic that got flagged as an attack) and false negatives (attack traffic that got flagged as normal) there.  \n",
        "\n",
        "So let's explore the prediction errors a bit and see if there is more information to extract."
      ]
    },
    {
      "cell_type": "code",
      "execution_count": 24,
      "metadata": {
        "papermill": {
          "duration": 0.184719,
          "end_time": "2020-08-28T13:26:37.996784",
          "exception": false,
          "start_time": "2020-08-28T13:26:37.812065",
          "status": "completed"
        },
        "tags": [],
        "colab": {
          "base_uri": "https://localhost:8080/",
          "height": 393
        },
        "id": "fVgQ5jkQB4wW",
        "outputId": "129b0f96-5fdf-4b48-8fec-1561ab615184"
      },
      "outputs": [
        {
          "output_type": "execute_result",
          "data": {
            "text/plain": [
              "           duration     src_bytes      dst_bytes        land  wrong_fragment  \\\n",
              "count    522.000000  5.220000e+02     522.000000  522.000000           522.0   \n",
              "mean      60.867816  1.390667e+06    1555.722222    0.009579             0.0   \n",
              "std      676.021803  3.035481e+07   20951.670197    0.097494             0.0   \n",
              "min        0.000000  0.000000e+00       0.000000    0.000000             0.0   \n",
              "25%        0.000000  0.000000e+00       0.000000    0.000000             0.0   \n",
              "50%        0.000000  0.000000e+00       0.000000    0.000000             0.0   \n",
              "75%        0.000000  0.000000e+00       0.000000    0.000000             0.0   \n",
              "max    12743.000000  6.933756e+08  467968.000000    1.000000             0.0   \n",
              "\n",
              "           urgent         hot  num_failed_logins   logged_in  num_compromised  \\\n",
              "count  522.000000  522.000000         522.000000  522.000000       522.000000   \n",
              "mean     0.005747    0.126437           0.011494    0.095785         0.080460   \n",
              "std      0.097795    0.933134           0.223096    0.294579         0.815659   \n",
              "min      0.000000    0.000000           0.000000    0.000000         0.000000   \n",
              "25%      0.000000    0.000000           0.000000    0.000000         0.000000   \n",
              "50%      0.000000    0.000000           0.000000    0.000000         0.000000   \n",
              "75%      0.000000    0.000000           0.000000    0.000000         0.000000   \n",
              "max      2.000000   18.000000           5.000000    1.000000        16.000000   \n",
              "\n",
              "       ...  dst_host_srv_diff_host_rate  dst_host_serror_rate  \\\n",
              "count  ...                   522.000000            522.000000   \n",
              "mean   ...                     0.050536              0.104176   \n",
              "std    ...                     0.165935              0.241223   \n",
              "min    ...                     0.000000              0.000000   \n",
              "25%    ...                     0.000000              0.000000   \n",
              "50%    ...                     0.000000              0.000000   \n",
              "75%    ...                     0.030000              0.050000   \n",
              "max    ...                     1.000000              1.000000   \n",
              "\n",
              "       dst_host_srv_serror_rate  dst_host_rerror_rate  \\\n",
              "count                522.000000            522.000000   \n",
              "mean                   0.033467              0.320594   \n",
              "std                    0.147486              0.451600   \n",
              "min                    0.000000              0.000000   \n",
              "25%                    0.000000              0.000000   \n",
              "50%                    0.000000              0.000000   \n",
              "75%                    0.010000              1.000000   \n",
              "max                    1.000000              1.000000   \n",
              "\n",
              "       dst_host_srv_rerror_rate       level  attack_flag  attack_map  \\\n",
              "count                522.000000  522.000000   522.000000  522.000000   \n",
              "mean                   0.347874   15.245211     0.379310    0.614943   \n",
              "std                    0.462116    5.549051     0.485681    0.994807   \n",
              "min                    0.000000    0.000000     0.000000    0.000000   \n",
              "25%                    0.000000   14.000000     0.000000    0.000000   \n",
              "50%                    0.000000   18.000000     0.000000    0.000000   \n",
              "75%                    1.000000   19.000000     1.000000    1.000000   \n",
              "max                    1.000000   21.000000     1.000000    4.000000   \n",
              "\n",
              "        predicted      actual  \n",
              "count  522.000000  522.000000  \n",
              "mean     0.620690    0.379310  \n",
              "std      0.485681    0.485681  \n",
              "min      0.000000    0.000000  \n",
              "25%      0.000000    0.000000  \n",
              "50%      1.000000    0.000000  \n",
              "75%      1.000000    1.000000  \n",
              "max      1.000000    1.000000  \n",
              "\n",
              "[8 rows x 43 columns]"
            ],
            "text/html": [
              "\n",
              "  <div id=\"df-ad49ce49-6fcb-4774-af01-8a2cf9c046de\">\n",
              "    <div class=\"colab-df-container\">\n",
              "      <div>\n",
              "<style scoped>\n",
              "    .dataframe tbody tr th:only-of-type {\n",
              "        vertical-align: middle;\n",
              "    }\n",
              "\n",
              "    .dataframe tbody tr th {\n",
              "        vertical-align: top;\n",
              "    }\n",
              "\n",
              "    .dataframe thead th {\n",
              "        text-align: right;\n",
              "    }\n",
              "</style>\n",
              "<table border=\"1\" class=\"dataframe\">\n",
              "  <thead>\n",
              "    <tr style=\"text-align: right;\">\n",
              "      <th></th>\n",
              "      <th>duration</th>\n",
              "      <th>src_bytes</th>\n",
              "      <th>dst_bytes</th>\n",
              "      <th>land</th>\n",
              "      <th>wrong_fragment</th>\n",
              "      <th>urgent</th>\n",
              "      <th>hot</th>\n",
              "      <th>num_failed_logins</th>\n",
              "      <th>logged_in</th>\n",
              "      <th>num_compromised</th>\n",
              "      <th>...</th>\n",
              "      <th>dst_host_srv_diff_host_rate</th>\n",
              "      <th>dst_host_serror_rate</th>\n",
              "      <th>dst_host_srv_serror_rate</th>\n",
              "      <th>dst_host_rerror_rate</th>\n",
              "      <th>dst_host_srv_rerror_rate</th>\n",
              "      <th>level</th>\n",
              "      <th>attack_flag</th>\n",
              "      <th>attack_map</th>\n",
              "      <th>predicted</th>\n",
              "      <th>actual</th>\n",
              "    </tr>\n",
              "  </thead>\n",
              "  <tbody>\n",
              "    <tr>\n",
              "      <th>count</th>\n",
              "      <td>522.000000</td>\n",
              "      <td>5.220000e+02</td>\n",
              "      <td>522.000000</td>\n",
              "      <td>522.000000</td>\n",
              "      <td>522.0</td>\n",
              "      <td>522.000000</td>\n",
              "      <td>522.000000</td>\n",
              "      <td>522.000000</td>\n",
              "      <td>522.000000</td>\n",
              "      <td>522.000000</td>\n",
              "      <td>...</td>\n",
              "      <td>522.000000</td>\n",
              "      <td>522.000000</td>\n",
              "      <td>522.000000</td>\n",
              "      <td>522.000000</td>\n",
              "      <td>522.000000</td>\n",
              "      <td>522.000000</td>\n",
              "      <td>522.000000</td>\n",
              "      <td>522.000000</td>\n",
              "      <td>522.000000</td>\n",
              "      <td>522.000000</td>\n",
              "    </tr>\n",
              "    <tr>\n",
              "      <th>mean</th>\n",
              "      <td>60.867816</td>\n",
              "      <td>1.390667e+06</td>\n",
              "      <td>1555.722222</td>\n",
              "      <td>0.009579</td>\n",
              "      <td>0.0</td>\n",
              "      <td>0.005747</td>\n",
              "      <td>0.126437</td>\n",
              "      <td>0.011494</td>\n",
              "      <td>0.095785</td>\n",
              "      <td>0.080460</td>\n",
              "      <td>...</td>\n",
              "      <td>0.050536</td>\n",
              "      <td>0.104176</td>\n",
              "      <td>0.033467</td>\n",
              "      <td>0.320594</td>\n",
              "      <td>0.347874</td>\n",
              "      <td>15.245211</td>\n",
              "      <td>0.379310</td>\n",
              "      <td>0.614943</td>\n",
              "      <td>0.620690</td>\n",
              "      <td>0.379310</td>\n",
              "    </tr>\n",
              "    <tr>\n",
              "      <th>std</th>\n",
              "      <td>676.021803</td>\n",
              "      <td>3.035481e+07</td>\n",
              "      <td>20951.670197</td>\n",
              "      <td>0.097494</td>\n",
              "      <td>0.0</td>\n",
              "      <td>0.097795</td>\n",
              "      <td>0.933134</td>\n",
              "      <td>0.223096</td>\n",
              "      <td>0.294579</td>\n",
              "      <td>0.815659</td>\n",
              "      <td>...</td>\n",
              "      <td>0.165935</td>\n",
              "      <td>0.241223</td>\n",
              "      <td>0.147486</td>\n",
              "      <td>0.451600</td>\n",
              "      <td>0.462116</td>\n",
              "      <td>5.549051</td>\n",
              "      <td>0.485681</td>\n",
              "      <td>0.994807</td>\n",
              "      <td>0.485681</td>\n",
              "      <td>0.485681</td>\n",
              "    </tr>\n",
              "    <tr>\n",
              "      <th>min</th>\n",
              "      <td>0.000000</td>\n",
              "      <td>0.000000e+00</td>\n",
              "      <td>0.000000</td>\n",
              "      <td>0.000000</td>\n",
              "      <td>0.0</td>\n",
              "      <td>0.000000</td>\n",
              "      <td>0.000000</td>\n",
              "      <td>0.000000</td>\n",
              "      <td>0.000000</td>\n",
              "      <td>0.000000</td>\n",
              "      <td>...</td>\n",
              "      <td>0.000000</td>\n",
              "      <td>0.000000</td>\n",
              "      <td>0.000000</td>\n",
              "      <td>0.000000</td>\n",
              "      <td>0.000000</td>\n",
              "      <td>0.000000</td>\n",
              "      <td>0.000000</td>\n",
              "      <td>0.000000</td>\n",
              "      <td>0.000000</td>\n",
              "      <td>0.000000</td>\n",
              "    </tr>\n",
              "    <tr>\n",
              "      <th>25%</th>\n",
              "      <td>0.000000</td>\n",
              "      <td>0.000000e+00</td>\n",
              "      <td>0.000000</td>\n",
              "      <td>0.000000</td>\n",
              "      <td>0.0</td>\n",
              "      <td>0.000000</td>\n",
              "      <td>0.000000</td>\n",
              "      <td>0.000000</td>\n",
              "      <td>0.000000</td>\n",
              "      <td>0.000000</td>\n",
              "      <td>...</td>\n",
              "      <td>0.000000</td>\n",
              "      <td>0.000000</td>\n",
              "      <td>0.000000</td>\n",
              "      <td>0.000000</td>\n",
              "      <td>0.000000</td>\n",
              "      <td>14.000000</td>\n",
              "      <td>0.000000</td>\n",
              "      <td>0.000000</td>\n",
              "      <td>0.000000</td>\n",
              "      <td>0.000000</td>\n",
              "    </tr>\n",
              "    <tr>\n",
              "      <th>50%</th>\n",
              "      <td>0.000000</td>\n",
              "      <td>0.000000e+00</td>\n",
              "      <td>0.000000</td>\n",
              "      <td>0.000000</td>\n",
              "      <td>0.0</td>\n",
              "      <td>0.000000</td>\n",
              "      <td>0.000000</td>\n",
              "      <td>0.000000</td>\n",
              "      <td>0.000000</td>\n",
              "      <td>0.000000</td>\n",
              "      <td>...</td>\n",
              "      <td>0.000000</td>\n",
              "      <td>0.000000</td>\n",
              "      <td>0.000000</td>\n",
              "      <td>0.000000</td>\n",
              "      <td>0.000000</td>\n",
              "      <td>18.000000</td>\n",
              "      <td>0.000000</td>\n",
              "      <td>0.000000</td>\n",
              "      <td>1.000000</td>\n",
              "      <td>0.000000</td>\n",
              "    </tr>\n",
              "    <tr>\n",
              "      <th>75%</th>\n",
              "      <td>0.000000</td>\n",
              "      <td>0.000000e+00</td>\n",
              "      <td>0.000000</td>\n",
              "      <td>0.000000</td>\n",
              "      <td>0.0</td>\n",
              "      <td>0.000000</td>\n",
              "      <td>0.000000</td>\n",
              "      <td>0.000000</td>\n",
              "      <td>0.000000</td>\n",
              "      <td>0.000000</td>\n",
              "      <td>...</td>\n",
              "      <td>0.030000</td>\n",
              "      <td>0.050000</td>\n",
              "      <td>0.010000</td>\n",
              "      <td>1.000000</td>\n",
              "      <td>1.000000</td>\n",
              "      <td>19.000000</td>\n",
              "      <td>1.000000</td>\n",
              "      <td>1.000000</td>\n",
              "      <td>1.000000</td>\n",
              "      <td>1.000000</td>\n",
              "    </tr>\n",
              "    <tr>\n",
              "      <th>max</th>\n",
              "      <td>12743.000000</td>\n",
              "      <td>6.933756e+08</td>\n",
              "      <td>467968.000000</td>\n",
              "      <td>1.000000</td>\n",
              "      <td>0.0</td>\n",
              "      <td>2.000000</td>\n",
              "      <td>18.000000</td>\n",
              "      <td>5.000000</td>\n",
              "      <td>1.000000</td>\n",
              "      <td>16.000000</td>\n",
              "      <td>...</td>\n",
              "      <td>1.000000</td>\n",
              "      <td>1.000000</td>\n",
              "      <td>1.000000</td>\n",
              "      <td>1.000000</td>\n",
              "      <td>1.000000</td>\n",
              "      <td>21.000000</td>\n",
              "      <td>1.000000</td>\n",
              "      <td>4.000000</td>\n",
              "      <td>1.000000</td>\n",
              "      <td>1.000000</td>\n",
              "    </tr>\n",
              "  </tbody>\n",
              "</table>\n",
              "<p>8 rows × 43 columns</p>\n",
              "</div>\n",
              "      <button class=\"colab-df-convert\" onclick=\"convertToInteractive('df-ad49ce49-6fcb-4774-af01-8a2cf9c046de')\"\n",
              "              title=\"Convert this dataframe to an interactive table.\"\n",
              "              style=\"display:none;\">\n",
              "        \n",
              "  <svg xmlns=\"http://www.w3.org/2000/svg\" height=\"24px\"viewBox=\"0 0 24 24\"\n",
              "       width=\"24px\">\n",
              "    <path d=\"M0 0h24v24H0V0z\" fill=\"none\"/>\n",
              "    <path d=\"M18.56 5.44l.94 2.06.94-2.06 2.06-.94-2.06-.94-.94-2.06-.94 2.06-2.06.94zm-11 1L8.5 8.5l.94-2.06 2.06-.94-2.06-.94L8.5 2.5l-.94 2.06-2.06.94zm10 10l.94 2.06.94-2.06 2.06-.94-2.06-.94-.94-2.06-.94 2.06-2.06.94z\"/><path d=\"M17.41 7.96l-1.37-1.37c-.4-.4-.92-.59-1.43-.59-.52 0-1.04.2-1.43.59L10.3 9.45l-7.72 7.72c-.78.78-.78 2.05 0 2.83L4 21.41c.39.39.9.59 1.41.59.51 0 1.02-.2 1.41-.59l7.78-7.78 2.81-2.81c.8-.78.8-2.07 0-2.86zM5.41 20L4 18.59l7.72-7.72 1.47 1.35L5.41 20z\"/>\n",
              "  </svg>\n",
              "      </button>\n",
              "      \n",
              "  <style>\n",
              "    .colab-df-container {\n",
              "      display:flex;\n",
              "      flex-wrap:wrap;\n",
              "      gap: 12px;\n",
              "    }\n",
              "\n",
              "    .colab-df-convert {\n",
              "      background-color: #E8F0FE;\n",
              "      border: none;\n",
              "      border-radius: 50%;\n",
              "      cursor: pointer;\n",
              "      display: none;\n",
              "      fill: #1967D2;\n",
              "      height: 32px;\n",
              "      padding: 0 0 0 0;\n",
              "      width: 32px;\n",
              "    }\n",
              "\n",
              "    .colab-df-convert:hover {\n",
              "      background-color: #E2EBFA;\n",
              "      box-shadow: 0px 1px 2px rgba(60, 64, 67, 0.3), 0px 1px 3px 1px rgba(60, 64, 67, 0.15);\n",
              "      fill: #174EA6;\n",
              "    }\n",
              "\n",
              "    [theme=dark] .colab-df-convert {\n",
              "      background-color: #3B4455;\n",
              "      fill: #D2E3FC;\n",
              "    }\n",
              "\n",
              "    [theme=dark] .colab-df-convert:hover {\n",
              "      background-color: #434B5C;\n",
              "      box-shadow: 0px 1px 3px 1px rgba(0, 0, 0, 0.15);\n",
              "      filter: drop-shadow(0px 1px 2px rgba(0, 0, 0, 0.3));\n",
              "      fill: #FFFFFF;\n",
              "    }\n",
              "  </style>\n",
              "\n",
              "      <script>\n",
              "        const buttonEl =\n",
              "          document.querySelector('#df-ad49ce49-6fcb-4774-af01-8a2cf9c046de button.colab-df-convert');\n",
              "        buttonEl.style.display =\n",
              "          google.colab.kernel.accessAllowed ? 'block' : 'none';\n",
              "\n",
              "        async function convertToInteractive(key) {\n",
              "          const element = document.querySelector('#df-ad49ce49-6fcb-4774-af01-8a2cf9c046de');\n",
              "          const dataTable =\n",
              "            await google.colab.kernel.invokeFunction('convertToInteractive',\n",
              "                                                     [key], {});\n",
              "          if (!dataTable) return;\n",
              "\n",
              "          const docLinkHtml = 'Like what you see? Visit the ' +\n",
              "            '<a target=\"_blank\" href=https://colab.research.google.com/notebooks/data_table.ipynb>data table notebook</a>'\n",
              "            + ' to learn more about interactive tables.';\n",
              "          element.innerHTML = '';\n",
              "          dataTable['output_type'] = 'display_data';\n",
              "          await google.colab.output.renderOutput(dataTable, element);\n",
              "          const docLink = document.createElement('div');\n",
              "          docLink.innerHTML = docLinkHtml;\n",
              "          element.appendChild(docLink);\n",
              "        }\n",
              "      </script>\n",
              "    </div>\n",
              "  </div>\n",
              "  "
            ]
          },
          "metadata": {},
          "execution_count": 24
        }
      ],
      "source": [
        "# dataframe to store incorrect classification\n",
        "binary_prediction_data['errors'].describe()"
      ]
    },
    {
      "cell_type": "markdown",
      "metadata": {
        "papermill": {
          "duration": 0.02375,
          "end_time": "2020-08-28T13:26:38.045047",
          "exception": false,
          "start_time": "2020-08-28T13:26:38.021297",
          "status": "completed"
        },
        "tags": [],
        "id": "FJIf6687B4wX"
      },
      "source": [
        "Notice there are several columns with a standard deviation of 0. That tells us that there is no additional information to glean from those columns. So we can start by dropping them. "
      ]
    },
    {
      "cell_type": "code",
      "execution_count": 25,
      "metadata": {
        "papermill": {
          "duration": 0.171846,
          "end_time": "2020-08-28T13:26:38.241168",
          "exception": false,
          "start_time": "2020-08-28T13:26:38.069322",
          "status": "completed"
        },
        "tags": [],
        "colab": {
          "base_uri": "https://localhost:8080/",
          "height": 393
        },
        "id": "S1mzIguTB4wX",
        "outputId": "96fe902a-b214-43c6-9de4-03d8f98a390f"
      },
      "outputs": [
        {
          "output_type": "execute_result",
          "data": {
            "text/plain": [
              "           duration     src_bytes      dst_bytes        land      urgent  \\\n",
              "count    522.000000  5.220000e+02     522.000000  522.000000  522.000000   \n",
              "mean      60.867816  1.390667e+06    1555.722222    0.009579    0.005747   \n",
              "std      676.021803  3.035481e+07   20951.670197    0.097494    0.097795   \n",
              "min        0.000000  0.000000e+00       0.000000    0.000000    0.000000   \n",
              "25%        0.000000  0.000000e+00       0.000000    0.000000    0.000000   \n",
              "50%        0.000000  0.000000e+00       0.000000    0.000000    0.000000   \n",
              "75%        0.000000  0.000000e+00       0.000000    0.000000    0.000000   \n",
              "max    12743.000000  6.933756e+08  467968.000000    1.000000    2.000000   \n",
              "\n",
              "              hot  num_failed_logins   logged_in  num_compromised  root_shell  \\\n",
              "count  522.000000         522.000000  522.000000       522.000000  522.000000   \n",
              "mean     0.126437           0.011494    0.095785         0.080460    0.017241   \n",
              "std      0.933134           0.223096    0.294579         0.815659    0.130294   \n",
              "min      0.000000           0.000000    0.000000         0.000000    0.000000   \n",
              "25%      0.000000           0.000000    0.000000         0.000000    0.000000   \n",
              "50%      0.000000           0.000000    0.000000         0.000000    0.000000   \n",
              "75%      0.000000           0.000000    0.000000         0.000000    0.000000   \n",
              "max     18.000000           5.000000    1.000000        16.000000    1.000000   \n",
              "\n",
              "       ...  dst_host_srv_diff_host_rate  dst_host_serror_rate  \\\n",
              "count  ...                   522.000000            522.000000   \n",
              "mean   ...                     0.050536              0.104176   \n",
              "std    ...                     0.165935              0.241223   \n",
              "min    ...                     0.000000              0.000000   \n",
              "25%    ...                     0.000000              0.000000   \n",
              "50%    ...                     0.000000              0.000000   \n",
              "75%    ...                     0.030000              0.050000   \n",
              "max    ...                     1.000000              1.000000   \n",
              "\n",
              "       dst_host_srv_serror_rate  dst_host_rerror_rate  \\\n",
              "count                522.000000            522.000000   \n",
              "mean                   0.033467              0.320594   \n",
              "std                    0.147486              0.451600   \n",
              "min                    0.000000              0.000000   \n",
              "25%                    0.000000              0.000000   \n",
              "50%                    0.000000              0.000000   \n",
              "75%                    0.010000              1.000000   \n",
              "max                    1.000000              1.000000   \n",
              "\n",
              "       dst_host_srv_rerror_rate       level  attack_flag  attack_map  \\\n",
              "count                522.000000  522.000000   522.000000  522.000000   \n",
              "mean                   0.347874   15.245211     0.379310    0.614943   \n",
              "std                    0.462116    5.549051     0.485681    0.994807   \n",
              "min                    0.000000    0.000000     0.000000    0.000000   \n",
              "25%                    0.000000   14.000000     0.000000    0.000000   \n",
              "50%                    0.000000   18.000000     0.000000    0.000000   \n",
              "75%                    1.000000   19.000000     1.000000    1.000000   \n",
              "max                    1.000000   21.000000     1.000000    4.000000   \n",
              "\n",
              "        predicted      actual  \n",
              "count  522.000000  522.000000  \n",
              "mean     0.620690    0.379310  \n",
              "std      0.485681    0.485681  \n",
              "min      0.000000    0.000000  \n",
              "25%      0.000000    0.000000  \n",
              "50%      1.000000    0.000000  \n",
              "75%      1.000000    1.000000  \n",
              "max      1.000000    1.000000  \n",
              "\n",
              "[8 rows x 40 columns]"
            ],
            "text/html": [
              "\n",
              "  <div id=\"df-49bfef54-2095-40d8-9d79-a66c114878a5\">\n",
              "    <div class=\"colab-df-container\">\n",
              "      <div>\n",
              "<style scoped>\n",
              "    .dataframe tbody tr th:only-of-type {\n",
              "        vertical-align: middle;\n",
              "    }\n",
              "\n",
              "    .dataframe tbody tr th {\n",
              "        vertical-align: top;\n",
              "    }\n",
              "\n",
              "    .dataframe thead th {\n",
              "        text-align: right;\n",
              "    }\n",
              "</style>\n",
              "<table border=\"1\" class=\"dataframe\">\n",
              "  <thead>\n",
              "    <tr style=\"text-align: right;\">\n",
              "      <th></th>\n",
              "      <th>duration</th>\n",
              "      <th>src_bytes</th>\n",
              "      <th>dst_bytes</th>\n",
              "      <th>land</th>\n",
              "      <th>urgent</th>\n",
              "      <th>hot</th>\n",
              "      <th>num_failed_logins</th>\n",
              "      <th>logged_in</th>\n",
              "      <th>num_compromised</th>\n",
              "      <th>root_shell</th>\n",
              "      <th>...</th>\n",
              "      <th>dst_host_srv_diff_host_rate</th>\n",
              "      <th>dst_host_serror_rate</th>\n",
              "      <th>dst_host_srv_serror_rate</th>\n",
              "      <th>dst_host_rerror_rate</th>\n",
              "      <th>dst_host_srv_rerror_rate</th>\n",
              "      <th>level</th>\n",
              "      <th>attack_flag</th>\n",
              "      <th>attack_map</th>\n",
              "      <th>predicted</th>\n",
              "      <th>actual</th>\n",
              "    </tr>\n",
              "  </thead>\n",
              "  <tbody>\n",
              "    <tr>\n",
              "      <th>count</th>\n",
              "      <td>522.000000</td>\n",
              "      <td>5.220000e+02</td>\n",
              "      <td>522.000000</td>\n",
              "      <td>522.000000</td>\n",
              "      <td>522.000000</td>\n",
              "      <td>522.000000</td>\n",
              "      <td>522.000000</td>\n",
              "      <td>522.000000</td>\n",
              "      <td>522.000000</td>\n",
              "      <td>522.000000</td>\n",
              "      <td>...</td>\n",
              "      <td>522.000000</td>\n",
              "      <td>522.000000</td>\n",
              "      <td>522.000000</td>\n",
              "      <td>522.000000</td>\n",
              "      <td>522.000000</td>\n",
              "      <td>522.000000</td>\n",
              "      <td>522.000000</td>\n",
              "      <td>522.000000</td>\n",
              "      <td>522.000000</td>\n",
              "      <td>522.000000</td>\n",
              "    </tr>\n",
              "    <tr>\n",
              "      <th>mean</th>\n",
              "      <td>60.867816</td>\n",
              "      <td>1.390667e+06</td>\n",
              "      <td>1555.722222</td>\n",
              "      <td>0.009579</td>\n",
              "      <td>0.005747</td>\n",
              "      <td>0.126437</td>\n",
              "      <td>0.011494</td>\n",
              "      <td>0.095785</td>\n",
              "      <td>0.080460</td>\n",
              "      <td>0.017241</td>\n",
              "      <td>...</td>\n",
              "      <td>0.050536</td>\n",
              "      <td>0.104176</td>\n",
              "      <td>0.033467</td>\n",
              "      <td>0.320594</td>\n",
              "      <td>0.347874</td>\n",
              "      <td>15.245211</td>\n",
              "      <td>0.379310</td>\n",
              "      <td>0.614943</td>\n",
              "      <td>0.620690</td>\n",
              "      <td>0.379310</td>\n",
              "    </tr>\n",
              "    <tr>\n",
              "      <th>std</th>\n",
              "      <td>676.021803</td>\n",
              "      <td>3.035481e+07</td>\n",
              "      <td>20951.670197</td>\n",
              "      <td>0.097494</td>\n",
              "      <td>0.097795</td>\n",
              "      <td>0.933134</td>\n",
              "      <td>0.223096</td>\n",
              "      <td>0.294579</td>\n",
              "      <td>0.815659</td>\n",
              "      <td>0.130294</td>\n",
              "      <td>...</td>\n",
              "      <td>0.165935</td>\n",
              "      <td>0.241223</td>\n",
              "      <td>0.147486</td>\n",
              "      <td>0.451600</td>\n",
              "      <td>0.462116</td>\n",
              "      <td>5.549051</td>\n",
              "      <td>0.485681</td>\n",
              "      <td>0.994807</td>\n",
              "      <td>0.485681</td>\n",
              "      <td>0.485681</td>\n",
              "    </tr>\n",
              "    <tr>\n",
              "      <th>min</th>\n",
              "      <td>0.000000</td>\n",
              "      <td>0.000000e+00</td>\n",
              "      <td>0.000000</td>\n",
              "      <td>0.000000</td>\n",
              "      <td>0.000000</td>\n",
              "      <td>0.000000</td>\n",
              "      <td>0.000000</td>\n",
              "      <td>0.000000</td>\n",
              "      <td>0.000000</td>\n",
              "      <td>0.000000</td>\n",
              "      <td>...</td>\n",
              "      <td>0.000000</td>\n",
              "      <td>0.000000</td>\n",
              "      <td>0.000000</td>\n",
              "      <td>0.000000</td>\n",
              "      <td>0.000000</td>\n",
              "      <td>0.000000</td>\n",
              "      <td>0.000000</td>\n",
              "      <td>0.000000</td>\n",
              "      <td>0.000000</td>\n",
              "      <td>0.000000</td>\n",
              "    </tr>\n",
              "    <tr>\n",
              "      <th>25%</th>\n",
              "      <td>0.000000</td>\n",
              "      <td>0.000000e+00</td>\n",
              "      <td>0.000000</td>\n",
              "      <td>0.000000</td>\n",
              "      <td>0.000000</td>\n",
              "      <td>0.000000</td>\n",
              "      <td>0.000000</td>\n",
              "      <td>0.000000</td>\n",
              "      <td>0.000000</td>\n",
              "      <td>0.000000</td>\n",
              "      <td>...</td>\n",
              "      <td>0.000000</td>\n",
              "      <td>0.000000</td>\n",
              "      <td>0.000000</td>\n",
              "      <td>0.000000</td>\n",
              "      <td>0.000000</td>\n",
              "      <td>14.000000</td>\n",
              "      <td>0.000000</td>\n",
              "      <td>0.000000</td>\n",
              "      <td>0.000000</td>\n",
              "      <td>0.000000</td>\n",
              "    </tr>\n",
              "    <tr>\n",
              "      <th>50%</th>\n",
              "      <td>0.000000</td>\n",
              "      <td>0.000000e+00</td>\n",
              "      <td>0.000000</td>\n",
              "      <td>0.000000</td>\n",
              "      <td>0.000000</td>\n",
              "      <td>0.000000</td>\n",
              "      <td>0.000000</td>\n",
              "      <td>0.000000</td>\n",
              "      <td>0.000000</td>\n",
              "      <td>0.000000</td>\n",
              "      <td>...</td>\n",
              "      <td>0.000000</td>\n",
              "      <td>0.000000</td>\n",
              "      <td>0.000000</td>\n",
              "      <td>0.000000</td>\n",
              "      <td>0.000000</td>\n",
              "      <td>18.000000</td>\n",
              "      <td>0.000000</td>\n",
              "      <td>0.000000</td>\n",
              "      <td>1.000000</td>\n",
              "      <td>0.000000</td>\n",
              "    </tr>\n",
              "    <tr>\n",
              "      <th>75%</th>\n",
              "      <td>0.000000</td>\n",
              "      <td>0.000000e+00</td>\n",
              "      <td>0.000000</td>\n",
              "      <td>0.000000</td>\n",
              "      <td>0.000000</td>\n",
              "      <td>0.000000</td>\n",
              "      <td>0.000000</td>\n",
              "      <td>0.000000</td>\n",
              "      <td>0.000000</td>\n",
              "      <td>0.000000</td>\n",
              "      <td>...</td>\n",
              "      <td>0.030000</td>\n",
              "      <td>0.050000</td>\n",
              "      <td>0.010000</td>\n",
              "      <td>1.000000</td>\n",
              "      <td>1.000000</td>\n",
              "      <td>19.000000</td>\n",
              "      <td>1.000000</td>\n",
              "      <td>1.000000</td>\n",
              "      <td>1.000000</td>\n",
              "      <td>1.000000</td>\n",
              "    </tr>\n",
              "    <tr>\n",
              "      <th>max</th>\n",
              "      <td>12743.000000</td>\n",
              "      <td>6.933756e+08</td>\n",
              "      <td>467968.000000</td>\n",
              "      <td>1.000000</td>\n",
              "      <td>2.000000</td>\n",
              "      <td>18.000000</td>\n",
              "      <td>5.000000</td>\n",
              "      <td>1.000000</td>\n",
              "      <td>16.000000</td>\n",
              "      <td>1.000000</td>\n",
              "      <td>...</td>\n",
              "      <td>1.000000</td>\n",
              "      <td>1.000000</td>\n",
              "      <td>1.000000</td>\n",
              "      <td>1.000000</td>\n",
              "      <td>1.000000</td>\n",
              "      <td>21.000000</td>\n",
              "      <td>1.000000</td>\n",
              "      <td>4.000000</td>\n",
              "      <td>1.000000</td>\n",
              "      <td>1.000000</td>\n",
              "    </tr>\n",
              "  </tbody>\n",
              "</table>\n",
              "<p>8 rows × 40 columns</p>\n",
              "</div>\n",
              "      <button class=\"colab-df-convert\" onclick=\"convertToInteractive('df-49bfef54-2095-40d8-9d79-a66c114878a5')\"\n",
              "              title=\"Convert this dataframe to an interactive table.\"\n",
              "              style=\"display:none;\">\n",
              "        \n",
              "  <svg xmlns=\"http://www.w3.org/2000/svg\" height=\"24px\"viewBox=\"0 0 24 24\"\n",
              "       width=\"24px\">\n",
              "    <path d=\"M0 0h24v24H0V0z\" fill=\"none\"/>\n",
              "    <path d=\"M18.56 5.44l.94 2.06.94-2.06 2.06-.94-2.06-.94-.94-2.06-.94 2.06-2.06.94zm-11 1L8.5 8.5l.94-2.06 2.06-.94-2.06-.94L8.5 2.5l-.94 2.06-2.06.94zm10 10l.94 2.06.94-2.06 2.06-.94-2.06-.94-.94-2.06-.94 2.06-2.06.94z\"/><path d=\"M17.41 7.96l-1.37-1.37c-.4-.4-.92-.59-1.43-.59-.52 0-1.04.2-1.43.59L10.3 9.45l-7.72 7.72c-.78.78-.78 2.05 0 2.83L4 21.41c.39.39.9.59 1.41.59.51 0 1.02-.2 1.41-.59l7.78-7.78 2.81-2.81c.8-.78.8-2.07 0-2.86zM5.41 20L4 18.59l7.72-7.72 1.47 1.35L5.41 20z\"/>\n",
              "  </svg>\n",
              "      </button>\n",
              "      \n",
              "  <style>\n",
              "    .colab-df-container {\n",
              "      display:flex;\n",
              "      flex-wrap:wrap;\n",
              "      gap: 12px;\n",
              "    }\n",
              "\n",
              "    .colab-df-convert {\n",
              "      background-color: #E8F0FE;\n",
              "      border: none;\n",
              "      border-radius: 50%;\n",
              "      cursor: pointer;\n",
              "      display: none;\n",
              "      fill: #1967D2;\n",
              "      height: 32px;\n",
              "      padding: 0 0 0 0;\n",
              "      width: 32px;\n",
              "    }\n",
              "\n",
              "    .colab-df-convert:hover {\n",
              "      background-color: #E2EBFA;\n",
              "      box-shadow: 0px 1px 2px rgba(60, 64, 67, 0.3), 0px 1px 3px 1px rgba(60, 64, 67, 0.15);\n",
              "      fill: #174EA6;\n",
              "    }\n",
              "\n",
              "    [theme=dark] .colab-df-convert {\n",
              "      background-color: #3B4455;\n",
              "      fill: #D2E3FC;\n",
              "    }\n",
              "\n",
              "    [theme=dark] .colab-df-convert:hover {\n",
              "      background-color: #434B5C;\n",
              "      box-shadow: 0px 1px 3px 1px rgba(0, 0, 0, 0.15);\n",
              "      filter: drop-shadow(0px 1px 2px rgba(0, 0, 0, 0.3));\n",
              "      fill: #FFFFFF;\n",
              "    }\n",
              "  </style>\n",
              "\n",
              "      <script>\n",
              "        const buttonEl =\n",
              "          document.querySelector('#df-49bfef54-2095-40d8-9d79-a66c114878a5 button.colab-df-convert');\n",
              "        buttonEl.style.display =\n",
              "          google.colab.kernel.accessAllowed ? 'block' : 'none';\n",
              "\n",
              "        async function convertToInteractive(key) {\n",
              "          const element = document.querySelector('#df-49bfef54-2095-40d8-9d79-a66c114878a5');\n",
              "          const dataTable =\n",
              "            await google.colab.kernel.invokeFunction('convertToInteractive',\n",
              "                                                     [key], {});\n",
              "          if (!dataTable) return;\n",
              "\n",
              "          const docLinkHtml = 'Like what you see? Visit the ' +\n",
              "            '<a target=\"_blank\" href=https://colab.research.google.com/notebooks/data_table.ipynb>data table notebook</a>'\n",
              "            + ' to learn more about interactive tables.';\n",
              "          element.innerHTML = '';\n",
              "          dataTable['output_type'] = 'display_data';\n",
              "          await google.colab.output.renderOutput(dataTable, element);\n",
              "          const docLink = document.createElement('div');\n",
              "          docLink.innerHTML = docLinkHtml;\n",
              "          element.appendChild(docLink);\n",
              "        }\n",
              "      </script>\n",
              "    </div>\n",
              "  </div>\n",
              "  "
            ]
          },
          "metadata": {},
          "execution_count": 25
        }
      ],
      "source": [
        "# data minus the rows with no variance\n",
        "binary_prediction_data['non_zeros'].describe()"
      ]
    },
    {
      "cell_type": "code",
      "execution_count": 26,
      "metadata": {
        "papermill": {
          "duration": 0.049736,
          "end_time": "2020-08-28T13:26:38.316351",
          "exception": false,
          "start_time": "2020-08-28T13:26:38.266615",
          "status": "completed"
        },
        "tags": [],
        "colab": {
          "base_uri": "https://localhost:8080/"
        },
        "id": "TB7EeGWiB4wX",
        "outputId": "6391969c-1ea5-4070-d881-c580899548e8"
      },
      "outputs": [
        {
          "output_type": "stream",
          "name": "stderr",
          "text": [
            "/usr/local/lib/python3.7/dist-packages/ipykernel_launcher.py:2: FutureWarning: Dropping of nuisance columns in DataFrame reductions (with 'numeric_only=None') is deprecated; in a future version this will raise TypeError.  Select only valid columns before calling the reduction.\n",
            "  \n"
          ]
        },
        {
          "output_type": "execute_result",
          "data": {
            "text/plain": [
              "duration                           18.588171\n",
              "src_bytes                      818973.706555\n",
              "dst_bytes                         610.116716\n",
              "land                                0.123454\n",
              "urgent                              0.000000\n",
              "hot                                 0.254062\n",
              "num_failed_logins                   0.000000\n",
              "logged_in                           0.164590\n",
              "num_compromised                     0.055556\n",
              "root_shell                          0.078446\n",
              "su_attempted                        0.000000\n",
              "num_root                            0.502906\n",
              "num_file_creations                  0.228894\n",
              "num_shells                          0.111111\n",
              "num_access_files                    0.000000\n",
              "is_guest_login                      0.000000\n",
              "count                               4.516986\n",
              "srv_count                           4.492737\n",
              "serror_rate                         0.306888\n",
              "srv_serror_rate                     0.293707\n",
              "rerror_rate                         0.418520\n",
              "srv_rerror_rate                     0.411093\n",
              "same_srv_rate                       0.102729\n",
              "diff_srv_rate                       0.052317\n",
              "srv_diff_host_rate                  0.279680\n",
              "dst_host_count                     92.778724\n",
              "dst_host_srv_count                107.489248\n",
              "dst_host_same_srv_rate              0.370734\n",
              "dst_host_diff_srv_rate              0.118641\n",
              "dst_host_same_src_port_rate         0.321480\n",
              "dst_host_srv_diff_host_rate         0.113027\n",
              "dst_host_serror_rate                0.278250\n",
              "dst_host_srv_serror_rate            0.150805\n",
              "dst_host_rerror_rate                0.294775\n",
              "dst_host_srv_rerror_rate            0.361788\n",
              "level                               3.751675\n",
              "attack_flag                         0.000000\n",
              "attack_map                          0.000000\n",
              "predicted                           0.000000\n",
              "actual                              0.000000\n",
              "dtype: float64"
            ]
          },
          "metadata": {},
          "execution_count": 26
        }
      ],
      "source": [
        "# see the standard deviation of the false positives\n",
        "binary_prediction_data['false_positives'].std()"
      ]
    },
    {
      "cell_type": "markdown",
      "metadata": {
        "papermill": {
          "duration": 0.02554,
          "end_time": "2020-08-28T13:26:38.367324",
          "exception": false,
          "start_time": "2020-08-28T13:26:38.341784",
          "status": "completed"
        },
        "tags": [],
        "id": "0Hjkfm2MB4wX"
      },
      "source": [
        "Now we should see some variance across the features. Here, though, there is need to look into the false positives and false negatives separately and see what to be noticed."
      ]
    },
    {
      "cell_type": "code",
      "execution_count": 27,
      "metadata": {
        "papermill": {
          "duration": 0.049509,
          "end_time": "2020-08-28T13:26:38.441930",
          "exception": false,
          "start_time": "2020-08-28T13:26:38.392421",
          "status": "completed"
        },
        "tags": [],
        "colab": {
          "base_uri": "https://localhost:8080/"
        },
        "id": "QfwARysDB4wY",
        "outputId": "8de00f79-8da0-4163-e1ef-63e680c41872"
      },
      "outputs": [
        {
          "output_type": "stream",
          "name": "stderr",
          "text": [
            "/usr/local/lib/python3.7/dist-packages/ipykernel_launcher.py:2: FutureWarning: Dropping of nuisance columns in DataFrame reductions (with 'numeric_only=None') is deprecated; in a future version this will raise TypeError.  Select only valid columns before calling the reduction.\n",
            "  \n"
          ]
        },
        {
          "output_type": "execute_result",
          "data": {
            "text/plain": [
              "duration                       1.092493e+03\n",
              "src_bytes                      4.927439e+07\n",
              "dst_bytes                      3.392331e+04\n",
              "land                           0.000000e+00\n",
              "urgent                         1.585874e-01\n",
              "hot                            1.466061e+00\n",
              "num_failed_logins              3.620176e-01\n",
              "logged_in                      4.062338e-01\n",
              "num_compromised                1.314716e+00\n",
              "root_shell                     1.851399e-01\n",
              "su_attempted                   7.106691e-02\n",
              "num_root                       1.337135e+00\n",
              "num_file_creations             2.028460e+00\n",
              "num_shells                     1.992140e-01\n",
              "num_access_files               1.718544e-01\n",
              "is_guest_login                 1.410474e-01\n",
              "count                          1.265650e+02\n",
              "srv_count                      6.328826e+00\n",
              "serror_rate                    1.819521e-01\n",
              "srv_serror_rate                1.829463e-01\n",
              "rerror_rate                    4.686266e-01\n",
              "srv_rerror_rate                4.737453e-01\n",
              "same_srv_rate                  4.492005e-01\n",
              "diff_srv_rate                  2.577776e-01\n",
              "srv_diff_host_rate             1.180624e-01\n",
              "dst_host_count                 9.855786e+01\n",
              "dst_host_srv_count             5.137480e+01\n",
              "dst_host_same_srv_rate         3.197357e-01\n",
              "dst_host_diff_srv_rate         3.009675e-01\n",
              "dst_host_same_src_port_rate    2.937112e-01\n",
              "dst_host_srv_diff_host_rate    2.271927e-01\n",
              "dst_host_serror_rate           1.297507e-01\n",
              "dst_host_srv_serror_rate       1.419305e-01\n",
              "dst_host_rerror_rate           4.594905e-01\n",
              "dst_host_srv_rerror_rate       4.712821e-01\n",
              "level                          7.348909e+00\n",
              "attack_flag                    0.000000e+00\n",
              "attack_map                     9.887461e-01\n",
              "predicted                      0.000000e+00\n",
              "actual                         0.000000e+00\n",
              "dtype: float64"
            ]
          },
          "metadata": {},
          "execution_count": 27
        }
      ],
      "source": [
        "# see the standard deviation of the false negatives\n",
        "binary_prediction_data['false_negatives'].std()"
      ]
    },
    {
      "cell_type": "markdown",
      "metadata": {
        "papermill": {
          "duration": 0.024873,
          "end_time": "2020-08-28T13:26:38.491856",
          "exception": false,
          "start_time": "2020-08-28T13:26:38.466983",
          "status": "completed"
        },
        "tags": [],
        "id": "eSL10AxAB4wY"
      },
      "source": [
        "Notice in the false positives all of columns with no variance? In the false negatives, though, all the columns have some degree of variance. That suggests to us that there may be some good information in those columns because there is a difference bewteen the observations in one classification vs the other.\n",
        "\n",
        "Let's also take a look at the false-negatives and see what types of attacks are missing."
      ]
    },
    {
      "cell_type": "code",
      "execution_count": 28,
      "metadata": {
        "papermill": {
          "duration": 0.279087,
          "end_time": "2020-08-28T13:26:38.796312",
          "exception": false,
          "start_time": "2020-08-28T13:26:38.517225",
          "status": "completed"
        },
        "tags": [],
        "id": "DMdY7vFtB4wY",
        "outputId": "e20d95d1-742b-45f7-deae-b24d33fa5c1e",
        "colab": {
          "base_uri": "https://localhost:8080/",
          "height": 350
        }
      },
      "outputs": [
        {
          "output_type": "execute_result",
          "data": {
            "text/plain": [
              "<matplotlib.axes._subplots.AxesSubplot at 0x7f19e724c490>"
            ]
          },
          "metadata": {},
          "execution_count": 28
        },
        {
          "output_type": "display_data",
          "data": {
            "text/plain": [
              "<Figure size 432x288 with 1 Axes>"
            ],
            "image/png": "[encoded data removed]"
          },
          "metadata": {
            "needs_background": "light"
          }
        }
      ],
      "source": [
        "# distribution of false negatives--which attacks got missed?\n",
        "binary_prediction_data['false_negatives'].attack.value_counts().plot.bar()"
      ]
    },
    {
      "cell_type": "markdown",
      "metadata": {
        "papermill": {
          "duration": 0.025462,
          "end_time": "2020-08-28T13:26:38.847671",
          "exception": false,
          "start_time": "2020-08-28T13:26:38.822209",
          "status": "completed"
        },
        "tags": [],
        "id": "C8aNqpjUB4wZ"
      },
      "source": [
        "Neptune and Satan are the biggest misses. Let's see if that can be corrected.\n",
        "\n",
        "The last data set I was working with is to_fit. So I'll work with that. Since the rest of the values are numeric features, I can add them easily."
      ]
    },
    {
      "cell_type": "code",
      "execution_count": 29,
      "metadata": {
        "papermill": {
          "duration": 0.051272,
          "end_time": "2020-08-28T13:26:38.927772",
          "exception": false,
          "start_time": "2020-08-28T13:26:38.876500",
          "status": "completed"
        },
        "tags": [],
        "colab": {
          "base_uri": "https://localhost:8080/"
        },
        "id": "mXSjvROlB4wZ",
        "outputId": "5d6607ec-f89c-4c01-8b0f-328ef26860b1"
      },
      "outputs": [
        {
          "output_type": "execute_result",
          "data": {
            "text/plain": [
              "['urgent',\n",
              " 'num_failed_logins',\n",
              " 'su_attempted',\n",
              " 'num_access_files',\n",
              " 'is_guest_login']"
            ]
          },
          "metadata": {},
          "execution_count": 29
        }
      ],
      "source": [
        "# I'll need to pull these from the data set\n",
        "outcomes = ['attack_flag','attack_map', 'actual']\n",
        "\n",
        "# get the new features I'm interested in and drop the outcomes\n",
        "new_features = (binary_prediction_data['false_positives']==0).all(axis=0)\n",
        "feature_cols = binary_prediction_data['false_positives'].loc[:,new_features]\n",
        "feature_cols = feature_cols.drop(outcomes,axis=1)\n",
        "\n",
        "# Let's get these in a list and take a look\n",
        "new_feature_columns = list(feature_cols.columns)\n",
        "new_feature_columns"
      ]
    },
    {
      "cell_type": "code",
      "execution_count": 30,
      "metadata": {
        "papermill": {
          "duration": 0.098914,
          "end_time": "2020-08-28T13:26:39.060875",
          "exception": false,
          "start_time": "2020-08-28T13:26:38.961961",
          "status": "completed"
        },
        "tags": [],
        "id": "k5_IoowoB4wa"
      },
      "outputs": [],
      "source": [
        "# add the new freatures\n",
        "to_fit_new_features = to_fit.join(df[new_feature_columns])\n",
        "\n",
        "# build the training sets\n",
        "new_feature_train_X, new_feature_val_X, new_feature_train_y, new_feature_val_y = train_test_split(to_fit_new_features, binary_y)"
      ]
    },
    {
      "cell_type": "markdown",
      "metadata": {
        "papermill": {
          "duration": 0.026049,
          "end_time": "2020-08-28T13:26:39.112840",
          "exception": false,
          "start_time": "2020-08-28T13:26:39.086791",
          "status": "completed"
        },
        "tags": [],
        "id": "L6E9rQiOB4wa"
      },
      "source": [
        "\n",
        "\n",
        "```\n",
        "# This is formatted as code\n",
        "```\n",
        "\n",
        "Now, let's see the performance."
      ]
    },
    {
      "cell_type": "code",
      "execution_count": 31,
      "metadata": {
        "papermill": {
          "duration": 11.470567,
          "end_time": "2020-08-28T13:26:50.611159",
          "exception": false,
          "start_time": "2020-08-28T13:26:39.140592",
          "status": "completed"
        },
        "tags": [],
        "colab": {
          "base_uri": "https://localhost:8080/"
        },
        "id": "seCYE-LcB4wa",
        "outputId": "da51dbb2-0af9-47d9-e7a8-a6a8421b4ad8"
      },
      "outputs": [
        {
          "output_type": "execute_result",
          "data": {
            "text/plain": [
              "0.9931413329946337"
            ]
          },
          "metadata": {},
          "execution_count": 31
        }
      ],
      "source": [
        "# model for the binary classification\n",
        "new_feature_model = RandomForestClassifier()\n",
        "new_feature_model.fit(new_feature_train_X, new_feature_train_y)\n",
        "new_feature_predictions = new_feature_model.predict(new_feature_val_X)\n",
        "\n",
        "# get the score for the model\n",
        "new_feature_score = accuracy_score(new_feature_predictions,new_feature_val_y)\n",
        "\n",
        "new_feature_score"
      ]
    },
    {
      "cell_type": "markdown",
      "metadata": {
        "papermill": {
          "duration": 0.026216,
          "end_time": "2020-08-28T13:26:50.664553",
          "exception": false,
          "start_time": "2020-08-28T13:26:50.638337",
          "status": "completed"
        },
        "tags": [],
        "id": "bmd3g4TIB4wb"
      },
      "source": [
        "I'll run another confustion matrix to see the missed predictions..."
      ]
    },
    {
      "cell_type": "code",
      "execution_count": 32,
      "metadata": {
        "papermill": {
          "duration": 0.442342,
          "end_time": "2020-08-28T13:26:51.133095",
          "exception": false,
          "start_time": "2020-08-28T13:26:50.690753",
          "status": "completed"
        },
        "tags": [],
        "colab": {
          "base_uri": "https://localhost:8080/",
          "height": 282
        },
        "id": "uoknhaJaB4wb",
        "outputId": "01fa1e6e-0a6c-48ff-a466-39a70172ab63"
      },
      "outputs": [
        {
          "output_type": "execute_result",
          "data": {
            "text/plain": [
              "<matplotlib.axes._subplots.AxesSubplot at 0x7f19e276f190>"
            ]
          },
          "metadata": {},
          "execution_count": 32
        },
        {
          "output_type": "display_data",
          "data": {
            "text/plain": [
              "<Figure size 432x288 with 2 Axes>"
            ],
            "image/png": "[encoded data removed]"
          },
          "metadata": {
            "needs_background": "light"
          }
        }
      ],
      "source": [
        "# capture the prediction data\n",
        "new_prediction_data = add_predictions(df,\n",
        "                                      new_feature_predictions,\n",
        "                                      new_feature_val_y)\n",
        "\n",
        "# create a heatmap of the confusion matrix\n",
        "sns.heatmap(data=new_prediction_data['confusion_matrix'],\n",
        "            xticklabels = ['Predicted Normal','Predicted Attack'],\n",
        "            yticklabels = ['Actual Normal','Actual Attack'],\n",
        "            cmap=\"YlGnBu\",\n",
        "            fmt='d',\n",
        "            annot=True)"
      ]
    },
    {
      "cell_type": "markdown",
      "metadata": {
        "papermill": {
          "duration": 0.026093,
          "end_time": "2020-08-28T13:26:51.185784",
          "exception": false,
          "start_time": "2020-08-28T13:26:51.159691",
          "status": "completed"
        },
        "tags": [],
        "id": "JW0PuqtMB4wc"
      },
      "source": [
        "That's looking better! Still few are missing. What about specific attacks?"
      ]
    },
    {
      "cell_type": "code",
      "execution_count": 33,
      "metadata": {
        "papermill": {
          "duration": 0.265168,
          "end_time": "2020-08-28T13:26:51.477659",
          "exception": false,
          "start_time": "2020-08-28T13:26:51.212491",
          "status": "completed"
        },
        "tags": [],
        "id": "JO5qgBmWB4wc",
        "outputId": "210677a6-2768-47ab-e4f3-d3f92530eb78",
        "colab": {
          "base_uri": "https://localhost:8080/",
          "height": 350
        }
      },
      "outputs": [
        {
          "output_type": "execute_result",
          "data": {
            "text/plain": [
              "<matplotlib.axes._subplots.AxesSubplot at 0x7f19e2706e10>"
            ]
          },
          "metadata": {},
          "execution_count": 33
        },
        {
          "output_type": "display_data",
          "data": {
            "text/plain": [
              "<Figure size 432x288 with 1 Axes>"
            ],
            "image/png": "[encoded data removed]"
          },
          "metadata": {
            "needs_background": "light"
          }
        }
      ],
      "source": [
        "# distribuition of the false negatives--which attacks got missed?\n",
        "new_prediction_data['false_negatives'].attack.value_counts().plot.bar()"
      ]
    },
    {
      "cell_type": "markdown",
      "metadata": {
        "papermill": {
          "duration": 0.026918,
          "end_time": "2020-08-28T13:26:51.531774",
          "exception": false,
          "start_time": "2020-08-28T13:26:51.504856",
          "status": "completed"
        },
        "tags": [],
        "id": "Qexim0JjB4wc"
      },
      "source": [
        "Overall, things are looking better. Just missing a few isolated instances of most specific attacks. Neptune is still the hardest to find."
      ]
    },
    {
      "cell_type": "markdown",
      "metadata": {
        "papermill": {
          "duration": 0.026614,
          "end_time": "2020-08-28T13:26:51.585169",
          "exception": false,
          "start_time": "2020-08-28T13:26:51.558555",
          "status": "completed"
        },
        "tags": [],
        "id": "S7KC_g0LB4wd"
      },
      "source": [
        "Now it's time for the real thing. Let's run the model against some unseen data. We can think of this as new network traffic.\n",
        "\n",
        "Fittinmg the model on full dataset and then run it against the test set to see how it worked. "
      ]
    },
    {
      "cell_type": "code",
      "execution_count": 34,
      "metadata": {
        "papermill": {
          "duration": 15.71893,
          "end_time": "2020-08-28T13:27:07.330847",
          "exception": false,
          "start_time": "2020-08-28T13:26:51.611917",
          "status": "completed"
        },
        "tags": [],
        "colab": {
          "base_uri": "https://localhost:8080/"
        },
        "id": "4KHtVqG8B4wd",
        "outputId": "cbfa1599-9331-43ec-b8e0-9affd3daae2e"
      },
      "outputs": [
        {
          "output_type": "execute_result",
          "data": {
            "text/plain": [
              "0.8035753892560884"
            ]
          },
          "metadata": {},
          "execution_count": 34
        }
      ],
      "source": [
        "# model for the binary classification\n",
        "full_model = RandomForestClassifier(random_state=1)\n",
        "full_model.fit(to_fit, binary_y)\n",
        "full_predictions = full_model.predict(test_set)\n",
        "\n",
        "# get the score\n",
        "full_score = accuracy_score(full_predictions,test_binary_y)\n",
        "full_score"
      ]
    },
    {
      "cell_type": "markdown",
      "metadata": {
        "papermill": {
          "duration": 0.027538,
          "end_time": "2020-08-28T13:27:07.385690",
          "exception": false,
          "start_time": "2020-08-28T13:27:07.358152",
          "status": "completed"
        },
        "tags": [],
        "id": "qGHUkAKKB4wd"
      },
      "source": [
        "Let's look at the confusion matrix."
      ]
    },
    {
      "cell_type": "code",
      "execution_count": 35,
      "metadata": {
        "papermill": {
          "duration": 0.332864,
          "end_time": "2020-08-28T13:27:07.749018",
          "exception": false,
          "start_time": "2020-08-28T13:27:07.416154",
          "status": "completed"
        },
        "tags": [],
        "colab": {
          "base_uri": "https://localhost:8080/",
          "height": 282
        },
        "id": "Iz9DXc5gB4we",
        "outputId": "b84e813d-2286-4ab6-a2dc-fd2e48d2b3e6"
      },
      "outputs": [
        {
          "output_type": "execute_result",
          "data": {
            "text/plain": [
              "<matplotlib.axes._subplots.AxesSubplot at 0x7f19e2611f90>"
            ]
          },
          "metadata": {},
          "execution_count": 35
        },
        {
          "output_type": "display_data",
          "data": {
            "text/plain": [
              "<Figure size 432x288 with 2 Axes>"
            ],
            "image/png": "[encoded data removed]"
          },
          "metadata": {
            "needs_background": "light"
          }
        }
      ],
      "source": [
        "# capture the prediction data\n",
        "full_prediction_data = add_predictions(test_df, full_predictions, test_binary_y)\n",
        "\n",
        "# create a heatmap of the confusion matrix\n",
        "sns.heatmap(data=full_prediction_data['confusion_matrix'],\n",
        "            xticklabels = ['Predicted Normal','Predicted Attack'],\n",
        "            yticklabels = ['Actual Normal','Actual Attack'],\n",
        "            cmap=\"YlGnBu\",\n",
        "            fmt='d',\n",
        "            annot=True)"
      ]
    },
    {
      "cell_type": "code",
      "execution_count": 36,
      "metadata": {
        "execution": {
          "iopub.execute_input": "2020-08-28T13:27:07.874267Z",
          "iopub.status.busy": "2020-08-28T13:27:07.873503Z",
          "iopub.status.idle": "2020-08-28T13:27:07.982390Z",
          "shell.execute_reply": "2020-08-28T13:27:07.983135Z"
        },
        "papermill": {
          "duration": 0.147655,
          "end_time": "2020-08-28T13:27:07.983329",
          "exception": false,
          "start_time": "2020-08-28T13:27:07.835674",
          "status": "completed"
        },
        "tags": [],
        "colab": {
          "base_uri": "https://localhost:8080/"
        },
        "id": "8rgvtYGGB4we",
        "outputId": "344943e3-c65d-49c6-a6a0-edfc1a4e1fd1"
      },
      "outputs": [
        {
          "output_type": "stream",
          "name": "stdout",
          "text": [
            "Index(['protocol_type_icmp', 'protocol_type_tcp', 'protocol_type_udp',\n",
            "       'flag_OTH', 'flag_REJ', 'flag_RSTO', 'flag_RSTOS0', 'flag_RSTR',\n",
            "       'flag_S0', 'flag_S1', 'flag_S2', 'flag_S3', 'flag_SF', 'flag_SH',\n",
            "       'service', 'duration', 'src_bytes', 'dst_bytes'],\n",
            "      dtype='object')\n",
            "Index(['protocol_type_icmp', 'protocol_type_tcp', 'protocol_type_udp',\n",
            "       'flag_OTH', 'flag_REJ', 'flag_RSTO', 'flag_RSTOS0', 'flag_RSTR',\n",
            "       'flag_S0', 'flag_S1', 'flag_S2', 'flag_S3', 'flag_SF', 'flag_SH',\n",
            "       'service', 'duration', 'src_bytes', 'dst_bytes'],\n",
            "      dtype='object')\n"
          ]
        }
      ],
      "source": [
        "# create the label encoder\n",
        "label_encoder = LabelEncoder()\n",
        "\n",
        "# get the intial set of encoded features and encode them\n",
        "features_to_encode = ['protocol_type', 'flag']\n",
        "dummy_encoded = pd.get_dummies(df[features_to_encode])\n",
        "test_dummy_encoded = pd.get_dummies(test_df[features_to_encode])\n",
        "\n",
        "# now I'll label encode the service column\n",
        "label_encoder.fit(df.service)\n",
        "dummy_encoded['service'] = label_encoder.transform(df.service)\n",
        "test_dummy_encoded['service'] = label_encoder.transform(test_df.service)\n",
        "\n",
        "# get numeric features, I won't worry about encoding these at this point\n",
        "numeric_features = ['duration', 'src_bytes', 'dst_bytes']\n",
        "\n",
        "# model to fit/test\n",
        "to_fit = dummy_encoded.join(df[numeric_features])\n",
        "test_set = test_dummy_encoded.join(test_df[numeric_features])\n",
        "\n",
        "# make sure the columns match\n",
        "print(to_fit.columns)\n",
        "print(test_set.columns)"
      ]
    },
    {
      "cell_type": "code",
      "execution_count": 37,
      "metadata": {
        "execution": {
          "iopub.execute_input": "2020-08-28T13:27:08.051442Z",
          "iopub.status.busy": "2020-08-28T13:27:08.049786Z",
          "iopub.status.idle": "2020-08-28T13:27:17.977179Z",
          "shell.execute_reply": "2020-08-28T13:27:17.976559Z"
        },
        "papermill": {
          "duration": 9.965558,
          "end_time": "2020-08-28T13:27:17.977318",
          "exception": false,
          "start_time": "2020-08-28T13:27:08.011760",
          "status": "completed"
        },
        "tags": [],
        "colab": {
          "base_uri": "https://localhost:8080/"
        },
        "id": "_JpovTHhB4we",
        "outputId": "49eea7a8-d775-4473-9fc1-4f4e2cfddd19"
      },
      "outputs": [
        {
          "output_type": "execute_result",
          "data": {
            "text/plain": [
              "0.7955462893137559"
            ]
          },
          "metadata": {},
          "execution_count": 37
        }
      ],
      "source": [
        "# model for the binary classification\n",
        "full_model = RandomForestClassifier(random_state=1)\n",
        "full_model.fit(to_fit, binary_y)\n",
        "full_predictions = full_model.predict(test_set)\n",
        "\n",
        "# get the score\n",
        "full_score = accuracy_score(full_predictions,test_binary_y)\n",
        "full_score"
      ]
    },
    {
      "cell_type": "markdown",
      "metadata": {
        "papermill": {
          "duration": 0.033249,
          "end_time": "2020-08-28T13:27:18.044560",
          "exception": false,
          "start_time": "2020-08-28T13:27:18.011311",
          "status": "completed"
        },
        "tags": [],
        "id": "1k1QCmfoB4wf"
      },
      "source": [
        "Let's try it with the additional features."
      ]
    },
    {
      "cell_type": "code",
      "execution_count": 38,
      "metadata": {
        "execution": {
          "iopub.execute_input": "2020-08-28T13:27:18.118069Z",
          "iopub.status.busy": "2020-08-28T13:27:18.116932Z",
          "iopub.status.idle": "2020-08-28T13:27:18.125301Z",
          "shell.execute_reply": "2020-08-28T13:27:18.124612Z"
        },
        "papermill": {
          "duration": 0.049256,
          "end_time": "2020-08-28T13:27:18.125424",
          "exception": false,
          "start_time": "2020-08-28T13:27:18.076168",
          "status": "completed"
        },
        "tags": [],
        "id": "0As6J4EbB4wf"
      },
      "outputs": [],
      "source": [
        "# add new features\n",
        "to_fit_new_features = to_fit.join(df[new_feature_columns])\n",
        "test_set_new_features = test_set.join(test_df[new_feature_columns])"
      ]
    },
    {
      "cell_type": "code",
      "execution_count": 39,
      "metadata": {
        "execution": {
          "iopub.execute_input": "2020-08-28T13:27:18.193464Z",
          "iopub.status.busy": "2020-08-28T13:27:18.191771Z",
          "iopub.status.idle": "2020-08-28T13:27:28.169459Z",
          "shell.execute_reply": "2020-08-28T13:27:28.168668Z"
        },
        "papermill": {
          "duration": 10.015064,
          "end_time": "2020-08-28T13:27:28.169587",
          "exception": false,
          "start_time": "2020-08-28T13:27:18.154523",
          "status": "completed"
        },
        "tags": [],
        "colab": {
          "base_uri": "https://localhost:8080/"
        },
        "id": "1Xpv6cY1B4wf",
        "outputId": "8cc8f875-0001-4a33-b27b-834040aedec2"
      },
      "outputs": [
        {
          "output_type": "execute_result",
          "data": {
            "text/plain": [
              "0.7955019296455662"
            ]
          },
          "metadata": {},
          "execution_count": 39
        }
      ],
      "source": [
        "# run the model\n",
        "full_model.fit(to_fit_new_features,binary_y)\n",
        "full_predictions = full_model.predict(test_set_new_features)\n",
        "\n",
        "# get the score\n",
        "full_score = accuracy_score(full_predictions,test_binary_y)\n",
        "full_score"
      ]
    }
  ],
  "metadata": {
    "kernelspec": {
      "display_name": "Python 3 (ipykernel)",
      "language": "python",
      "name": "python3"
    },
    "language_info": {
      "codemirror_mode": {
        "name": "ipython",
        "version": 3
      },
      "file_extension": ".py",
      "mimetype": "text/x-python",
      "name": "python",
      "nbconvert_exporter": "python",
      "pygments_lexer": "ipython3",
      "version": "3.9.7"
    },
    "papermill": {
      "duration": 193.680156,
      "end_time": "2020-08-28T13:28:04.662695",
      "environment_variables": {},
      "exception": null,
      "input_path": "__notebook__.ipynb",
      "output_path": "__notebook__.ipynb",
      "parameters": {},
      "start_time": "2020-08-28T13:24:50.982539",
      "version": "2.1.0"
    },
    "colab": {
      "name": "nsl-kdd-explorations.ipynb",
      "provenance": [],
      "collapsed_sections": [],
      "toc_visible": true,
      "include_colab_link": true
    }
  },
  "nbformat": 4,
  "nbformat_minor": 0
}