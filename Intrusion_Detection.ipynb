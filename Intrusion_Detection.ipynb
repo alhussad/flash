{
  "nbformat": 4,
  "nbformat_minor": 0,
  "metadata": {
    "colab": {
      "name": "Intrusion_Detection.ipynb",
      "provenance": [],
      "authorship_tag": "ABX9TyN1XyEuTG4C9kcxtRYBYCiL",
      "include_colab_link": true
    },
    "kernelspec": {
      "name": "python3",
      "display_name": "Python 3"
    },
    "language_info": {
      "name": "python"
    }
  },
  "cells": [
    {
      "cell_type": "markdown",
      "metadata": {
        "id": "view-in-github",
        "colab_type": "text"
      },
      "source": [
        "<a href=\"https://colab.research.google.com/github/alhussad/flash/blob/master/Intrusion_Detection.ipynb\" target=\"_parent\"><img src=\"https://colab.research.google.com/assets/colab-badge.svg\" alt=\"Open In Colab\"/></a>"
      ]
    },
    {
      "cell_type": "code",
      "execution_count": 1,
      "metadata": {
        "id": "iMXqYvbfEvLz",
        "colab": {
          "base_uri": "https://localhost:8080/"
        },
        "outputId": "5cb5d378-f42c-4f7c-af05-625e3f526b17"
      },
      "outputs": [
        {
          "output_type": "stream",
          "name": "stdout",
          "text": [
            "Mounted at /content/gdrive/\n"
          ]
        }
      ],
      "source": [
        "# Mount google drive\n",
        "from google.colab import drive\n",
        "drive.mount('/content/gdrive/')"
      ]
    },
    {
      "cell_type": "code",
      "source": [
        "# Import the necessary libraries\n",
        "from IPython.core.interactiveshell import InteractiveShell\n",
        "InteractiveShell.ast_node_interactivity = \"all\"\n",
        "\n",
        "import numpy as np \n",
        "import pandas as pd \n",
        "import matplotlib\n",
        "import seaborn as sns\n",
        "import sklearn\n",
        "import matplotlib.pyplot as plt\n",
        "import time\n",
        "import sklearn.metrics as m\n",
        "import imblearn\n",
        "\n",
        "# Ignore warnings\n",
        "import warnings\n",
        "warnings.filterwarnings('ignore')\n",
        "\n",
        "# Model imports\n",
        "from sklearn.ensemble import RandomForestClassifier\n",
        "from sklearn.neighbors import KNeighborsClassifier\n",
        "from sklearn.linear_model import LogisticRegression\n",
        "from sklearn.tree import DecisionTreeClassifier\n",
        "\n",
        "# processing imports\n",
        "from sklearn.preprocessing import LabelEncoder\n",
        "from sklearn.preprocessing import StandardScaler\n",
        "from sklearn.model_selection import RandomizedSearchCV\n",
        "\n",
        "from sklearn.feature_selection import SelectKBest, RFE\n",
        "from sklearn.feature_selection import f_classif\n",
        "\n",
        "\n",
        "from sklearn.model_selection import train_test_split\n",
        "from sklearn.model_selection import StratifiedKFold\n",
        "\n",
        "from sklearn.model_selection import cross_val_score\n",
        "from sklearn.metrics import mean_absolute_error\n",
        "from sklearn.metrics import accuracy_score\n",
        "from sklearn.metrics import confusion_matrix\n",
        "from sklearn.metrics import classification_report, f1_score, precision_score, recall_score, roc_auc_score "
      ],
      "metadata": {
        "id": "joqNzFycFC-Y"
      },
      "execution_count": 2,
      "outputs": []
    },
    {
      "cell_type": "code",
      "source": [
        "# Load and read the dataset\n",
        "dataset_path = '/content/gdrive/My Drive/Dissertation/Thursday-WorkingHours-Morning-WebAttacks.pcap_ISCX.csv'\n",
        "df = pd.read_csv(dataset_path, encoding = \"ISO-8859-1\", engine='python')"
      ],
      "metadata": {
        "id": "Ks9GZb_VFQIk"
      },
      "execution_count": 4,
      "outputs": []
    },
    {
      "cell_type": "code",
      "source": [
        "# Display the first five rows of the dataframe\n",
        "df.head()"
      ],
      "metadata": {
        "colab": {
          "base_uri": "https://localhost:8080/",
          "height": 421
        },
        "id": "jkBmEHGwF1yI",
        "outputId": "28b291c8-1d4b-4495-88aa-0d38054b5789"
      },
      "execution_count": 5,
      "outputs": [
        {
          "output_type": "execute_result",
          "data": {
            "text/plain": [
              "                                  Flow ID      Source IP   Source Port  \\\n",
              "0  192.168.10.3-192.168.10.50-389-33898-6  192.168.10.50       33898.0   \n",
              "1  192.168.10.3-192.168.10.50-389-33904-6  192.168.10.50       33904.0   \n",
              "2                   8.0.6.4-8.6.0.1-0-0-0        8.6.0.1           0.0   \n",
              "3  192.168.10.14-65.55.44.109-59135-443-6  192.168.10.14       59135.0   \n",
              "4  192.168.10.3-192.168.10.14-53-59555-17  192.168.10.14       59555.0   \n",
              "\n",
              "   Destination IP   Destination Port   Protocol      Timestamp  \\\n",
              "0    192.168.10.3              389.0        6.0  6/7/2017 8:59   \n",
              "1    192.168.10.3              389.0        6.0  6/7/2017 8:59   \n",
              "2         8.0.6.4                0.0        0.0  6/7/2017 8:59   \n",
              "3    65.55.44.109              443.0        6.0  6/7/2017 8:59   \n",
              "4    192.168.10.3               53.0       17.0  6/7/2017 8:59   \n",
              "\n",
              "    Flow Duration   Total Fwd Packets   Total Backward Packets  ...  \\\n",
              "0     113095465.0                48.0                     24.0  ...   \n",
              "1     113473706.0                68.0                     40.0  ...   \n",
              "2     119945515.0               150.0                      0.0  ...   \n",
              "3      60261928.0                 9.0                      7.0  ...   \n",
              "4           269.0                 2.0                      2.0  ...   \n",
              "\n",
              "    min_seg_size_forward  Active Mean    Active Std   Active Max   Active Min  \\\n",
              "0                   32.0   203985.500  5.758373e+05    1629110.0        379.0   \n",
              "1                   32.0   178326.875  5.034269e+05    1424245.0        325.0   \n",
              "2                    0.0  6909777.333  1.170000e+07   20400000.0          6.0   \n",
              "3                   20.0        0.000  0.000000e+00          0.0          0.0   \n",
              "4                   32.0        0.000  0.000000e+00          0.0          0.0   \n",
              "\n",
              "    Idle Mean      Idle Std    Idle Max   Idle Min   Label  \n",
              "0  13800000.0  4.277541e+06  16500000.0  6737603.0  BENIGN  \n",
              "1  13800000.0  4.229413e+06  16500000.0  6945512.0  BENIGN  \n",
              "2  24400000.0  2.430000e+07  60100000.0  5702188.0  BENIGN  \n",
              "3         0.0  0.000000e+00         0.0        0.0  BENIGN  \n",
              "4         0.0  0.000000e+00         0.0        0.0  BENIGN  \n",
              "\n",
              "[5 rows x 85 columns]"
            ],
            "text/html": [
              "\n",
              "  <div id=\"df-166c6691-aeef-45bd-93d7-21e0c4e99a69\">\n",
              "    <div class=\"colab-df-container\">\n",
              "      <div>\n",
              "<style scoped>\n",
              "    .dataframe tbody tr th:only-of-type {\n",
              "        vertical-align: middle;\n",
              "    }\n",
              "\n",
              "    .dataframe tbody tr th {\n",
              "        vertical-align: top;\n",
              "    }\n",
              "\n",
              "    .dataframe thead th {\n",
              "        text-align: right;\n",
              "    }\n",
              "</style>\n",
              "<table border=\"1\" class=\"dataframe\">\n",
              "  <thead>\n",
              "    <tr style=\"text-align: right;\">\n",
              "      <th></th>\n",
              "      <th>Flow ID</th>\n",
              "      <th>Source IP</th>\n",
              "      <th>Source Port</th>\n",
              "      <th>Destination IP</th>\n",
              "      <th>Destination Port</th>\n",
              "      <th>Protocol</th>\n",
              "      <th>Timestamp</th>\n",
              "      <th>Flow Duration</th>\n",
              "      <th>Total Fwd Packets</th>\n",
              "      <th>Total Backward Packets</th>\n",
              "      <th>...</th>\n",
              "      <th>min_seg_size_forward</th>\n",
              "      <th>Active Mean</th>\n",
              "      <th>Active Std</th>\n",
              "      <th>Active Max</th>\n",
              "      <th>Active Min</th>\n",
              "      <th>Idle Mean</th>\n",
              "      <th>Idle Std</th>\n",
              "      <th>Idle Max</th>\n",
              "      <th>Idle Min</th>\n",
              "      <th>Label</th>\n",
              "    </tr>\n",
              "  </thead>\n",
              "  <tbody>\n",
              "    <tr>\n",
              "      <th>0</th>\n",
              "      <td>192.168.10.3-192.168.10.50-389-33898-6</td>\n",
              "      <td>192.168.10.50</td>\n",
              "      <td>33898.0</td>\n",
              "      <td>192.168.10.3</td>\n",
              "      <td>389.0</td>\n",
              "      <td>6.0</td>\n",
              "      <td>6/7/2017 8:59</td>\n",
              "      <td>113095465.0</td>\n",
              "      <td>48.0</td>\n",
              "      <td>24.0</td>\n",
              "      <td>...</td>\n",
              "      <td>32.0</td>\n",
              "      <td>203985.500</td>\n",
              "      <td>5.758373e+05</td>\n",
              "      <td>1629110.0</td>\n",
              "      <td>379.0</td>\n",
              "      <td>13800000.0</td>\n",
              "      <td>4.277541e+06</td>\n",
              "      <td>16500000.0</td>\n",
              "      <td>6737603.0</td>\n",
              "      <td>BENIGN</td>\n",
              "    </tr>\n",
              "    <tr>\n",
              "      <th>1</th>\n",
              "      <td>192.168.10.3-192.168.10.50-389-33904-6</td>\n",
              "      <td>192.168.10.50</td>\n",
              "      <td>33904.0</td>\n",
              "      <td>192.168.10.3</td>\n",
              "      <td>389.0</td>\n",
              "      <td>6.0</td>\n",
              "      <td>6/7/2017 8:59</td>\n",
              "      <td>113473706.0</td>\n",
              "      <td>68.0</td>\n",
              "      <td>40.0</td>\n",
              "      <td>...</td>\n",
              "      <td>32.0</td>\n",
              "      <td>178326.875</td>\n",
              "      <td>5.034269e+05</td>\n",
              "      <td>1424245.0</td>\n",
              "      <td>325.0</td>\n",
              "      <td>13800000.0</td>\n",
              "      <td>4.229413e+06</td>\n",
              "      <td>16500000.0</td>\n",
              "      <td>6945512.0</td>\n",
              "      <td>BENIGN</td>\n",
              "    </tr>\n",
              "    <tr>\n",
              "      <th>2</th>\n",
              "      <td>8.0.6.4-8.6.0.1-0-0-0</td>\n",
              "      <td>8.6.0.1</td>\n",
              "      <td>0.0</td>\n",
              "      <td>8.0.6.4</td>\n",
              "      <td>0.0</td>\n",
              "      <td>0.0</td>\n",
              "      <td>6/7/2017 8:59</td>\n",
              "      <td>119945515.0</td>\n",
              "      <td>150.0</td>\n",
              "      <td>0.0</td>\n",
              "      <td>...</td>\n",
              "      <td>0.0</td>\n",
              "      <td>6909777.333</td>\n",
              "      <td>1.170000e+07</td>\n",
              "      <td>20400000.0</td>\n",
              "      <td>6.0</td>\n",
              "      <td>24400000.0</td>\n",
              "      <td>2.430000e+07</td>\n",
              "      <td>60100000.0</td>\n",
              "      <td>5702188.0</td>\n",
              "      <td>BENIGN</td>\n",
              "    </tr>\n",
              "    <tr>\n",
              "      <th>3</th>\n",
              "      <td>192.168.10.14-65.55.44.109-59135-443-6</td>\n",
              "      <td>192.168.10.14</td>\n",
              "      <td>59135.0</td>\n",
              "      <td>65.55.44.109</td>\n",
              "      <td>443.0</td>\n",
              "      <td>6.0</td>\n",
              "      <td>6/7/2017 8:59</td>\n",
              "      <td>60261928.0</td>\n",
              "      <td>9.0</td>\n",
              "      <td>7.0</td>\n",
              "      <td>...</td>\n",
              "      <td>20.0</td>\n",
              "      <td>0.000</td>\n",
              "      <td>0.000000e+00</td>\n",
              "      <td>0.0</td>\n",
              "      <td>0.0</td>\n",
              "      <td>0.0</td>\n",
              "      <td>0.000000e+00</td>\n",
              "      <td>0.0</td>\n",
              "      <td>0.0</td>\n",
              "      <td>BENIGN</td>\n",
              "    </tr>\n",
              "    <tr>\n",
              "      <th>4</th>\n",
              "      <td>192.168.10.3-192.168.10.14-53-59555-17</td>\n",
              "      <td>192.168.10.14</td>\n",
              "      <td>59555.0</td>\n",
              "      <td>192.168.10.3</td>\n",
              "      <td>53.0</td>\n",
              "      <td>17.0</td>\n",
              "      <td>6/7/2017 8:59</td>\n",
              "      <td>269.0</td>\n",
              "      <td>2.0</td>\n",
              "      <td>2.0</td>\n",
              "      <td>...</td>\n",
              "      <td>32.0</td>\n",
              "      <td>0.000</td>\n",
              "      <td>0.000000e+00</td>\n",
              "      <td>0.0</td>\n",
              "      <td>0.0</td>\n",
              "      <td>0.0</td>\n",
              "      <td>0.000000e+00</td>\n",
              "      <td>0.0</td>\n",
              "      <td>0.0</td>\n",
              "      <td>BENIGN</td>\n",
              "    </tr>\n",
              "  </tbody>\n",
              "</table>\n",
              "<p>5 rows × 85 columns</p>\n",
              "</div>\n",
              "      <button class=\"colab-df-convert\" onclick=\"convertToInteractive('df-166c6691-aeef-45bd-93d7-21e0c4e99a69')\"\n",
              "              title=\"Convert this dataframe to an interactive table.\"\n",
              "              style=\"display:none;\">\n",
              "        \n",
              "  <svg xmlns=\"http://www.w3.org/2000/svg\" height=\"24px\"viewBox=\"0 0 24 24\"\n",
              "       width=\"24px\">\n",
              "    <path d=\"M0 0h24v24H0V0z\" fill=\"none\"/>\n",
              "    <path d=\"M18.56 5.44l.94 2.06.94-2.06 2.06-.94-2.06-.94-.94-2.06-.94 2.06-2.06.94zm-11 1L8.5 8.5l.94-2.06 2.06-.94-2.06-.94L8.5 2.5l-.94 2.06-2.06.94zm10 10l.94 2.06.94-2.06 2.06-.94-2.06-.94-.94-2.06-.94 2.06-2.06.94z\"/><path d=\"M17.41 7.96l-1.37-1.37c-.4-.4-.92-.59-1.43-.59-.52 0-1.04.2-1.43.59L10.3 9.45l-7.72 7.72c-.78.78-.78 2.05 0 2.83L4 21.41c.39.39.9.59 1.41.59.51 0 1.02-.2 1.41-.59l7.78-7.78 2.81-2.81c.8-.78.8-2.07 0-2.86zM5.41 20L4 18.59l7.72-7.72 1.47 1.35L5.41 20z\"/>\n",
              "  </svg>\n",
              "      </button>\n",
              "      \n",
              "  <style>\n",
              "    .colab-df-container {\n",
              "      display:flex;\n",
              "      flex-wrap:wrap;\n",
              "      gap: 12px;\n",
              "    }\n",
              "\n",
              "    .colab-df-convert {\n",
              "      background-color: #E8F0FE;\n",
              "      border: none;\n",
              "      border-radius: 50%;\n",
              "      cursor: pointer;\n",
              "      display: none;\n",
              "      fill: #1967D2;\n",
              "      height: 32px;\n",
              "      padding: 0 0 0 0;\n",
              "      width: 32px;\n",
              "    }\n",
              "\n",
              "    .colab-df-convert:hover {\n",
              "      background-color: #E2EBFA;\n",
              "      box-shadow: 0px 1px 2px rgba(60, 64, 67, 0.3), 0px 1px 3px 1px rgba(60, 64, 67, 0.15);\n",
              "      fill: #174EA6;\n",
              "    }\n",
              "\n",
              "    [theme=dark] .colab-df-convert {\n",
              "      background-color: #3B4455;\n",
              "      fill: #D2E3FC;\n",
              "    }\n",
              "\n",
              "    [theme=dark] .colab-df-convert:hover {\n",
              "      background-color: #434B5C;\n",
              "      box-shadow: 0px 1px 3px 1px rgba(0, 0, 0, 0.15);\n",
              "      filter: drop-shadow(0px 1px 2px rgba(0, 0, 0, 0.3));\n",
              "      fill: #FFFFFF;\n",
              "    }\n",
              "  </style>\n",
              "\n",
              "      <script>\n",
              "        const buttonEl =\n",
              "          document.querySelector('#df-166c6691-aeef-45bd-93d7-21e0c4e99a69 button.colab-df-convert');\n",
              "        buttonEl.style.display =\n",
              "          google.colab.kernel.accessAllowed ? 'block' : 'none';\n",
              "\n",
              "        async function convertToInteractive(key) {\n",
              "          const element = document.querySelector('#df-166c6691-aeef-45bd-93d7-21e0c4e99a69');\n",
              "          const dataTable =\n",
              "            await google.colab.kernel.invokeFunction('convertToInteractive',\n",
              "                                                     [key], {});\n",
              "          if (!dataTable) return;\n",
              "\n",
              "          const docLinkHtml = 'Like what you see? Visit the ' +\n",
              "            '<a target=\"_blank\" href=https://colab.research.google.com/notebooks/data_table.ipynb>data table notebook</a>'\n",
              "            + ' to learn more about interactive tables.';\n",
              "          element.innerHTML = '';\n",
              "          dataTable['output_type'] = 'display_data';\n",
              "          await google.colab.output.renderOutput(dataTable, element);\n",
              "          const docLink = document.createElement('div');\n",
              "          docLink.innerHTML = docLinkHtml;\n",
              "          element.appendChild(docLink);\n",
              "        }\n",
              "      </script>\n",
              "    </div>\n",
              "  </div>\n",
              "  "
            ]
          },
          "metadata": {},
          "execution_count": 5
        }
      ]
    },
    {
      "cell_type": "code",
      "source": [
        "# Print information about the dataframe\n",
        "df.info()"
      ],
      "metadata": {
        "colab": {
          "base_uri": "https://localhost:8080/"
        },
        "id": "nnlx1oC5Gd6U",
        "outputId": "5c5d2f2c-4c57-4785-ffa6-2224ba449ecb"
      },
      "execution_count": 6,
      "outputs": [
        {
          "output_type": "stream",
          "name": "stdout",
          "text": [
            "<class 'pandas.core.frame.DataFrame'>\n",
            "RangeIndex: 458968 entries, 0 to 458967\n",
            "Data columns (total 85 columns):\n",
            " #   Column                        Non-Null Count   Dtype  \n",
            "---  ------                        --------------   -----  \n",
            " 0   Flow ID                       170366 non-null  object \n",
            " 1    Source IP                    170366 non-null  object \n",
            " 2    Source Port                  170366 non-null  float64\n",
            " 3    Destination IP               170366 non-null  object \n",
            " 4    Destination Port             170366 non-null  float64\n",
            " 5    Protocol                     170366 non-null  float64\n",
            " 6    Timestamp                    170366 non-null  object \n",
            " 7    Flow Duration                170366 non-null  float64\n",
            " 8    Total Fwd Packets            170366 non-null  float64\n",
            " 9    Total Backward Packets       170366 non-null  float64\n",
            " 10  Total Length of Fwd Packets   170366 non-null  float64\n",
            " 11   Total Length of Bwd Packets  170366 non-null  float64\n",
            " 12   Fwd Packet Length Max        170366 non-null  float64\n",
            " 13   Fwd Packet Length Min        170366 non-null  float64\n",
            " 14   Fwd Packet Length Mean       170366 non-null  float64\n",
            " 15   Fwd Packet Length Std        170366 non-null  float64\n",
            " 16  Bwd Packet Length Max         170366 non-null  float64\n",
            " 17   Bwd Packet Length Min        170366 non-null  float64\n",
            " 18   Bwd Packet Length Mean       170366 non-null  float64\n",
            " 19   Bwd Packet Length Std        170366 non-null  float64\n",
            " 20  Flow Bytes/s                  170346 non-null  float64\n",
            " 21   Flow Packets/s               170366 non-null  float64\n",
            " 22   Flow IAT Mean                170366 non-null  float64\n",
            " 23   Flow IAT Std                 170366 non-null  float64\n",
            " 24   Flow IAT Max                 170366 non-null  float64\n",
            " 25   Flow IAT Min                 170366 non-null  float64\n",
            " 26  Fwd IAT Total                 170366 non-null  float64\n",
            " 27   Fwd IAT Mean                 170366 non-null  float64\n",
            " 28   Fwd IAT Std                  170366 non-null  float64\n",
            " 29   Fwd IAT Max                  170366 non-null  float64\n",
            " 30   Fwd IAT Min                  170366 non-null  float64\n",
            " 31  Bwd IAT Total                 170366 non-null  float64\n",
            " 32   Bwd IAT Mean                 170366 non-null  float64\n",
            " 33   Bwd IAT Std                  170366 non-null  float64\n",
            " 34   Bwd IAT Max                  170366 non-null  float64\n",
            " 35   Bwd IAT Min                  170366 non-null  float64\n",
            " 36  Fwd PSH Flags                 170366 non-null  float64\n",
            " 37   Bwd PSH Flags                170366 non-null  float64\n",
            " 38   Fwd URG Flags                170366 non-null  float64\n",
            " 39   Bwd URG Flags                170366 non-null  float64\n",
            " 40   Fwd Header Length            170366 non-null  float64\n",
            " 41   Bwd Header Length            170366 non-null  float64\n",
            " 42  Fwd Packets/s                 170366 non-null  float64\n",
            " 43   Bwd Packets/s                170366 non-null  float64\n",
            " 44   Min Packet Length            170366 non-null  float64\n",
            " 45   Max Packet Length            170366 non-null  float64\n",
            " 46   Packet Length Mean           170366 non-null  float64\n",
            " 47   Packet Length Std            170366 non-null  float64\n",
            " 48   Packet Length Variance       170366 non-null  float64\n",
            " 49  FIN Flag Count                170366 non-null  float64\n",
            " 50   SYN Flag Count               170366 non-null  float64\n",
            " 51   RST Flag Count               170366 non-null  float64\n",
            " 52   PSH Flag Count               170366 non-null  float64\n",
            " 53   ACK Flag Count               170366 non-null  float64\n",
            " 54   URG Flag Count               170366 non-null  float64\n",
            " 55   CWE Flag Count               170366 non-null  float64\n",
            " 56   ECE Flag Count               170366 non-null  float64\n",
            " 57   Down/Up Ratio                170366 non-null  float64\n",
            " 58   Average Packet Size          170366 non-null  float64\n",
            " 59   Avg Fwd Segment Size         170366 non-null  float64\n",
            " 60   Avg Bwd Segment Size         170366 non-null  float64\n",
            " 61   Fwd Header Length.1          170366 non-null  float64\n",
            " 62  Fwd Avg Bytes/Bulk            170366 non-null  float64\n",
            " 63   Fwd Avg Packets/Bulk         170366 non-null  float64\n",
            " 64   Fwd Avg Bulk Rate            170366 non-null  float64\n",
            " 65   Bwd Avg Bytes/Bulk           170366 non-null  float64\n",
            " 66   Bwd Avg Packets/Bulk         170366 non-null  float64\n",
            " 67  Bwd Avg Bulk Rate             170366 non-null  float64\n",
            " 68  Subflow Fwd Packets           170366 non-null  float64\n",
            " 69   Subflow Fwd Bytes            170366 non-null  float64\n",
            " 70   Subflow Bwd Packets          170366 non-null  float64\n",
            " 71   Subflow Bwd Bytes            170366 non-null  float64\n",
            " 72  Init_Win_bytes_forward        170366 non-null  float64\n",
            " 73   Init_Win_bytes_backward      170366 non-null  float64\n",
            " 74   act_data_pkt_fwd             170366 non-null  float64\n",
            " 75   min_seg_size_forward         170366 non-null  float64\n",
            " 76  Active Mean                   170366 non-null  float64\n",
            " 77   Active Std                   170366 non-null  float64\n",
            " 78   Active Max                   170366 non-null  float64\n",
            " 79   Active Min                   170366 non-null  float64\n",
            " 80  Idle Mean                     170366 non-null  float64\n",
            " 81   Idle Std                     170366 non-null  float64\n",
            " 82   Idle Max                     170366 non-null  float64\n",
            " 83   Idle Min                     170366 non-null  float64\n",
            " 84   Label                        170366 non-null  object \n",
            "dtypes: float64(80), object(5)\n",
            "memory usage: 297.6+ MB\n"
          ]
        }
      ]
    },
    {
      "cell_type": "code",
      "source": [
        "# Remove the space characters in column names\n",
        "df.columns = df.columns.str.strip()"
      ],
      "metadata": {
        "id": "IgDm36xtGjtY"
      },
      "execution_count": 7,
      "outputs": []
    },
    {
      "cell_type": "code",
      "source": [
        "# The columns \"Fwd Header Length\" and \"Fwd Header Length.1\" are identical, the second one is removed, 84 columns remain.\n",
        "df = df.drop(columns=['Fwd Header Length.1'])"
      ],
      "metadata": {
        "id": "PUNMELQfGuiM"
      },
      "execution_count": 8,
      "outputs": []
    },
    {
      "cell_type": "code",
      "source": [
        "print(f'Dimensions of the Data set : Rows={df.shape[0]}, Columns={df.shape[1]}')"
      ],
      "metadata": {
        "colab": {
          "base_uri": "https://localhost:8080/"
        },
        "id": "AbFrwm1RG3RS",
        "outputId": "7141b2bb-3fd6-4919-99b0-9575bb9e2c93"
      },
      "execution_count": 9,
      "outputs": [
        {
          "output_type": "stream",
          "name": "stdout",
          "text": [
            "Dimensions of the Data set : Rows=458968, Columns=84\n"
          ]
        }
      ]
    },
    {
      "cell_type": "code",
      "source": [
        "# Checking for missing value\n",
        "df.isna().sum()"
      ],
      "metadata": {
        "colab": {
          "base_uri": "https://localhost:8080/"
        },
        "id": "CNxRbjkOG8FU",
        "outputId": "6ccc4e97-9056-464f-dda7-ce94a20cfc4c"
      },
      "execution_count": 10,
      "outputs": [
        {
          "output_type": "execute_result",
          "data": {
            "text/plain": [
              "Flow ID             288602\n",
              "Source IP           288602\n",
              "Source Port         288602\n",
              "Destination IP      288602\n",
              "Destination Port    288602\n",
              "                     ...  \n",
              "Idle Mean           288602\n",
              "Idle Std            288602\n",
              "Idle Max            288602\n",
              "Idle Min            288602\n",
              "Label               288602\n",
              "Length: 84, dtype: int64"
            ]
          },
          "metadata": {},
          "execution_count": 10
        }
      ]
    },
    {
      "cell_type": "code",
      "source": [
        "# Remove any rows with missing datapoints\n",
        "df = df.drop(df[pd.isnull(df['Flow ID'])].index)\n",
        "df.shape"
      ],
      "metadata": {
        "colab": {
          "base_uri": "https://localhost:8080/"
        },
        "id": "LME2vqTMHHph",
        "outputId": "0d2d86eb-b633-4198-dbf4-4341ecc3b7ff"
      },
      "execution_count": 11,
      "outputs": [
        {
          "output_type": "execute_result",
          "data": {
            "text/plain": [
              "(170366, 84)"
            ]
          },
          "metadata": {},
          "execution_count": 11
        }
      ]
    },
    {
      "cell_type": "code",
      "source": [
        "# Check the distribution of target variable\n",
        "df.Label.value_counts()\n",
        "sns.countplot(x=df.Label)"
      ],
      "metadata": {
        "id": "1GJVXAvkHNKa",
        "colab": {
          "base_uri": "https://localhost:8080/",
          "height": 366
        },
        "outputId": "32ee1843-7427-42a2-c89d-32fb24bb7d17"
      },
      "execution_count": 12,
      "outputs": [
        {
          "output_type": "execute_result",
          "data": {
            "text/plain": [
              "BENIGN                        168186\n",
              "Web Attack  Brute Force        1507\n",
              "Web Attack  XSS                 652\n",
              "Web Attack  Sql Injection        21\n",
              "Name: Label, dtype: int64"
            ]
          },
          "metadata": {},
          "execution_count": 12
        },
        {
          "output_type": "execute_result",
          "data": {
            "text/plain": [
              "<matplotlib.axes._subplots.AxesSubplot at 0x7f69fdd2b7d0>"
            ]
          },
          "metadata": {},
          "execution_count": 12
        },
        {
          "output_type": "display_data",
          "data": {
            "text/plain": [
              "<Figure size 432x288 with 1 Axes>"
            ],
            "image/png": "[encoded data removed]"
          },
          "metadata": {
            "needs_background": "light"
          }
        }
      ]
    },
    {
      "cell_type": "code",
      "source": [
        "# The \"Flow Bytes/s\" and \"Flow Packets/s\" columns have non-numerical values, replace them.\n",
        "for i in df.columns:\n",
        "    df = df[df[i] != \"Infinity\"]\n",
        "    df = df[df[i] != np.nan]\n",
        "    df = df[df[i] != \",,\"]"
      ],
      "metadata": {
        "id": "KhD85F5pHXef"
      },
      "execution_count": 13,
      "outputs": []
    },
    {
      "cell_type": "code",
      "source": [
        "df[['Flow Bytes/s', 'Flow Packets/s']] = df[['Flow Bytes/s', 'Flow Packets/s']].apply(pd.to_numeric)"
      ],
      "metadata": {
        "id": "QqHmqReJHgqQ"
      },
      "execution_count": 14,
      "outputs": []
    },
    {
      "cell_type": "code",
      "source": [
        "# Replace any infinity or nan values in the dataset\n",
        "df.replace([np.inf, -np.inf, np.nan], -1, inplace=True)"
      ],
      "metadata": {
        "id": "Yid1L3pCHoLd"
      },
      "execution_count": 15,
      "outputs": []
    },
    {
      "cell_type": "code",
      "source": [
        "# Identify the string features\n",
        "string_features = list(df.select_dtypes(include=['object']).columns)\n",
        "string_features.remove('Label')\n",
        "string_features"
      ],
      "metadata": {
        "id": "6YosjdRHHsP-",
        "colab": {
          "base_uri": "https://localhost:8080/"
        },
        "outputId": "71f655a4-5fd7-4460-f398-a077d17e9ba3"
      },
      "execution_count": 16,
      "outputs": [
        {
          "output_type": "execute_result",
          "data": {
            "text/plain": [
              "['Flow ID', 'Source IP', 'Destination IP', 'Timestamp']"
            ]
          },
          "metadata": {},
          "execution_count": 16
        }
      ]
    },
    {
      "cell_type": "code",
      "source": [
        "# LabelEncoder\n",
        "le = LabelEncoder()\n",
        "df[string_features] = df[string_features].apply(lambda col: le.fit_transform(col))"
      ],
      "metadata": {
        "id": "NaCgviKZIJN4"
      },
      "execution_count": 17,
      "outputs": []
    },
    {
      "cell_type": "code",
      "source": [
        "df['Label'] = df['Label'].apply(lambda x: 0 if x == 'BENIGN' else 1)"
      ],
      "metadata": {
        "id": "5tlyAfc0IN67"
      },
      "execution_count": 18,
      "outputs": []
    },
    {
      "cell_type": "code",
      "source": [
        "df.Label.value_counts()\n",
        "sns.countplot(x=df.Label)"
      ],
      "metadata": {
        "id": "9gpZ1SZiIRqh",
        "colab": {
          "base_uri": "https://localhost:8080/",
          "height": 331
        },
        "outputId": "30279f74-5a5e-489f-8299-bc0cef3c27c4"
      },
      "execution_count": 19,
      "outputs": [
        {
          "output_type": "execute_result",
          "data": {
            "text/plain": [
              "0    168186\n",
              "1      2180\n",
              "Name: Label, dtype: int64"
            ]
          },
          "metadata": {},
          "execution_count": 19
        },
        {
          "output_type": "execute_result",
          "data": {
            "text/plain": [
              "<matplotlib.axes._subplots.AxesSubplot at 0x7f69fdc1b350>"
            ]
          },
          "metadata": {},
          "execution_count": 19
        },
        {
          "output_type": "display_data",
          "data": {
            "text/plain": [
              "<Figure size 432x288 with 1 Axes>"
            ],
            "image/png": "[encoded data removed]"
          },
          "metadata": {
            "needs_background": "light"
          }
        }
      ]
    },
    {
      "cell_type": "code",
      "source": [
        "# Description of the data in the dataframe\n",
        "df.describe().T"
      ],
      "metadata": {
        "id": "GkkBJ3VWImEE",
        "colab": {
          "base_uri": "https://localhost:8080/",
          "height": 424
        },
        "outputId": "43745365-342e-4e4f-cdad-5b69ff82112b"
      },
      "execution_count": 20,
      "outputs": [
        {
          "output_type": "execute_result",
          "data": {
            "text/plain": [
              "                     count          mean           std  min      25%      50%  \\\n",
              "Flow ID           170366.0  3.748940e+04  2.722681e+04  0.0  14467.0  29530.0   \n",
              "Source IP         170366.0  1.355975e+03  5.257467e+02  0.0   1258.0   1262.0   \n",
              "Source Port       170366.0  4.016057e+04  2.384447e+04  0.0  15765.0  50930.0   \n",
              "Destination IP    170366.0  1.890148e+03  9.894188e+02  0.0   1590.0   1599.0   \n",
              "Destination Port  170366.0  7.897091e+03  1.823549e+04  0.0     53.0     80.0   \n",
              "...                    ...           ...           ...  ...      ...      ...   \n",
              "Idle Mean         170366.0  3.690478e+06  1.298830e+07  0.0      0.0      0.0   \n",
              "Idle Std          170366.0  1.310724e+05  1.733767e+06  0.0      0.0      0.0   \n",
              "Idle Max          170366.0  3.784764e+06  1.325135e+07  0.0      0.0      0.0   \n",
              "Idle Min          170366.0  3.543232e+06  1.284183e+07  0.0      0.0      0.0   \n",
              "Label             170366.0  1.279598e-02  1.123936e-01  0.0      0.0      0.0   \n",
              "\n",
              "                       75%          max  \n",
              "Flow ID           60933.75      89865.0  \n",
              "Source IP          1265.00       4202.0  \n",
              "Source Port       59967.00      65534.0  \n",
              "Destination IP     1601.00       5213.0  \n",
              "Destination Port    443.00      65529.0  \n",
              "...                    ...          ...  \n",
              "Idle Mean             0.00  120000000.0  \n",
              "Idle Std              0.00   72600000.0  \n",
              "Idle Max              0.00  120000000.0  \n",
              "Idle Min              0.00  120000000.0  \n",
              "Label                 0.00          1.0  \n",
              "\n",
              "[84 rows x 8 columns]"
            ],
            "text/html": [
              "\n",
              "  <div id=\"df-ea337538-b512-4de8-9d75-19924a67993f\">\n",
              "    <div class=\"colab-df-container\">\n",
              "      <div>\n",
              "<style scoped>\n",
              "    .dataframe tbody tr th:only-of-type {\n",
              "        vertical-align: middle;\n",
              "    }\n",
              "\n",
              "    .dataframe tbody tr th {\n",
              "        vertical-align: top;\n",
              "    }\n",
              "\n",
              "    .dataframe thead th {\n",
              "        text-align: right;\n",
              "    }\n",
              "</style>\n",
              "<table border=\"1\" class=\"dataframe\">\n",
              "  <thead>\n",
              "    <tr style=\"text-align: right;\">\n",
              "      <th></th>\n",
              "      <th>count</th>\n",
              "      <th>mean</th>\n",
              "      <th>std</th>\n",
              "      <th>min</th>\n",
              "      <th>25%</th>\n",
              "      <th>50%</th>\n",
              "      <th>75%</th>\n",
              "      <th>max</th>\n",
              "    </tr>\n",
              "  </thead>\n",
              "  <tbody>\n",
              "    <tr>\n",
              "      <th>Flow ID</th>\n",
              "      <td>170366.0</td>\n",
              "      <td>3.748940e+04</td>\n",
              "      <td>2.722681e+04</td>\n",
              "      <td>0.0</td>\n",
              "      <td>14467.0</td>\n",
              "      <td>29530.0</td>\n",
              "      <td>60933.75</td>\n",
              "      <td>89865.0</td>\n",
              "    </tr>\n",
              "    <tr>\n",
              "      <th>Source IP</th>\n",
              "      <td>170366.0</td>\n",
              "      <td>1.355975e+03</td>\n",
              "      <td>5.257467e+02</td>\n",
              "      <td>0.0</td>\n",
              "      <td>1258.0</td>\n",
              "      <td>1262.0</td>\n",
              "      <td>1265.00</td>\n",
              "      <td>4202.0</td>\n",
              "    </tr>\n",
              "    <tr>\n",
              "      <th>Source Port</th>\n",
              "      <td>170366.0</td>\n",
              "      <td>4.016057e+04</td>\n",
              "      <td>2.384447e+04</td>\n",
              "      <td>0.0</td>\n",
              "      <td>15765.0</td>\n",
              "      <td>50930.0</td>\n",
              "      <td>59967.00</td>\n",
              "      <td>65534.0</td>\n",
              "    </tr>\n",
              "    <tr>\n",
              "      <th>Destination IP</th>\n",
              "      <td>170366.0</td>\n",
              "      <td>1.890148e+03</td>\n",
              "      <td>9.894188e+02</td>\n",
              "      <td>0.0</td>\n",
              "      <td>1590.0</td>\n",
              "      <td>1599.0</td>\n",
              "      <td>1601.00</td>\n",
              "      <td>5213.0</td>\n",
              "    </tr>\n",
              "    <tr>\n",
              "      <th>Destination Port</th>\n",
              "      <td>170366.0</td>\n",
              "      <td>7.897091e+03</td>\n",
              "      <td>1.823549e+04</td>\n",
              "      <td>0.0</td>\n",
              "      <td>53.0</td>\n",
              "      <td>80.0</td>\n",
              "      <td>443.00</td>\n",
              "      <td>65529.0</td>\n",
              "    </tr>\n",
              "    <tr>\n",
              "      <th>...</th>\n",
              "      <td>...</td>\n",
              "      <td>...</td>\n",
              "      <td>...</td>\n",
              "      <td>...</td>\n",
              "      <td>...</td>\n",
              "      <td>...</td>\n",
              "      <td>...</td>\n",
              "      <td>...</td>\n",
              "    </tr>\n",
              "    <tr>\n",
              "      <th>Idle Mean</th>\n",
              "      <td>170366.0</td>\n",
              "      <td>3.690478e+06</td>\n",
              "      <td>1.298830e+07</td>\n",
              "      <td>0.0</td>\n",
              "      <td>0.0</td>\n",
              "      <td>0.0</td>\n",
              "      <td>0.00</td>\n",
              "      <td>120000000.0</td>\n",
              "    </tr>\n",
              "    <tr>\n",
              "      <th>Idle Std</th>\n",
              "      <td>170366.0</td>\n",
              "      <td>1.310724e+05</td>\n",
              "      <td>1.733767e+06</td>\n",
              "      <td>0.0</td>\n",
              "      <td>0.0</td>\n",
              "      <td>0.0</td>\n",
              "      <td>0.00</td>\n",
              "      <td>72600000.0</td>\n",
              "    </tr>\n",
              "    <tr>\n",
              "      <th>Idle Max</th>\n",
              "      <td>170366.0</td>\n",
              "      <td>3.784764e+06</td>\n",
              "      <td>1.325135e+07</td>\n",
              "      <td>0.0</td>\n",
              "      <td>0.0</td>\n",
              "      <td>0.0</td>\n",
              "      <td>0.00</td>\n",
              "      <td>120000000.0</td>\n",
              "    </tr>\n",
              "    <tr>\n",
              "      <th>Idle Min</th>\n",
              "      <td>170366.0</td>\n",
              "      <td>3.543232e+06</td>\n",
              "      <td>1.284183e+07</td>\n",
              "      <td>0.0</td>\n",
              "      <td>0.0</td>\n",
              "      <td>0.0</td>\n",
              "      <td>0.00</td>\n",
              "      <td>120000000.0</td>\n",
              "    </tr>\n",
              "    <tr>\n",
              "      <th>Label</th>\n",
              "      <td>170366.0</td>\n",
              "      <td>1.279598e-02</td>\n",
              "      <td>1.123936e-01</td>\n",
              "      <td>0.0</td>\n",
              "      <td>0.0</td>\n",
              "      <td>0.0</td>\n",
              "      <td>0.00</td>\n",
              "      <td>1.0</td>\n",
              "    </tr>\n",
              "  </tbody>\n",
              "</table>\n",
              "<p>84 rows × 8 columns</p>\n",
              "</div>\n",
              "      <button class=\"colab-df-convert\" onclick=\"convertToInteractive('df-ea337538-b512-4de8-9d75-19924a67993f')\"\n",
              "              title=\"Convert this dataframe to an interactive table.\"\n",
              "              style=\"display:none;\">\n",
              "        \n",
              "  <svg xmlns=\"http://www.w3.org/2000/svg\" height=\"24px\"viewBox=\"0 0 24 24\"\n",
              "       width=\"24px\">\n",
              "    <path d=\"M0 0h24v24H0V0z\" fill=\"none\"/>\n",
              "    <path d=\"M18.56 5.44l.94 2.06.94-2.06 2.06-.94-2.06-.94-.94-2.06-.94 2.06-2.06.94zm-11 1L8.5 8.5l.94-2.06 2.06-.94-2.06-.94L8.5 2.5l-.94 2.06-2.06.94zm10 10l.94 2.06.94-2.06 2.06-.94-2.06-.94-.94-2.06-.94 2.06-2.06.94z\"/><path d=\"M17.41 7.96l-1.37-1.37c-.4-.4-.92-.59-1.43-.59-.52 0-1.04.2-1.43.59L10.3 9.45l-7.72 7.72c-.78.78-.78 2.05 0 2.83L4 21.41c.39.39.9.59 1.41.59.51 0 1.02-.2 1.41-.59l7.78-7.78 2.81-2.81c.8-.78.8-2.07 0-2.86zM5.41 20L4 18.59l7.72-7.72 1.47 1.35L5.41 20z\"/>\n",
              "  </svg>\n",
              "      </button>\n",
              "      \n",
              "  <style>\n",
              "    .colab-df-container {\n",
              "      display:flex;\n",
              "      flex-wrap:wrap;\n",
              "      gap: 12px;\n",
              "    }\n",
              "\n",
              "    .colab-df-convert {\n",
              "      background-color: #E8F0FE;\n",
              "      border: none;\n",
              "      border-radius: 50%;\n",
              "      cursor: pointer;\n",
              "      display: none;\n",
              "      fill: #1967D2;\n",
              "      height: 32px;\n",
              "      padding: 0 0 0 0;\n",
              "      width: 32px;\n",
              "    }\n",
              "\n",
              "    .colab-df-convert:hover {\n",
              "      background-color: #E2EBFA;\n",
              "      box-shadow: 0px 1px 2px rgba(60, 64, 67, 0.3), 0px 1px 3px 1px rgba(60, 64, 67, 0.15);\n",
              "      fill: #174EA6;\n",
              "    }\n",
              "\n",
              "    [theme=dark] .colab-df-convert {\n",
              "      background-color: #3B4455;\n",
              "      fill: #D2E3FC;\n",
              "    }\n",
              "\n",
              "    [theme=dark] .colab-df-convert:hover {\n",
              "      background-color: #434B5C;\n",
              "      box-shadow: 0px 1px 3px 1px rgba(0, 0, 0, 0.15);\n",
              "      filter: drop-shadow(0px 1px 2px rgba(0, 0, 0, 0.3));\n",
              "      fill: #FFFFFF;\n",
              "    }\n",
              "  </style>\n",
              "\n",
              "      <script>\n",
              "        const buttonEl =\n",
              "          document.querySelector('#df-ea337538-b512-4de8-9d75-19924a67993f button.colab-df-convert');\n",
              "        buttonEl.style.display =\n",
              "          google.colab.kernel.accessAllowed ? 'block' : 'none';\n",
              "\n",
              "        async function convertToInteractive(key) {\n",
              "          const element = document.querySelector('#df-ea337538-b512-4de8-9d75-19924a67993f');\n",
              "          const dataTable =\n",
              "            await google.colab.kernel.invokeFunction('convertToInteractive',\n",
              "                                                     [key], {});\n",
              "          if (!dataTable) return;\n",
              "\n",
              "          const docLinkHtml = 'Like what you see? Visit the ' +\n",
              "            '<a target=\"_blank\" href=https://colab.research.google.com/notebooks/data_table.ipynb>data table notebook</a>'\n",
              "            + ' to learn more about interactive tables.';\n",
              "          element.innerHTML = '';\n",
              "          dataTable['output_type'] = 'display_data';\n",
              "          await google.colab.output.renderOutput(dataTable, element);\n",
              "          const docLink = document.createElement('div');\n",
              "          docLink.innerHTML = docLinkHtml;\n",
              "          element.appendChild(docLink);\n",
              "        }\n",
              "      </script>\n",
              "    </div>\n",
              "  </div>\n",
              "  "
            ]
          },
          "metadata": {},
          "execution_count": 20
        }
      ]
    },
    {
      "cell_type": "code",
      "source": [
        "# Remove any constant features in the dataset that do not add any value to modelling\n",
        "df.describe().T[df.describe().T['std']==0]"
      ],
      "metadata": {
        "id": "qzYcngt1InHw",
        "colab": {
          "base_uri": "https://localhost:8080/",
          "height": 363
        },
        "outputId": "f6e15252-a78f-40d7-a16a-b58dfd01e5cd"
      },
      "execution_count": 21,
      "outputs": [
        {
          "output_type": "execute_result",
          "data": {
            "text/plain": [
              "                         count  mean  std  min  25%  50%  75%  max\n",
              "Bwd PSH Flags         170366.0   0.0  0.0  0.0  0.0  0.0  0.0  0.0\n",
              "Fwd URG Flags         170366.0   0.0  0.0  0.0  0.0  0.0  0.0  0.0\n",
              "Bwd URG Flags         170366.0   0.0  0.0  0.0  0.0  0.0  0.0  0.0\n",
              "CWE Flag Count        170366.0   0.0  0.0  0.0  0.0  0.0  0.0  0.0\n",
              "Fwd Avg Bytes/Bulk    170366.0   0.0  0.0  0.0  0.0  0.0  0.0  0.0\n",
              "Fwd Avg Packets/Bulk  170366.0   0.0  0.0  0.0  0.0  0.0  0.0  0.0\n",
              "Fwd Avg Bulk Rate     170366.0   0.0  0.0  0.0  0.0  0.0  0.0  0.0\n",
              "Bwd Avg Bytes/Bulk    170366.0   0.0  0.0  0.0  0.0  0.0  0.0  0.0\n",
              "Bwd Avg Packets/Bulk  170366.0   0.0  0.0  0.0  0.0  0.0  0.0  0.0\n",
              "Bwd Avg Bulk Rate     170366.0   0.0  0.0  0.0  0.0  0.0  0.0  0.0"
            ],
            "text/html": [
              "\n",
              "  <div id=\"df-e9901f9f-d9f8-4241-a950-c50620ae7140\">\n",
              "    <div class=\"colab-df-container\">\n",
              "      <div>\n",
              "<style scoped>\n",
              "    .dataframe tbody tr th:only-of-type {\n",
              "        vertical-align: middle;\n",
              "    }\n",
              "\n",
              "    .dataframe tbody tr th {\n",
              "        vertical-align: top;\n",
              "    }\n",
              "\n",
              "    .dataframe thead th {\n",
              "        text-align: right;\n",
              "    }\n",
              "</style>\n",
              "<table border=\"1\" class=\"dataframe\">\n",
              "  <thead>\n",
              "    <tr style=\"text-align: right;\">\n",
              "      <th></th>\n",
              "      <th>count</th>\n",
              "      <th>mean</th>\n",
              "      <th>std</th>\n",
              "      <th>min</th>\n",
              "      <th>25%</th>\n",
              "      <th>50%</th>\n",
              "      <th>75%</th>\n",
              "      <th>max</th>\n",
              "    </tr>\n",
              "  </thead>\n",
              "  <tbody>\n",
              "    <tr>\n",
              "      <th>Bwd PSH Flags</th>\n",
              "      <td>170366.0</td>\n",
              "      <td>0.0</td>\n",
              "      <td>0.0</td>\n",
              "      <td>0.0</td>\n",
              "      <td>0.0</td>\n",
              "      <td>0.0</td>\n",
              "      <td>0.0</td>\n",
              "      <td>0.0</td>\n",
              "    </tr>\n",
              "    <tr>\n",
              "      <th>Fwd URG Flags</th>\n",
              "      <td>170366.0</td>\n",
              "      <td>0.0</td>\n",
              "      <td>0.0</td>\n",
              "      <td>0.0</td>\n",
              "      <td>0.0</td>\n",
              "      <td>0.0</td>\n",
              "      <td>0.0</td>\n",
              "      <td>0.0</td>\n",
              "    </tr>\n",
              "    <tr>\n",
              "      <th>Bwd URG Flags</th>\n",
              "      <td>170366.0</td>\n",
              "      <td>0.0</td>\n",
              "      <td>0.0</td>\n",
              "      <td>0.0</td>\n",
              "      <td>0.0</td>\n",
              "      <td>0.0</td>\n",
              "      <td>0.0</td>\n",
              "      <td>0.0</td>\n",
              "    </tr>\n",
              "    <tr>\n",
              "      <th>CWE Flag Count</th>\n",
              "      <td>170366.0</td>\n",
              "      <td>0.0</td>\n",
              "      <td>0.0</td>\n",
              "      <td>0.0</td>\n",
              "      <td>0.0</td>\n",
              "      <td>0.0</td>\n",
              "      <td>0.0</td>\n",
              "      <td>0.0</td>\n",
              "    </tr>\n",
              "    <tr>\n",
              "      <th>Fwd Avg Bytes/Bulk</th>\n",
              "      <td>170366.0</td>\n",
              "      <td>0.0</td>\n",
              "      <td>0.0</td>\n",
              "      <td>0.0</td>\n",
              "      <td>0.0</td>\n",
              "      <td>0.0</td>\n",
              "      <td>0.0</td>\n",
              "      <td>0.0</td>\n",
              "    </tr>\n",
              "    <tr>\n",
              "      <th>Fwd Avg Packets/Bulk</th>\n",
              "      <td>170366.0</td>\n",
              "      <td>0.0</td>\n",
              "      <td>0.0</td>\n",
              "      <td>0.0</td>\n",
              "      <td>0.0</td>\n",
              "      <td>0.0</td>\n",
              "      <td>0.0</td>\n",
              "      <td>0.0</td>\n",
              "    </tr>\n",
              "    <tr>\n",
              "      <th>Fwd Avg Bulk Rate</th>\n",
              "      <td>170366.0</td>\n",
              "      <td>0.0</td>\n",
              "      <td>0.0</td>\n",
              "      <td>0.0</td>\n",
              "      <td>0.0</td>\n",
              "      <td>0.0</td>\n",
              "      <td>0.0</td>\n",
              "      <td>0.0</td>\n",
              "    </tr>\n",
              "    <tr>\n",
              "      <th>Bwd Avg Bytes/Bulk</th>\n",
              "      <td>170366.0</td>\n",
              "      <td>0.0</td>\n",
              "      <td>0.0</td>\n",
              "      <td>0.0</td>\n",
              "      <td>0.0</td>\n",
              "      <td>0.0</td>\n",
              "      <td>0.0</td>\n",
              "      <td>0.0</td>\n",
              "    </tr>\n",
              "    <tr>\n",
              "      <th>Bwd Avg Packets/Bulk</th>\n",
              "      <td>170366.0</td>\n",
              "      <td>0.0</td>\n",
              "      <td>0.0</td>\n",
              "      <td>0.0</td>\n",
              "      <td>0.0</td>\n",
              "      <td>0.0</td>\n",
              "      <td>0.0</td>\n",
              "      <td>0.0</td>\n",
              "    </tr>\n",
              "    <tr>\n",
              "      <th>Bwd Avg Bulk Rate</th>\n",
              "      <td>170366.0</td>\n",
              "      <td>0.0</td>\n",
              "      <td>0.0</td>\n",
              "      <td>0.0</td>\n",
              "      <td>0.0</td>\n",
              "      <td>0.0</td>\n",
              "      <td>0.0</td>\n",
              "      <td>0.0</td>\n",
              "    </tr>\n",
              "  </tbody>\n",
              "</table>\n",
              "</div>\n",
              "      <button class=\"colab-df-convert\" onclick=\"convertToInteractive('df-e9901f9f-d9f8-4241-a950-c50620ae7140')\"\n",
              "              title=\"Convert this dataframe to an interactive table.\"\n",
              "              style=\"display:none;\">\n",
              "        \n",
              "  <svg xmlns=\"http://www.w3.org/2000/svg\" height=\"24px\"viewBox=\"0 0 24 24\"\n",
              "       width=\"24px\">\n",
              "    <path d=\"M0 0h24v24H0V0z\" fill=\"none\"/>\n",
              "    <path d=\"M18.56 5.44l.94 2.06.94-2.06 2.06-.94-2.06-.94-.94-2.06-.94 2.06-2.06.94zm-11 1L8.5 8.5l.94-2.06 2.06-.94-2.06-.94L8.5 2.5l-.94 2.06-2.06.94zm10 10l.94 2.06.94-2.06 2.06-.94-2.06-.94-.94-2.06-.94 2.06-2.06.94z\"/><path d=\"M17.41 7.96l-1.37-1.37c-.4-.4-.92-.59-1.43-.59-.52 0-1.04.2-1.43.59L10.3 9.45l-7.72 7.72c-.78.78-.78 2.05 0 2.83L4 21.41c.39.39.9.59 1.41.59.51 0 1.02-.2 1.41-.59l7.78-7.78 2.81-2.81c.8-.78.8-2.07 0-2.86zM5.41 20L4 18.59l7.72-7.72 1.47 1.35L5.41 20z\"/>\n",
              "  </svg>\n",
              "      </button>\n",
              "      \n",
              "  <style>\n",
              "    .colab-df-container {\n",
              "      display:flex;\n",
              "      flex-wrap:wrap;\n",
              "      gap: 12px;\n",
              "    }\n",
              "\n",
              "    .colab-df-convert {\n",
              "      background-color: #E8F0FE;\n",
              "      border: none;\n",
              "      border-radius: 50%;\n",
              "      cursor: pointer;\n",
              "      display: none;\n",
              "      fill: #1967D2;\n",
              "      height: 32px;\n",
              "      padding: 0 0 0 0;\n",
              "      width: 32px;\n",
              "    }\n",
              "\n",
              "    .colab-df-convert:hover {\n",
              "      background-color: #E2EBFA;\n",
              "      box-shadow: 0px 1px 2px rgba(60, 64, 67, 0.3), 0px 1px 3px 1px rgba(60, 64, 67, 0.15);\n",
              "      fill: #174EA6;\n",
              "    }\n",
              "\n",
              "    [theme=dark] .colab-df-convert {\n",
              "      background-color: #3B4455;\n",
              "      fill: #D2E3FC;\n",
              "    }\n",
              "\n",
              "    [theme=dark] .colab-df-convert:hover {\n",
              "      background-color: #434B5C;\n",
              "      box-shadow: 0px 1px 3px 1px rgba(0, 0, 0, 0.15);\n",
              "      filter: drop-shadow(0px 1px 2px rgba(0, 0, 0, 0.3));\n",
              "      fill: #FFFFFF;\n",
              "    }\n",
              "  </style>\n",
              "\n",
              "      <script>\n",
              "        const buttonEl =\n",
              "          document.querySelector('#df-e9901f9f-d9f8-4241-a950-c50620ae7140 button.colab-df-convert');\n",
              "        buttonEl.style.display =\n",
              "          google.colab.kernel.accessAllowed ? 'block' : 'none';\n",
              "\n",
              "        async function convertToInteractive(key) {\n",
              "          const element = document.querySelector('#df-e9901f9f-d9f8-4241-a950-c50620ae7140');\n",
              "          const dataTable =\n",
              "            await google.colab.kernel.invokeFunction('convertToInteractive',\n",
              "                                                     [key], {});\n",
              "          if (!dataTable) return;\n",
              "\n",
              "          const docLinkHtml = 'Like what you see? Visit the ' +\n",
              "            '<a target=\"_blank\" href=https://colab.research.google.com/notebooks/data_table.ipynb>data table notebook</a>'\n",
              "            + ' to learn more about interactive tables.';\n",
              "          element.innerHTML = '';\n",
              "          dataTable['output_type'] = 'display_data';\n",
              "          await google.colab.output.renderOutput(dataTable, element);\n",
              "          const docLink = document.createElement('div');\n",
              "          docLink.innerHTML = docLinkHtml;\n",
              "          element.appendChild(docLink);\n",
              "        }\n",
              "      </script>\n",
              "    </div>\n",
              "  </div>\n",
              "  "
            ]
          },
          "metadata": {},
          "execution_count": 21
        }
      ]
    },
    {
      "cell_type": "code",
      "source": [
        "df.shape\n",
        "print(df['Bwd PSH Flags'].value_counts())\n",
        "print(df['Bwd URG Flags'].value_counts())\n",
        "print(df['Fwd Avg Bytes/Bulk'].value_counts())\n",
        "print(df['Fwd Avg Packets/Bulk'].value_counts())\n",
        "print(df['Fwd Avg Bulk Rate'].value_counts())\n",
        "print(df['Bwd Avg Bytes/Bulk'].value_counts())\n",
        "print(df['Bwd Avg Packets/Bulk'].value_counts())\n",
        "print(df['Bwd Avg Bulk Rate'].value_counts())"
      ],
      "metadata": {
        "id": "tsHZhmv_Iuuo",
        "colab": {
          "base_uri": "https://localhost:8080/"
        },
        "outputId": "f46497f5-b04e-474c-b673-1e331632c2aa"
      },
      "execution_count": 22,
      "outputs": [
        {
          "output_type": "execute_result",
          "data": {
            "text/plain": [
              "(170366, 84)"
            ]
          },
          "metadata": {},
          "execution_count": 22
        },
        {
          "output_type": "stream",
          "name": "stdout",
          "text": [
            "0.0    170366\n",
            "Name: Bwd PSH Flags, dtype: int64\n",
            "0.0    170366\n",
            "Name: Bwd URG Flags, dtype: int64\n",
            "0.0    170366\n",
            "Name: Fwd Avg Bytes/Bulk, dtype: int64\n",
            "0.0    170366\n",
            "Name: Fwd Avg Packets/Bulk, dtype: int64\n",
            "0.0    170366\n",
            "Name: Fwd Avg Bulk Rate, dtype: int64\n",
            "0.0    170366\n",
            "Name: Bwd Avg Bytes/Bulk, dtype: int64\n",
            "0.0    170366\n",
            "Name: Bwd Avg Packets/Bulk, dtype: int64\n",
            "0.0    170366\n",
            "Name: Bwd Avg Bulk Rate, dtype: int64\n"
          ]
        }
      ]
    },
    {
      "cell_type": "code",
      "source": [
        "to_be_removed = ['Flow ID', 'Source IP', 'Source Port', 'Destination IP', 'Destination Port', 'Protocol', 'Timestamp', \n",
        "                 'Init_Win_bytes_backward', \n",
        "                 'Init_Win_bytes_forward',\n",
        "                 'Bwd PSH Flags',\n",
        "                 'Bwd URG Flags',\n",
        "                 'Fwd Avg Bytes/Bulk',\n",
        "                 'Fwd Avg Packets/Bulk',\n",
        "                 'Fwd Avg Bulk Rate',\n",
        "                 'Bwd Avg Bytes/Bulk',\n",
        "                 'Bwd Avg Packets/Bulk',\n",
        "                 'Bwd Avg Bulk Rate',\n",
        "                 'Fwd URG Flags',\n",
        "                 'CWE Flag Count']\n",
        "df = df.drop(columns=to_be_removed, errors='ignore')"
      ],
      "metadata": {
        "id": "Q2teiK9NI277"
      },
      "execution_count": 23,
      "outputs": []
    },
    {
      "cell_type": "code",
      "source": [
        "df.shape\n",
        "df.Label.value_counts()"
      ],
      "metadata": {
        "id": "HUleEbYjI-XA",
        "colab": {
          "base_uri": "https://localhost:8080/"
        },
        "outputId": "010d3844-9d5c-46a1-bdc4-a2f9584215fa"
      },
      "execution_count": 24,
      "outputs": [
        {
          "output_type": "execute_result",
          "data": {
            "text/plain": [
              "(170366, 65)"
            ]
          },
          "metadata": {},
          "execution_count": 24
        },
        {
          "output_type": "execute_result",
          "data": {
            "text/plain": [
              "0    168186\n",
              "1      2180\n",
              "Name: Label, dtype: int64"
            ]
          },
          "metadata": {},
          "execution_count": 24
        }
      ]
    },
    {
      "cell_type": "code",
      "source": [
        "y = df['Label'].copy()\n",
        "X = df.drop(['Label'],axis=1)"
      ],
      "metadata": {
        "id": "6eipig2jJF2_"
      },
      "execution_count": 25,
      "outputs": []
    },
    {
      "cell_type": "code",
      "source": [
        "# balance the data set\n",
        "from imblearn.under_sampling import RandomUnderSampler\n",
        "\n",
        "from collections import Counter\n",
        "print('Original dataset shape %s' % Counter(y))\n",
        "\n",
        "rus = RandomUnderSampler('majority')\n",
        "\n",
        "X_res, y_res = rus.fit_resample(X, y)\n",
        "print('Undersampled dataset shape %s' % Counter(y_res))"
      ],
      "metadata": {
        "id": "3KtC_W5jJPEf",
        "colab": {
          "base_uri": "https://localhost:8080/"
        },
        "outputId": "420d90d6-072f-4606-a69f-9d1677a983cf"
      },
      "execution_count": 26,
      "outputs": [
        {
          "output_type": "stream",
          "name": "stdout",
          "text": [
            "Original dataset shape Counter({0: 168186, 1: 2180})\n",
            "Undersampled dataset shape Counter({0: 2180, 1: 2180})\n"
          ]
        }
      ]
    },
    {
      "cell_type": "code",
      "source": [
        "dff = X_res\n",
        "dff['Label'] = y_res"
      ],
      "metadata": {
        "id": "hK3MzGwWJc2K"
      },
      "execution_count": 27,
      "outputs": []
    },
    {
      "cell_type": "code",
      "source": [
        "dff = X_res\n",
        "dff['Label'] = y_res"
      ],
      "metadata": {
        "id": "14Z9Q4TpJnKf"
      },
      "execution_count": 28,
      "outputs": []
    },
    {
      "cell_type": "code",
      "source": [
        "# Split data into training sets and test sets\n",
        "train, test = train_test_split(dff,test_size=0.2, random_state=0)"
      ],
      "metadata": {
        "id": "7khm_CX1JryT"
      },
      "execution_count": 29,
      "outputs": []
    },
    {
      "cell_type": "code",
      "source": [
        "train, val = train_test_split(train,test_size=0.2, random_state=0)"
      ],
      "metadata": {
        "id": "UE1S7selJ2b4"
      },
      "execution_count": 30,
      "outputs": []
    },
    {
      "cell_type": "code",
      "source": [
        "y_train = train['Label']\n",
        "X_train = train.drop(['Label'],axis=1)\n",
        "\n",
        "y_val = val['Label']\n",
        "X_val = val.drop(['Label'],axis=1)\n",
        "\n",
        "y_test = test['Label']\n",
        "X_test = test.drop(['Label'],axis=1)"
      ],
      "metadata": {
        "id": "iDjv5ovrJ8Cs"
      },
      "execution_count": 31,
      "outputs": []
    },
    {
      "cell_type": "code",
      "source": [
        "# Scaling numerical attributes\n",
        "scaler = StandardScaler()\n",
        "\n",
        "cols = X_train.select_dtypes(include=['float64','int64']).columns\n",
        "\n",
        "sc_train = scaler.fit_transform(X_train.select_dtypes(include=['float64','int64']))\n",
        "sc_val = scaler.transform(X_val.select_dtypes(include=['float64','int64']))\n",
        "sc_test = scaler.transform(X_test.select_dtypes(include=['float64','int64']))"
      ],
      "metadata": {
        "id": "sAd5W2vXKBp6"
      },
      "execution_count": 32,
      "outputs": []
    },
    {
      "cell_type": "code",
      "source": [
        "# Compute the correlation matrix\n",
        "sc_traindf = pd.DataFrame(sc_train, columns = cols)\n",
        "\n",
        "corr = sc_traindf.corr()\n",
        "\n",
        "# Generate a mask for the upper triangle\n",
        "mask = np.triu(np.ones_like(corr, dtype=bool))\n",
        "\n",
        "# Set up the matplotlib figure\n",
        "f, ax = plt.subplots(figsize=(30, 30))\n",
        "\n",
        "# Generate a custom diverging colormap\n",
        "cmap = sns.diverging_palette(240, 10, as_cmap=True)\n",
        "\n",
        "# Draw the heatmap with the mask and correct aspect ratio\n",
        "sns.heatmap(corr, mask=mask, cmap=cmap, vmax=.3, center=0,\n",
        "            square=True, linewidths=.5, cbar_kws={\"shrink\": .5})"
      ],
      "metadata": {
        "id": "LQ5S73zNKLrP",
        "colab": {
          "base_uri": "https://localhost:8080/",
          "height": 1000
        },
        "outputId": "b154e118-4c31-4586-861b-5eb7218b201a"
      },
      "execution_count": 33,
      "outputs": [
        {
          "output_type": "execute_result",
          "data": {
            "text/plain": [
              "<matplotlib.axes._subplots.AxesSubplot at 0x7f69fd538550>"
            ]
          },
          "metadata": {},
          "execution_count": 33
        },
        {
          "output_type": "display_data",
          "data": {
            "text/plain": [
              "<Figure size 2160x2160 with 2 Axes>"
            ],
            "image/png": "[encoded data removed]"
          },
          "metadata": {
            "needs_background": "light"
          }
        }
      ]
    },
    {
      "cell_type": "code",
      "source": [
        "# Train LogisticRegression Model\n",
        "LGR_Classifier = LogisticRegression(n_jobs=-1, random_state=0)\n",
        "LGR_Classifier.fit(sc_train, y_train)"
      ],
      "metadata": {
        "id": "7kStYD6FKR8q",
        "colab": {
          "base_uri": "https://localhost:8080/"
        },
        "outputId": "da00cd35-27ac-4a27-919f-55c9c32390d7"
      },
      "execution_count": 34,
      "outputs": [
        {
          "output_type": "execute_result",
          "data": {
            "text/plain": [
              "LogisticRegression(n_jobs=-1, random_state=0)"
            ]
          },
          "metadata": {},
          "execution_count": 34
        }
      ]
    },
    {
      "cell_type": "code",
      "source": [
        "# Train KNeighborsClassifier Model\n",
        "KNN_Classifier = KNeighborsClassifier(n_jobs=-1)\n",
        "KNN_Classifier.fit(sc_train, y_train)"
      ],
      "metadata": {
        "id": "ZmunIwGgKbpt",
        "colab": {
          "base_uri": "https://localhost:8080/"
        },
        "outputId": "d5998b07-7743-4358-8f01-984bab83a22e"
      },
      "execution_count": 35,
      "outputs": [
        {
          "output_type": "execute_result",
          "data": {
            "text/plain": [
              "KNeighborsClassifier(n_jobs=-1)"
            ]
          },
          "metadata": {},
          "execution_count": 35
        }
      ]
    },
    {
      "cell_type": "code",
      "source": [
        "# Train Decision Tree Model\n",
        "DTC_Classifier = DecisionTreeClassifier(criterion='entropy', random_state=0)\n",
        "DTC_Classifier.fit(sc_train, y_train)"
      ],
      "metadata": {
        "id": "Y0amAbUQKiBC",
        "colab": {
          "base_uri": "https://localhost:8080/"
        },
        "outputId": "cc5cb9e0-f0bf-40fe-a576-a6b66d2cfe4b"
      },
      "execution_count": 36,
      "outputs": [
        {
          "output_type": "execute_result",
          "data": {
            "text/plain": [
              "DecisionTreeClassifier(criterion='entropy', random_state=0)"
            ]
          },
          "metadata": {},
          "execution_count": 36
        }
      ]
    },
    {
      "cell_type": "code",
      "source": [
        "models = []\n",
        "models.append(('LogisticRegression', LGR_Classifier))\n",
        "models.append(('KNeighborsClassifier', KNN_Classifier))\n",
        "models.append(('Decision Tree Classifier', DTC_Classifier))"
      ],
      "metadata": {
        "id": "taXVeX-NKmeY"
      },
      "execution_count": 37,
      "outputs": []
    },
    {
      "cell_type": "code",
      "source": [
        "from sklearn import metrics\n",
        "for i, v in models:\n",
        "    scores = cross_val_score(v, sc_train, y_train, cv=10)\n",
        "    accuracy = metrics.accuracy_score(y_val, v.predict(sc_val))\n",
        "    confusion_matrix = metrics.confusion_matrix(y_val, v.predict(sc_val))\n",
        "    classification = metrics.classification_report(y_val, v.predict(sc_val))\n",
        "    print()\n",
        "    print('============================== {} Model Evaluation =============================='.format(i))\n",
        "    print()\n",
        "    print (\"Cross Validation Mean Score:\" \"\\n\", scores.mean())\n",
        "    print()\n",
        "    print (\"Model Accuracy:\" \"\\n\", accuracy)\n",
        "    print()\n",
        "    print(\"Confusion matrix:\" \"\\n\", confusion_matrix)\n",
        "    print()\n",
        "    print(\"Classification report:\" \"\\n\", classification) \n",
        "    print()"
      ],
      "metadata": {
        "id": "2xZrWj_8Kr7L",
        "colab": {
          "base_uri": "https://localhost:8080/"
        },
        "outputId": "145c6719-a98b-424f-f9b9-2d97261dfac3"
      },
      "execution_count": 38,
      "outputs": [
        {
          "output_type": "stream",
          "name": "stdout",
          "text": [
            "\n",
            "============================== LogisticRegression Model Evaluation ==============================\n",
            "\n",
            "Cross Validation Mean Score:\n",
            " 0.96415770609319\n",
            "\n",
            "Model Accuracy:\n",
            " 0.9627507163323782\n",
            "\n",
            "Confusion matrix:\n",
            " [[325  18]\n",
            " [  8 347]]\n",
            "\n",
            "Classification report:\n",
            "               precision    recall  f1-score   support\n",
            "\n",
            "           0       0.98      0.95      0.96       343\n",
            "           1       0.95      0.98      0.96       355\n",
            "\n",
            "    accuracy                           0.96       698\n",
            "   macro avg       0.96      0.96      0.96       698\n",
            "weighted avg       0.96      0.96      0.96       698\n",
            "\n",
            "\n",
            "\n",
            "============================== KNeighborsClassifier Model Evaluation ==============================\n",
            "\n",
            "Cross Validation Mean Score:\n",
            " 0.9756272401433691\n",
            "\n",
            "Model Accuracy:\n",
            " 0.9727793696275072\n",
            "\n",
            "Confusion matrix:\n",
            " [[334   9]\n",
            " [ 10 345]]\n",
            "\n",
            "Classification report:\n",
            "               precision    recall  f1-score   support\n",
            "\n",
            "           0       0.97      0.97      0.97       343\n",
            "           1       0.97      0.97      0.97       355\n",
            "\n",
            "    accuracy                           0.97       698\n",
            "   macro avg       0.97      0.97      0.97       698\n",
            "weighted avg       0.97      0.97      0.97       698\n",
            "\n",
            "\n",
            "\n",
            "============================== Decision Tree Classifier Model Evaluation ==============================\n",
            "\n",
            "Cross Validation Mean Score:\n",
            " 0.9795698924731182\n",
            "\n",
            "Model Accuracy:\n",
            " 0.9742120343839542\n",
            "\n",
            "Confusion matrix:\n",
            " [[335   8]\n",
            " [ 10 345]]\n",
            "\n",
            "Classification report:\n",
            "               precision    recall  f1-score   support\n",
            "\n",
            "           0       0.97      0.98      0.97       343\n",
            "           1       0.98      0.97      0.97       355\n",
            "\n",
            "    accuracy                           0.97       698\n",
            "   macro avg       0.97      0.97      0.97       698\n",
            "weighted avg       0.97      0.97      0.97       698\n",
            "\n",
            "\n"
          ]
        }
      ]
    }
  ]
}